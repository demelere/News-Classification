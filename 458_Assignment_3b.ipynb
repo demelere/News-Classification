{
  "nbformat": 4,
  "nbformat_minor": 0,
  "metadata": {
    "kernelspec": {
      "display_name": "Python 3",
      "language": "python",
      "name": "python3"
    },
    "language_info": {
      "codemirror_mode": {
        "name": "ipython",
        "version": 3
      },
      "file_extension": ".py",
      "mimetype": "text/x-python",
      "name": "python",
      "nbconvert_exporter": "python",
      "pygments_lexer": "ipython3",
      "version": "3.6.8"
    },
    "toc": {
      "base_numbering": 1,
      "nav_menu": {},
      "number_sections": false,
      "sideBar": true,
      "skip_h1_title": false,
      "title_cell": "Table of Contents",
      "title_sidebar": "Contents",
      "toc_cell": false,
      "toc_position": {},
      "toc_section_display": true,
      "toc_window_display": false
    },
    "colab": {
      "name": "458 - Assignment 3b.ipynb",
      "provenance": [],
      "collapsed_sections": [],
      "toc_visible": true,
      "include_colab_link": true
    }
  },
  "cells": [
    {
      "cell_type": "markdown",
      "metadata": {
        "id": "view-in-github",
        "colab_type": "text"
      },
      "source": [
        "<a href=\"https://colab.research.google.com/github/demelere/News-Classification/blob/master/458_Assignment_3b.ipynb\" target=\"_parent\"><img src=\"https://colab.research.google.com/assets/colab-badge.svg\" alt=\"Open In Colab\"/></a>"
      ]
    },
    {
      "cell_type": "markdown",
      "metadata": {
        "id": "BhZbcQ3lELN_",
        "colab_type": "text"
      },
      "source": [
        "# A. Setup"
      ]
    },
    {
      "cell_type": "code",
      "metadata": {
        "id": "Ebg0mflfELOA",
        "colab_type": "code",
        "colab": {
          "base_uri": "https://localhost:8080/",
          "height": 71
        },
        "outputId": "6a5346d7-9a59-459e-acdb-beb691d3c67f"
      },
      "source": [
        "import numpy as np\n",
        "import pandas as pd\n",
        "import os\n",
        "from collections import Counter\n",
        "import datetime\n",
        "import copy\n",
        "\n",
        "import tensorflow as tf\n",
        "from tensorflow import keras\n",
        "from tensorflow.keras.datasets import reuters\n",
        "from tensorflow.keras import preprocessing\n",
        "from tensorflow.keras import models\n",
        "from tensorflow.keras import layers\n",
        "from tensorflow.keras import optimizers\n",
        "from tensorflow.keras import regularizers\n",
        "from tensorflow.keras.utils import to_categorical\n",
        "from tensorflow.keras.models import Sequential\n",
        "from tensorflow.keras.layers import Dense, Flatten, Embedding, SimpleRNN, LSTM, Conv1D, MaxPooling1D\n",
        "\n",
        "%matplotlib inline\n",
        "import matplotlib.pyplot as plt\n",
        "import seaborn as sns"
      ],
      "execution_count": 1,
      "outputs": [
        {
          "output_type": "stream",
          "text": [
            "/usr/local/lib/python3.6/dist-packages/statsmodels/tools/_testing.py:19: FutureWarning: pandas.util.testing is deprecated. Use the functions in the public API at pandas.testing instead.\n",
            "  import pandas.util.testing as tm\n"
          ],
          "name": "stderr"
        }
      ]
    },
    {
      "cell_type": "code",
      "metadata": {
        "id": "X0-uM07UELOE",
        "colab_type": "code",
        "colab": {
          "base_uri": "https://localhost:8080/",
          "height": 35
        },
        "outputId": "3da10033-45e4-4531-8408-30dbb508fb9c"
      },
      "source": [
        "keras.__version__"
      ],
      "execution_count": 2,
      "outputs": [
        {
          "output_type": "execute_result",
          "data": {
            "application/vnd.google.colaboratory.intrinsic+json": {
              "type": "string"
            },
            "text/plain": [
              "'2.4.0'"
            ]
          },
          "metadata": {
            "tags": []
          },
          "execution_count": 2
        }
      ]
    },
    {
      "cell_type": "code",
      "metadata": {
        "id": "d3VgaVDAELOI",
        "colab_type": "code",
        "colab": {}
      },
      "source": [
        "keras.backend.clear_session()\n",
        "np.random.seed(42)\n",
        "tf.random.set_seed(42)"
      ],
      "execution_count": 3,
      "outputs": []
    },
    {
      "cell_type": "markdown",
      "metadata": {
        "id": "ExTmkXZnELOT",
        "colab_type": "text"
      },
      "source": [
        "## B. Data import"
      ]
    },
    {
      "cell_type": "code",
      "metadata": {
        "id": "ob3CFiBAELOU",
        "colab_type": "code",
        "colab": {
          "base_uri": "https://localhost:8080/",
          "height": 71
        },
        "outputId": "f3e3bd28-9f5d-49c7-ccc7-0738dc0c999b"
      },
      "source": [
        "# Restrict data to the 10000 most frequent words in the data\n",
        "voc_size = 10000\n",
        "\n",
        "(train_data, train_labels), (test_data, test_labels) = reuters.load_data(num_words=voc_size)"
      ],
      "execution_count": 4,
      "outputs": [
        {
          "output_type": "stream",
          "text": [
            "Downloading data from https://storage.googleapis.com/tensorflow/tf-keras-datasets/reuters.npz\n",
            "2113536/2110848 [==============================] - 0s 0us/step\n"
          ],
          "name": "stdout"
        }
      ]
    },
    {
      "cell_type": "code",
      "metadata": {
        "id": "V3uNs6R7ELOa",
        "colab_type": "code",
        "colab": {
          "base_uri": "https://localhost:8080/",
          "height": 34
        },
        "outputId": "d0ba4a3d-117f-41ca-ec2a-69d609e37fff"
      },
      "source": [
        "len(train_data), len(train_labels), len(test_data), len(test_labels)"
      ],
      "execution_count": 5,
      "outputs": [
        {
          "output_type": "execute_result",
          "data": {
            "text/plain": [
              "(8982, 8982, 2246, 2246)"
            ]
          },
          "metadata": {
            "tags": []
          },
          "execution_count": 5
        }
      ]
    },
    {
      "cell_type": "code",
      "metadata": {
        "id": "FJPuwIVrELOe",
        "colab_type": "code",
        "colab": {
          "base_uri": "https://localhost:8080/",
          "height": 54
        },
        "outputId": "0afd2c8a-035b-43e2-919d-67bb6289ecb3"
      },
      "source": [
        "print(train_data[1]) "
      ],
      "execution_count": 6,
      "outputs": [
        {
          "output_type": "stream",
          "text": [
            "[1, 3267, 699, 3434, 2295, 56, 2, 7511, 9, 56, 3906, 1073, 81, 5, 1198, 57, 366, 737, 132, 20, 4093, 7, 2, 49, 2295, 2, 1037, 3267, 699, 3434, 8, 7, 10, 241, 16, 855, 129, 231, 783, 5, 4, 587, 2295, 2, 2, 775, 7, 48, 34, 191, 44, 35, 1795, 505, 17, 12]\n"
          ],
          "name": "stdout"
        }
      ]
    },
    {
      "cell_type": "code",
      "metadata": {
        "id": "3Nn60Z5ZELOi",
        "colab_type": "code",
        "colab": {
          "base_uri": "https://localhost:8080/",
          "height": 34
        },
        "outputId": "1a5de2c7-2eb8-4736-e81f-7a54b1c39649"
      },
      "source": [
        "max([len(set(lst)) for lst in train_data])"
      ],
      "execution_count": 7,
      "outputs": [
        {
          "output_type": "execute_result",
          "data": {
            "text/plain": [
              "530"
            ]
          },
          "metadata": {
            "tags": []
          },
          "execution_count": 7
        }
      ]
    },
    {
      "cell_type": "code",
      "metadata": {
        "id": "Fs7_xna3ELOm",
        "colab_type": "code",
        "colab": {
          "base_uri": "https://localhost:8080/",
          "height": 140
        },
        "outputId": "1b8e8e8e-7a6c-4bad-c4ce-41b80f4dd1c3"
      },
      "source": [
        "# Use the reuters.get_word_index method to return a dictionary to translate indices to words\n",
        "word_index = reuters.get_word_index()\n",
        "reverse_word_index = dict([(value, key) for (key, value) in word_index.items()])\n",
        "decoded_newswire = ' '.join([reverse_word_index.get(i - 3, '?') for i in train_data[1]])\n",
        "decoded_newswire"
      ],
      "execution_count": 8,
      "outputs": [
        {
          "output_type": "stream",
          "text": [
            "Downloading data from https://storage.googleapis.com/tensorflow/tf-keras-datasets/reuters_word_index.json\n",
            "557056/550378 [==============================] - 0s 0us/step\n"
          ],
          "name": "stdout"
        },
        {
          "output_type": "execute_result",
          "data": {
            "application/vnd.google.colaboratory.intrinsic+json": {
              "type": "string"
            },
            "text/plain": [
              "'? generale de banque sa lt ? br and lt heller overseas corp of chicago have each taken 50 pct stakes in ? company sa ? factors generale de banque said in a statement it gave no financial details of the transaction sa ? ? turnover in 1986 was 17 5 billion belgian francs reuter 3'"
            ]
          },
          "metadata": {
            "tags": []
          },
          "execution_count": 8
        }
      ]
    },
    {
      "cell_type": "code",
      "metadata": {
        "id": "hixN2TMqELOp",
        "colab_type": "code",
        "colab": {
          "base_uri": "https://localhost:8080/",
          "height": 34
        },
        "outputId": "8e330e6a-031e-46ab-d903-43262d2bbf32"
      },
      "source": [
        "# Number of words in the document\n",
        "len(decoded_newswire.split()) "
      ],
      "execution_count": 9,
      "outputs": [
        {
          "output_type": "execute_result",
          "data": {
            "text/plain": [
              "56"
            ]
          },
          "metadata": {
            "tags": []
          },
          "execution_count": 9
        }
      ]
    },
    {
      "cell_type": "code",
      "metadata": {
        "id": "ittyDb-uELOt",
        "colab_type": "code",
        "colab": {
          "base_uri": "https://localhost:8080/",
          "height": 34
        },
        "outputId": "ab774f15-fb5d-42df-d0bf-607e150c87c5"
      },
      "source": [
        "# First 7 words in the document\n",
        "decoded_newswire.split()[:7]"
      ],
      "execution_count": 10,
      "outputs": [
        {
          "output_type": "execute_result",
          "data": {
            "text/plain": [
              "['?', 'generale', 'de', 'banque', 'sa', 'lt', '?']"
            ]
          },
          "metadata": {
            "tags": []
          },
          "execution_count": 10
        }
      ]
    },
    {
      "cell_type": "code",
      "metadata": {
        "id": "sKA3Dm3AELOw",
        "colab_type": "code",
        "colab": {
          "base_uri": "https://localhost:8080/",
          "height": 34
        },
        "outputId": "1e6ed3d8-54f9-4f9f-8479-c923b3663736"
      },
      "source": [
        "# The list of encodings is the same size as the number of words in the document\n",
        "len(train_data[1])"
      ],
      "execution_count": 11,
      "outputs": [
        {
          "output_type": "execute_result",
          "data": {
            "text/plain": [
              "56"
            ]
          },
          "metadata": {
            "tags": []
          },
          "execution_count": 11
        }
      ]
    },
    {
      "cell_type": "code",
      "metadata": {
        "id": "IsSD1cD0ELOz",
        "colab_type": "code",
        "colab": {
          "base_uri": "https://localhost:8080/",
          "height": 34
        },
        "outputId": "252e1db2-fd70-4d1b-bbbf-751d0c16d640"
      },
      "source": [
        "train_data[1][:7] # The encodings of the first 7 words in the document. Again, 2 = \"unknown\""
      ],
      "execution_count": 12,
      "outputs": [
        {
          "output_type": "execute_result",
          "data": {
            "text/plain": [
              "[1, 3267, 699, 3434, 2295, 56, 2]"
            ]
          },
          "metadata": {
            "tags": []
          },
          "execution_count": 12
        }
      ]
    },
    {
      "cell_type": "code",
      "metadata": {
        "id": "j0yecW3lELO5",
        "colab_type": "code",
        "colab": {
          "base_uri": "https://localhost:8080/",
          "height": 34
        },
        "outputId": "abf89ce8-bd78-41a9-ab80-1e63802171b7"
      },
      "source": [
        "len(Counter(list(train_labels)).keys()) # There are 46 topics"
      ],
      "execution_count": 13,
      "outputs": [
        {
          "output_type": "execute_result",
          "data": {
            "text/plain": [
              "46"
            ]
          },
          "metadata": {
            "tags": []
          },
          "execution_count": 13
        }
      ]
    },
    {
      "cell_type": "code",
      "metadata": {
        "id": "RUGbQ7-9ELO_",
        "colab_type": "code",
        "colab": {
          "base_uri": "https://localhost:8080/",
          "height": 187
        },
        "outputId": "cc4e6560-dbe0-42b4-a7c4-31e698fad101"
      },
      "source": [
        "# The ten most common train labels\n",
        "from collections import Counter\n",
        "train_label_tuples = \\\n",
        "Counter(list(train_labels)).most_common(10) # if we keep the top nine we get the same training and test labels\n",
        "train_label_tuples"
      ],
      "execution_count": 14,
      "outputs": [
        {
          "output_type": "execute_result",
          "data": {
            "text/plain": [
              "[(3, 3159),\n",
              " (4, 1949),\n",
              " (19, 549),\n",
              " (16, 444),\n",
              " (1, 432),\n",
              " (11, 390),\n",
              " (20, 269),\n",
              " (13, 172),\n",
              " (8, 139),\n",
              " (10, 124)]"
            ]
          },
          "metadata": {
            "tags": []
          },
          "execution_count": 14
        }
      ]
    },
    {
      "cell_type": "code",
      "metadata": {
        "id": "JH9UP-XLELPD",
        "colab_type": "code",
        "colab": {
          "base_uri": "https://localhost:8080/",
          "height": 187
        },
        "outputId": "ffda2f4c-ed89-401f-9aa7-dc6be801e68b"
      },
      "source": [
        "# The ten most common test labels\n",
        "from collections import Counter\n",
        "test_label_tuples = \\\n",
        "Counter(list(test_labels)).most_common(10) # if we keep the top 9 we get the same training and test labels\n",
        "test_label_tuples"
      ],
      "execution_count": 15,
      "outputs": [
        {
          "output_type": "execute_result",
          "data": {
            "text/plain": [
              "[(3, 813),\n",
              " (4, 474),\n",
              " (19, 133),\n",
              " (1, 105),\n",
              " (16, 99),\n",
              " (11, 83),\n",
              " (20, 70),\n",
              " (8, 38),\n",
              " (13, 37),\n",
              " (25, 31)]"
            ]
          },
          "metadata": {
            "tags": []
          },
          "execution_count": 15
        }
      ]
    },
    {
      "cell_type": "code",
      "metadata": {
        "id": "NOEevJBvELPH",
        "colab_type": "code",
        "colab": {
          "base_uri": "https://localhost:8080/",
          "height": 34
        },
        "outputId": "0b2c4a86-ef91-4f4c-f619-3557ca475cb3"
      },
      "source": [
        "\n",
        "\n",
        "# Separate the the labels from their frequencies\n",
        "topics_train_tpl, train_freq = zip(*Counter(list(train_labels)).most_common(9))\n",
        "topics_train_tpl"
      ],
      "execution_count": 16,
      "outputs": [
        {
          "output_type": "execute_result",
          "data": {
            "text/plain": [
              "(3, 4, 19, 16, 1, 11, 20, 13, 8)"
            ]
          },
          "metadata": {
            "tags": []
          },
          "execution_count": 16
        }
      ]
    },
    {
      "cell_type": "code",
      "metadata": {
        "id": "ha0IZumaELPK",
        "colab_type": "code",
        "colab": {
          "base_uri": "https://localhost:8080/",
          "height": 34
        },
        "outputId": "1fa18dff-8363-411f-9f86-0088b835dd81"
      },
      "source": [
        "train_freq"
      ],
      "execution_count": 17,
      "outputs": [
        {
          "output_type": "execute_result",
          "data": {
            "text/plain": [
              "(3159, 1949, 549, 444, 432, 390, 269, 172, 139)"
            ]
          },
          "metadata": {
            "tags": []
          },
          "execution_count": 17
        }
      ]
    },
    {
      "cell_type": "code",
      "metadata": {
        "id": "6CBoq8-1ELPM",
        "colab_type": "code",
        "colab": {
          "base_uri": "https://localhost:8080/",
          "height": 34
        },
        "outputId": "b47fc1d0-2a82-493f-dfa6-da4faeaba95e"
      },
      "source": [
        "topics_test_tpl, test_freq = zip(*Counter(list(test_labels)).most_common(9))\n",
        "topics_test_tpl"
      ],
      "execution_count": 18,
      "outputs": [
        {
          "output_type": "execute_result",
          "data": {
            "text/plain": [
              "(3, 4, 19, 1, 16, 11, 20, 8, 13)"
            ]
          },
          "metadata": {
            "tags": []
          },
          "execution_count": 18
        }
      ]
    },
    {
      "cell_type": "code",
      "metadata": {
        "id": "d68BPiLnELPP",
        "colab_type": "code",
        "colab": {
          "base_uri": "https://localhost:8080/",
          "height": 34
        },
        "outputId": "0744f99a-6b22-4f32-eee5-f81b642fdcdc"
      },
      "source": [
        "sum(test_freq) # number of test values in top 10"
      ],
      "execution_count": 19,
      "outputs": [
        {
          "output_type": "execute_result",
          "data": {
            "text/plain": [
              "1852"
            ]
          },
          "metadata": {
            "tags": []
          },
          "execution_count": 19
        }
      ]
    },
    {
      "cell_type": "code",
      "metadata": {
        "id": "3Vf01su5ELPR",
        "colab_type": "code",
        "colab": {
          "base_uri": "https://localhost:8080/",
          "height": 34
        },
        "outputId": "f50bb4a2-d3ee-48ec-d3b3-218dbcd32143"
      },
      "source": [
        "sum(train_freq)  # number of training values in top 10"
      ],
      "execution_count": 20,
      "outputs": [
        {
          "output_type": "execute_result",
          "data": {
            "text/plain": [
              "7503"
            ]
          },
          "metadata": {
            "tags": []
          },
          "execution_count": 20
        }
      ]
    },
    {
      "cell_type": "code",
      "metadata": {
        "id": "HuNz-DHlELPV",
        "colab_type": "code",
        "colab": {}
      },
      "source": [
        "train_data_sm, train_labels_sm = zip(*((x,y) for x,y in zip(train_data,train_labels) if y in topics_train_tpl))"
      ],
      "execution_count": 21,
      "outputs": []
    },
    {
      "cell_type": "code",
      "metadata": {
        "id": "ixsrqgaZELPY",
        "colab_type": "code",
        "colab": {}
      },
      "source": [
        "train_data_sm, train_labels_sm = np.array(train_data_sm), np.array(train_labels_sm)"
      ],
      "execution_count": 22,
      "outputs": []
    },
    {
      "cell_type": "code",
      "metadata": {
        "id": "VISDal0JELPb",
        "colab_type": "code",
        "colab": {
          "base_uri": "https://localhost:8080/",
          "height": 34
        },
        "outputId": "f77c9105-d4a6-4fb0-92f5-52bea442c7b6"
      },
      "source": [
        "len(train_data_sm), len(train_labels_sm)  # matches number of training values in top 10"
      ],
      "execution_count": 23,
      "outputs": [
        {
          "output_type": "execute_result",
          "data": {
            "text/plain": [
              "(7503, 7503)"
            ]
          },
          "metadata": {
            "tags": []
          },
          "execution_count": 23
        }
      ]
    },
    {
      "cell_type": "code",
      "metadata": {
        "id": "MwVsac0gELPe",
        "colab_type": "code",
        "colab": {}
      },
      "source": [
        "test_data_sm, test_labels_sm = zip(*((x,y) for x,y in zip(test_data,test_labels) if y in topics_test_tpl))"
      ],
      "execution_count": 24,
      "outputs": []
    },
    {
      "cell_type": "code",
      "metadata": {
        "id": "70R2yuDzELPg",
        "colab_type": "code",
        "colab": {}
      },
      "source": [
        "test_data_sm, test_labels_sm = np.array(test_data_sm), np.array(test_labels_sm)"
      ],
      "execution_count": 25,
      "outputs": []
    },
    {
      "cell_type": "code",
      "metadata": {
        "id": "B25K9F_gELPj",
        "colab_type": "code",
        "colab": {
          "base_uri": "https://localhost:8080/",
          "height": 34
        },
        "outputId": "66052281-4d50-46cd-b266-0b8af79ef40d"
      },
      "source": [
        "len(test_data_sm), len(test_labels_sm) # matches number of test values in top 10"
      ],
      "execution_count": 26,
      "outputs": [
        {
          "output_type": "execute_result",
          "data": {
            "text/plain": [
              "(1852, 1852)"
            ]
          },
          "metadata": {
            "tags": []
          },
          "execution_count": 26
        }
      ]
    },
    {
      "cell_type": "code",
      "metadata": {
        "id": "ToUC5P4_ELPm",
        "colab_type": "code",
        "colab": {
          "base_uri": "https://localhost:8080/",
          "height": 170
        },
        "outputId": "6d7aea66-b61a-4315-90fd-e5b93e5a03a3"
      },
      "source": [
        "Counter(train_labels_sm)"
      ],
      "execution_count": 27,
      "outputs": [
        {
          "output_type": "execute_result",
          "data": {
            "text/plain": [
              "Counter({1: 432,\n",
              "         3: 3159,\n",
              "         4: 1949,\n",
              "         8: 139,\n",
              "         11: 390,\n",
              "         13: 172,\n",
              "         16: 444,\n",
              "         19: 549,\n",
              "         20: 269})"
            ]
          },
          "metadata": {
            "tags": []
          },
          "execution_count": 27
        }
      ]
    },
    {
      "cell_type": "code",
      "metadata": {
        "id": "2Em5SRkvELPp",
        "colab_type": "code",
        "colab": {
          "base_uri": "https://localhost:8080/",
          "height": 170
        },
        "outputId": "2fcba41e-680b-4208-a44d-3aeaf486cf6c"
      },
      "source": [
        "Counter(test_labels_sm)"
      ],
      "execution_count": 28,
      "outputs": [
        {
          "output_type": "execute_result",
          "data": {
            "text/plain": [
              "Counter({1: 105,\n",
              "         3: 813,\n",
              "         4: 474,\n",
              "         8: 38,\n",
              "         11: 83,\n",
              "         13: 37,\n",
              "         16: 99,\n",
              "         19: 133,\n",
              "         20: 70})"
            ]
          },
          "metadata": {
            "tags": []
          },
          "execution_count": 28
        }
      ]
    },
    {
      "cell_type": "code",
      "metadata": {
        "id": "4NXSpSnAELPt",
        "colab_type": "code",
        "colab": {
          "base_uri": "https://localhost:8080/",
          "height": 34
        },
        "outputId": "7f6b1974-e3e3-4e8e-f828-e2d73a02114d"
      },
      "source": [
        "# first define relabeling function\n",
        "keys = Counter(test_labels_sm).keys()\n",
        "conv = dict(zip(sorted(keys),range(0,9)))\n",
        "conv"
      ],
      "execution_count": 29,
      "outputs": [
        {
          "output_type": "execute_result",
          "data": {
            "text/plain": [
              "{1: 0, 3: 1, 4: 2, 8: 3, 11: 4, 13: 5, 16: 6, 19: 7, 20: 8}"
            ]
          },
          "metadata": {
            "tags": []
          },
          "execution_count": 29
        }
      ]
    },
    {
      "cell_type": "code",
      "metadata": {
        "id": "dXw-EYSRELPw",
        "colab_type": "code",
        "colab": {
          "base_uri": "https://localhost:8080/",
          "height": 71
        },
        "outputId": "cada4654-67db-43cf-c462-95250706528a"
      },
      "source": [
        "# next create the new labels\n",
        "train_labels_sm2 = [conv[l] for l in train_labels_sm]\n",
        "test_labels_sm2 = [conv[l] for l in test_labels_sm]\n",
        "print(Counter(train_labels_sm2))  # Looks like they were relabeled correctly\n",
        "print(Counter(test_labels_sm2))   # Looks like they were relabeled correctly"
      ],
      "execution_count": 30,
      "outputs": [
        {
          "output_type": "stream",
          "text": [
            "Counter({1: 3159, 2: 1949, 7: 549, 6: 444, 0: 432, 4: 390, 8: 269, 5: 172, 3: 139})\n",
            "Counter({1: 813, 2: 474, 7: 133, 0: 105, 6: 99, 4: 83, 8: 70, 3: 38, 5: 37})\n"
          ],
          "name": "stdout"
        }
      ]
    },
    {
      "cell_type": "code",
      "metadata": {
        "id": "k3XaHlMoELP0",
        "colab_type": "code",
        "colab": {}
      },
      "source": [
        "# https://www.kaggle.com/maximarufo/nlp-classification-reuters-dataset\n",
        "class_to_idx =  \\\n",
        "{'copper': 6, 'livestock': 28, 'gold': 25, \n",
        " 'money-fx': 19, 'ipi': 30, 'trade': 11, \n",
        " 'cocoa': 0, 'iron-steel': 31, 'reserves': 12, \n",
        " 'tin': 26, 'zinc': 37, 'jobs': 34, 'ship': 13, \n",
        " 'cotton': 14, 'alum': 23, 'strategic-metal': 27, \n",
        " 'lead': 45, 'housing': 7, 'meal-feed': 22, 'gnp': 21, \n",
        " 'sugar': 10, 'rubber': 32, 'dlr': 40, 'veg-oil': 2, \n",
        " 'interest': 20, 'crude': 16, 'coffee': 9, 'wheat': 5, \n",
        " 'carcass': 15, 'lei': 35, 'gas': 41, 'nat-gas': 17, \n",
        " 'oilseed': 24, 'orange': 38, 'heat': 33, 'wpi': 43, \n",
        " 'silver': 42, 'cpi': 18, 'earn': 3, 'bop': 36, 'money-supply': 8, \n",
        " 'hog': 44, 'acq': 4, 'pet-chem': 39, 'grain': 1, 'retail': 29}"
      ],
      "execution_count": 31,
      "outputs": []
    },
    {
      "cell_type": "code",
      "metadata": {
        "id": "dFw1ZPcvELP3",
        "colab_type": "code",
        "colab": {
          "base_uri": "https://localhost:8080/",
          "height": 272
        },
        "outputId": "666341e0-c1d5-470e-ea2f-851b75895141"
      },
      "source": [
        "idx_to_class = dict([(value, key) for (key, value) in class_to_idx.items()])\n",
        "{k: idx_to_class[k] for k in list(idx_to_class)[:15]} # get 15 key value pairs"
      ],
      "execution_count": 32,
      "outputs": [
        {
          "output_type": "execute_result",
          "data": {
            "text/plain": [
              "{0: 'cocoa',\n",
              " 6: 'copper',\n",
              " 11: 'trade',\n",
              " 12: 'reserves',\n",
              " 13: 'ship',\n",
              " 14: 'cotton',\n",
              " 19: 'money-fx',\n",
              " 23: 'alum',\n",
              " 25: 'gold',\n",
              " 26: 'tin',\n",
              " 28: 'livestock',\n",
              " 30: 'ipi',\n",
              " 31: 'iron-steel',\n",
              " 34: 'jobs',\n",
              " 37: 'zinc'}"
            ]
          },
          "metadata": {
            "tags": []
          },
          "execution_count": 32
        }
      ]
    },
    {
      "cell_type": "code",
      "metadata": {
        "id": "2Wu7svCvELP_",
        "colab_type": "code",
        "colab": {
          "base_uri": "https://localhost:8080/",
          "height": 170
        },
        "outputId": "35c33c30-716d-4c18-b3d0-63c0156b5ecc"
      },
      "source": [
        "# get the dictionary for our smaller data set\n",
        "idx_to_class_sm = {k:v for k,v in idx_to_class.items() if k in topics_test_tpl}\n",
        "idx_to_class_sm "
      ],
      "execution_count": 33,
      "outputs": [
        {
          "output_type": "execute_result",
          "data": {
            "text/plain": [
              "{1: 'grain',\n",
              " 3: 'earn',\n",
              " 4: 'acq',\n",
              " 8: 'money-supply',\n",
              " 11: 'trade',\n",
              " 13: 'ship',\n",
              " 16: 'crude',\n",
              " 19: 'money-fx',\n",
              " 20: 'interest'}"
            ]
          },
          "metadata": {
            "tags": []
          },
          "execution_count": 33
        }
      ]
    },
    {
      "cell_type": "code",
      "metadata": {
        "id": "7nfXz08NELQC",
        "colab_type": "code",
        "colab": {
          "base_uri": "https://localhost:8080/",
          "height": 154
        },
        "outputId": "4cd14769-83b8-4e3b-c8e5-080e2aca9424"
      },
      "source": [
        "# Explore a selection of records from the smaller set\n",
        "decoded_newswire = ' '.join([reverse_word_index.get(i - 3, '?') for i in train_data_sm[16]])\n",
        "decoded_newswire"
      ],
      "execution_count": 34,
      "outputs": [
        {
          "output_type": "execute_result",
          "data": {
            "application/vnd.google.colaboratory.intrinsic+json": {
              "type": "string"
            },
            "text/plain": [
              "'? standard oil co said a contract has been awarded to lt cbs engineering inc for a drilling and production platform to be installed in ? bank block 826 in the gulf of mexico where standard and mobil corp each own a 40 pct interest standard said its standard oil production co subsidiary will operate the platform which is being designed to produce 15 000 barrels of oil and 50 mln cubic feet of gas daily the platform is now expected to be installed in the summer of 1988 other owners are ? ? corp lt ? with 16 66 pct and lt prudential insurance co of america with 3 34 pct reuter 3'"
            ]
          },
          "metadata": {
            "tags": []
          },
          "execution_count": 34
        }
      ]
    },
    {
      "cell_type": "code",
      "metadata": {
        "id": "9lCo0VASELQF",
        "colab_type": "code",
        "colab": {
          "base_uri": "https://localhost:8080/",
          "height": 35
        },
        "outputId": "69d36b58-a214-40f8-b254-fafb2ce3e860"
      },
      "source": [
        "idx_to_class_sm[train_labels_sm[16]]   # checking the dictionary...topic seems to be right"
      ],
      "execution_count": 35,
      "outputs": [
        {
          "output_type": "execute_result",
          "data": {
            "application/vnd.google.colaboratory.intrinsic+json": {
              "type": "string"
            },
            "text/plain": [
              "'crude'"
            ]
          },
          "metadata": {
            "tags": []
          },
          "execution_count": 35
        }
      ]
    },
    {
      "cell_type": "code",
      "metadata": {
        "id": "txyiDKdHELQJ",
        "colab_type": "code",
        "colab": {
          "base_uri": "https://localhost:8080/",
          "height": 34
        },
        "outputId": "1b5dff64-d0ba-49bb-9699-731b75e47d63"
      },
      "source": [
        "train_data_sm.shape, test_data_sm.shape, train_data.shape, test_data.shape"
      ],
      "execution_count": 36,
      "outputs": [
        {
          "output_type": "execute_result",
          "data": {
            "text/plain": [
              "((7503,), (1852,), (8982,), (2246,))"
            ]
          },
          "metadata": {
            "tags": []
          },
          "execution_count": 36
        }
      ]
    },
    {
      "cell_type": "code",
      "metadata": {
        "id": "K1gt7kRJELQM",
        "colab_type": "code",
        "colab": {}
      },
      "source": [
        "# https://github.com/fchollet/deep-learning-with-python-notebooks/blob/master/3.6-classifying-newswires.ipynb\n",
        "def vectorize_sequences(sequences, dimension=voc_size):   # one row per one column per word in the vocabulary\n",
        "    results = np.zeros((len(sequences), dimension))\n",
        "    \n",
        "    # Say the the ith sequence = [12, 15, 12, 1], then results[i,squence] = 1 is equivalent to\n",
        "    # results[12] = 1 (executed twice)\n",
        "    # results[15] = 1\n",
        "    # results]1] = 1\n",
        "    # Consequently, the ith row will consist of 1s in columns 1, 12 and 15, and 0s everywhere else\n",
        "    for i, sequence in enumerate(sequences):\n",
        "        results[i, sequence] = 1.\n",
        "    return results\n",
        "\n",
        "# Our vectorized training data for both the original and smaller datasets\n",
        "train_data_smv = vectorize_sequences(train_data_sm)\n",
        "train_data_v = vectorize_sequences(train_data)\n",
        "# Our vectorized test data for both the original and smaller datasets\n",
        "test_data_smv = vectorize_sequences(test_data_sm)\n",
        "test_data_v = vectorize_sequences(test_data)"
      ],
      "execution_count": 37,
      "outputs": []
    },
    {
      "cell_type": "code",
      "metadata": {
        "id": "y7zXW1c-ELQT",
        "colab_type": "code",
        "colab": {
          "base_uri": "https://localhost:8080/",
          "height": 34
        },
        "outputId": "1ca4fe74-6d9d-4365-ea3b-d790f209e463"
      },
      "source": [
        "train_data_sm.shape, train_data_smv.shape, test_data_sm.shape, test_data_smv.shape"
      ],
      "execution_count": 38,
      "outputs": [
        {
          "output_type": "execute_result",
          "data": {
            "text/plain": [
              "((7503,), (7503, 10000), (1852,), (1852, 10000))"
            ]
          },
          "metadata": {
            "tags": []
          },
          "execution_count": 38
        }
      ]
    },
    {
      "cell_type": "code",
      "metadata": {
        "id": "WDUxRvUdELQW",
        "colab_type": "code",
        "colab": {
          "base_uri": "https://localhost:8080/",
          "height": 34
        },
        "outputId": "4210a97c-9201-4bfc-c2d6-c0d15a86a4a2"
      },
      "source": [
        "# Summary of the shapes of the training and test data before and after vectorization\n",
        "train_data.shape, train_data_v.shape, test_data_v.shape, test_data_v.shape"
      ],
      "execution_count": 39,
      "outputs": [
        {
          "output_type": "execute_result",
          "data": {
            "text/plain": [
              "((8982,), (8982, 10000), (2246, 10000), (2246, 10000))"
            ]
          },
          "metadata": {
            "tags": []
          },
          "execution_count": 39
        }
      ]
    },
    {
      "cell_type": "code",
      "metadata": {
        "id": "1okuL8plELQb",
        "colab_type": "code",
        "colab": {}
      },
      "source": [
        "# [1,0,0,0,0,1,0]"
      ],
      "execution_count": 40,
      "outputs": []
    },
    {
      "cell_type": "code",
      "metadata": {
        "id": "dEQatIw6ELQd",
        "colab_type": "code",
        "colab": {}
      },
      "source": [
        "#https://www.tensorflow.org/api_docs/python/tf/keras/utils/to_categorical\n",
        "one_hot_train_labels_sm = to_categorical(train_labels_sm2)\n",
        "one_hot_test_labels_sm = to_categorical(test_labels_sm2)\n",
        "one_hot_train_labels = to_categorical(train_labels)\n",
        "one_hot_test_labels = to_categorical(test_labels)"
      ],
      "execution_count": 41,
      "outputs": []
    },
    {
      "cell_type": "code",
      "metadata": {
        "id": "KEuGT5j0ELQl",
        "colab_type": "code",
        "colab": {
          "base_uri": "https://localhost:8080/",
          "height": 34
        },
        "outputId": "52d6f106-9ab2-451e-e5d0-097924a1f589"
      },
      "source": [
        "# Shape of the training and test labels after (categorical) vectorization\n",
        "one_hot_train_labels_sm.shape, one_hot_test_labels_sm.shape"
      ],
      "execution_count": 42,
      "outputs": [
        {
          "output_type": "execute_result",
          "data": {
            "text/plain": [
              "((7503, 9), (1852, 9))"
            ]
          },
          "metadata": {
            "tags": []
          },
          "execution_count": 42
        }
      ]
    },
    {
      "cell_type": "code",
      "metadata": {
        "id": "Z3g81m9bELQn",
        "colab_type": "code",
        "colab": {}
      },
      "source": [
        "# Define callback to get total training time\n",
        "class TrainRuntimeCallback(keras.callbacks.Callback):\n",
        "\n",
        "  def on_train_begin(self,logs={}):\n",
        "    self.start = datetime.datetime.now()\n",
        "\n",
        "  def on_train_end(self,logs={}):\n",
        "    self.process_time = (datetime.datetime.now() - self.start).total_seconds()"
      ],
      "execution_count": 43,
      "outputs": []
    },
    {
      "cell_type": "code",
      "metadata": {
        "id": "dSV3VATHELQq",
        "colab_type": "code",
        "colab": {}
      },
      "source": [
        "# Define callback to get total test time\n",
        "class TestRuntimeCallback(keras.callbacks.Callback):\n",
        "\n",
        "  def on_test_begin(self,logs={}):\n",
        "    self.start = datetime.datetime.now()\n",
        "\n",
        "  def on_test_end(self,logs={}):\n",
        "    self.process_time = (datetime.datetime.now() - self.start).total_seconds()"
      ],
      "execution_count": 44,
      "outputs": []
    },
    {
      "cell_type": "markdown",
      "metadata": {
        "id": "2UzwZVAIELQs",
        "colab_type": "text"
      },
      "source": [
        "# 1. Experiment 1: DNN"
      ]
    },
    {
      "cell_type": "markdown",
      "metadata": {
        "id": "uNPf1Z0zELQt",
        "colab_type": "text"
      },
      "source": [
        "## 1.1 DNN w/64 and 32 nodes\n",
        "\n"
      ]
    },
    {
      "cell_type": "code",
      "metadata": {
        "id": "S7vXagNzELQt",
        "colab_type": "code",
        "colab": {}
      },
      "source": [
        "# To test the effect of reducing the number of topics from 46 to (effectively) 9.\n",
        "\n",
        "# This is the model to be used with data from all 46 topics\n",
        "model_1_full = Sequential()\n",
        "model_1_full.add(Dense(units = 64, activation='relu', input_shape=(voc_size,))) # vocabulary size = 10,000\n",
        "model_1_full.add(Dense(units = 32, activation='relu'))\n",
        "model_1_full.add(Dense(units = 46, activation='softmax'))\n",
        "\n",
        "# This is the model we will use with data from the top 9 topics.\n",
        "model_1 = Sequential()\n",
        "model_1.add(Dense(units = 64, activation='relu', input_shape=(voc_size,))) # vocabulary size = 10,000\n",
        "model_1.add(Dense(units = 32, activation='relu'))\n",
        "model_1.add(Dense(units = 9, activation='softmax'))"
      ],
      "execution_count": 45,
      "outputs": []
    },
    {
      "cell_type": "code",
      "metadata": {
        "scrolled": true,
        "id": "_JMzis5zELQz",
        "colab_type": "code",
        "colab": {
          "base_uri": "https://localhost:8080/",
          "height": 255
        },
        "outputId": "f1ab58c4-f288-43b7-cee8-b2260445cc14"
      },
      "source": [
        "model_1.summary()"
      ],
      "execution_count": 46,
      "outputs": [
        {
          "output_type": "stream",
          "text": [
            "Model: \"sequential_1\"\n",
            "_________________________________________________________________\n",
            "Layer (type)                 Output Shape              Param #   \n",
            "=================================================================\n",
            "dense_3 (Dense)              (None, 64)                640064    \n",
            "_________________________________________________________________\n",
            "dense_4 (Dense)              (None, 32)                2080      \n",
            "_________________________________________________________________\n",
            "dense_5 (Dense)              (None, 9)                 297       \n",
            "=================================================================\n",
            "Total params: 642,441\n",
            "Trainable params: 642,441\n",
            "Non-trainable params: 0\n",
            "_________________________________________________________________\n"
          ],
          "name": "stdout"
        }
      ]
    },
    {
      "cell_type": "code",
      "metadata": {
        "id": "xrd_ktz3ELQ2",
        "colab_type": "code",
        "colab": {}
      },
      "source": [
        "# Compile both models\n",
        "model_1_full.compile(optimizer='adam',\n",
        "              loss='categorical_crossentropy',\n",
        "              metrics=['accuracy'])\n",
        "\n",
        "model_1.compile(optimizer='adam',\n",
        "              loss='categorical_crossentropy',\n",
        "              metrics=['accuracy'])"
      ],
      "execution_count": 47,
      "outputs": []
    },
    {
      "cell_type": "markdown",
      "metadata": {
        "id": "1l9e_IeNELRA",
        "colab_type": "text"
      },
      "source": [
        "### 1.1.a Model Training"
      ]
    },
    {
      "cell_type": "markdown",
      "metadata": {
        "id": "hAyN35YaELRA",
        "colab_type": "text"
      },
      "source": [
        "Train both networks for 10 epochs (but without callbacks on the full datasets model):"
      ]
    },
    {
      "cell_type": "code",
      "metadata": {
        "id": "Y-ZatwwHELRB",
        "colab_type": "code",
        "colab": {
          "base_uri": "https://localhost:8080/",
          "height": 377
        },
        "outputId": "3dccb497-ad74-4ae5-9cf9-bc1ef346c061"
      },
      "source": [
        "# Train full datasets model with all 46 topics\n",
        "history_full = model_1_full.fit(train_data_v,\n",
        "                    one_hot_train_labels,\n",
        "                    epochs=10,\n",
        "                    batch_size=100,\n",
        "                    validation_split = 0.15)   "
      ],
      "execution_count": 48,
      "outputs": [
        {
          "output_type": "stream",
          "text": [
            "Epoch 1/10\n",
            "77/77 [==============================] - 1s 15ms/step - loss: 2.1816 - accuracy: 0.5745 - val_loss: 1.3641 - val_accuracy: 0.7047\n",
            "Epoch 2/10\n",
            "77/77 [==============================] - 1s 12ms/step - loss: 1.0191 - accuracy: 0.7769 - val_loss: 1.0921 - val_accuracy: 0.7641\n",
            "Epoch 3/10\n",
            "77/77 [==============================] - 1s 12ms/step - loss: 0.6453 - accuracy: 0.8631 - val_loss: 0.9851 - val_accuracy: 0.7841\n",
            "Epoch 4/10\n",
            "77/77 [==============================] - 1s 12ms/step - loss: 0.4249 - accuracy: 0.9121 - val_loss: 0.9771 - val_accuracy: 0.7923\n",
            "Epoch 5/10\n",
            "77/77 [==============================] - 1s 12ms/step - loss: 0.2916 - accuracy: 0.9403 - val_loss: 0.9614 - val_accuracy: 0.7923\n",
            "Epoch 6/10\n",
            "77/77 [==============================] - 1s 12ms/step - loss: 0.2248 - accuracy: 0.9500 - val_loss: 0.9853 - val_accuracy: 0.7938\n",
            "Epoch 7/10\n",
            "77/77 [==============================] - 1s 13ms/step - loss: 0.1876 - accuracy: 0.9524 - val_loss: 1.0037 - val_accuracy: 0.7990\n",
            "Epoch 8/10\n",
            "77/77 [==============================] - 1s 12ms/step - loss: 0.1644 - accuracy: 0.9560 - val_loss: 1.0713 - val_accuracy: 0.7886\n",
            "Epoch 9/10\n",
            "77/77 [==============================] - 1s 12ms/step - loss: 0.1481 - accuracy: 0.9590 - val_loss: 1.0738 - val_accuracy: 0.7945\n",
            "Epoch 10/10\n",
            "77/77 [==============================] - 1s 12ms/step - loss: 0.1364 - accuracy: 0.9611 - val_loss: 1.0944 - val_accuracy: 0.7915\n"
          ],
          "name": "stdout"
        }
      ]
    },
    {
      "cell_type": "code",
      "metadata": {
        "id": "YRu6nGhoELRD",
        "colab_type": "code",
        "colab": {
          "base_uri": "https://localhost:8080/",
          "height": 34
        },
        "outputId": "830f3078-51fd-482d-f4d6-3cf7105d6470"
      },
      "source": [
        "print(f\"train_acc: {history_full.history['accuracy'][-1]}, val_acc: {history_full.history['val_accuracy'][-1]}\")"
      ],
      "execution_count": 49,
      "outputs": [
        {
          "output_type": "stream",
          "text": [
            "train_acc: 0.9610950946807861, val_acc: 0.7915430068969727\n"
          ],
          "name": "stdout"
        }
      ]
    },
    {
      "cell_type": "code",
      "metadata": {
        "scrolled": true,
        "id": "79QW880dELRI",
        "colab_type": "code",
        "colab": {
          "base_uri": "https://localhost:8080/",
          "height": 377
        },
        "outputId": "84af4391-8cf2-4c9a-f26b-36c2b8970700"
      },
      "source": [
        "train_rt = TrainRuntimeCallback()\n",
        "history = model_1.fit(train_data_smv,\n",
        "                    one_hot_train_labels_sm,\n",
        "                    callbacks = [train_rt],\n",
        "                    epochs=10,\n",
        "                    batch_size=100,\n",
        "#                     validation_data=(val_data_smv, one_hot_val_labels_sm))\n",
        "                    validation_split = 0.15)   # comment out if setting validation_data value.\n",
        "\n",
        "# Save models locally after fitting\n",
        "# save_dir = \"results/\"\n",
        "# model_name = 'Reuters_1.h5'\n",
        "# model_path = os.path.join(save_dir, model_name)\n",
        "# model_1.save(model_path)\n",
        "# print('Saved trained model at %s ' % model_path)\n",
        "# print('--------------------------')"
      ],
      "execution_count": 50,
      "outputs": [
        {
          "output_type": "stream",
          "text": [
            "Epoch 1/10\n",
            "64/64 [==============================] - 1s 14ms/step - loss: 1.1731 - accuracy: 0.6919 - val_loss: 0.6490 - val_accuracy: 0.8544\n",
            "Epoch 2/10\n",
            "64/64 [==============================] - 1s 12ms/step - loss: 0.4266 - accuracy: 0.9090 - val_loss: 0.5135 - val_accuracy: 0.8730\n",
            "Epoch 3/10\n",
            "64/64 [==============================] - 1s 12ms/step - loss: 0.2559 - accuracy: 0.9448 - val_loss: 0.5160 - val_accuracy: 0.8748\n",
            "Epoch 4/10\n",
            "64/64 [==============================] - 1s 12ms/step - loss: 0.1772 - accuracy: 0.9583 - val_loss: 0.5208 - val_accuracy: 0.8783\n",
            "Epoch 5/10\n",
            "64/64 [==============================] - 1s 12ms/step - loss: 0.1373 - accuracy: 0.9646 - val_loss: 0.5617 - val_accuracy: 0.8766\n",
            "Epoch 6/10\n",
            "64/64 [==============================] - 1s 12ms/step - loss: 0.1200 - accuracy: 0.9646 - val_loss: 0.5897 - val_accuracy: 0.8712\n",
            "Epoch 7/10\n",
            "64/64 [==============================] - 1s 12ms/step - loss: 0.1140 - accuracy: 0.9661 - val_loss: 0.6023 - val_accuracy: 0.8668\n",
            "Epoch 8/10\n",
            "64/64 [==============================] - 1s 12ms/step - loss: 0.1015 - accuracy: 0.9663 - val_loss: 0.6424 - val_accuracy: 0.8677\n",
            "Epoch 9/10\n",
            "64/64 [==============================] - 1s 12ms/step - loss: 0.1034 - accuracy: 0.9668 - val_loss: 0.6396 - val_accuracy: 0.8650\n",
            "Epoch 10/10\n",
            "64/64 [==============================] - 1s 12ms/step - loss: 0.0984 - accuracy: 0.9660 - val_loss: 0.6543 - val_accuracy: 0.8659\n"
          ],
          "name": "stdout"
        }
      ]
    },
    {
      "cell_type": "code",
      "metadata": {
        "id": "gxvqZQKlELRM",
        "colab_type": "code",
        "colab": {
          "base_uri": "https://localhost:8080/",
          "height": 34
        },
        "outputId": "86ca767f-768e-4230-e09d-e307222b1029"
      },
      "source": [
        "# Get the training time\n",
        "train_time = train_rt.process_time\n",
        "train_time # in seconds"
      ],
      "execution_count": 51,
      "outputs": [
        {
          "output_type": "execute_result",
          "data": {
            "text/plain": [
              "8.366051"
            ]
          },
          "metadata": {
            "tags": []
          },
          "execution_count": 51
        }
      ]
    },
    {
      "cell_type": "code",
      "metadata": {
        "id": "Eez94RJRELRQ",
        "colab_type": "code",
        "colab": {
          "base_uri": "https://localhost:8080/",
          "height": 34
        },
        "outputId": "8d1ad377-9580-401f-f7a4-da0b56814aa4"
      },
      "source": [
        "print(f\"train_acc: {history.history['accuracy'][-1]}, val_acc: {history.history['val_accuracy'][-1]}\")"
      ],
      "execution_count": 52,
      "outputs": [
        {
          "output_type": "stream",
          "text": [
            "train_acc: 0.9659714698791504, val_acc: 0.865896999835968\n"
          ],
          "name": "stdout"
        }
      ]
    },
    {
      "cell_type": "markdown",
      "metadata": {
        "id": "mR8XlLEIELRS",
        "colab_type": "text"
      },
      "source": [
        "This is a significant improvement in performance seen with reduced topics."
      ]
    },
    {
      "cell_type": "markdown",
      "metadata": {
        "id": "pH_bBNpwELRS",
        "colab_type": "text"
      },
      "source": [
        "### 1.1.b Model Testing\n",
        "\n",
        "We test both models and get the runtime of the model classifying 9 topics using callbacks. Again, the model with less classes has better performance."
      ]
    },
    {
      "cell_type": "code",
      "metadata": {
        "id": "ec2uoVZtELRS",
        "colab_type": "code",
        "colab": {
          "base_uri": "https://localhost:8080/",
          "height": 34
        },
        "outputId": "08d2a767-de3e-433b-b4cb-66ab8114ff78"
      },
      "source": [
        "# Note the original model evaluating the data with 46 topics performs worse on the test data\n",
        "test_rt = TestRuntimeCallback()\n",
        "test_loss, test_accuracy = model_1_full.evaluate(test_data_v, one_hot_test_labels, callbacks=[test_rt], verbose=0)\n",
        "print(f\"test_accuracy={test_accuracy}, test_loss={test_loss}\")"
      ],
      "execution_count": 53,
      "outputs": [
        {
          "output_type": "stream",
          "text": [
            "test_accuracy=0.7809438705444336, test_loss=1.0944987535476685\n"
          ],
          "name": "stdout"
        }
      ]
    },
    {
      "cell_type": "code",
      "metadata": {
        "scrolled": false,
        "id": "V8GDz9FDELRU",
        "colab_type": "code",
        "colab": {
          "base_uri": "https://localhost:8080/",
          "height": 34
        },
        "outputId": "1cf89cf7-2230-4458-e4f5-30d4485d79de"
      },
      "source": [
        "test_rt = TestRuntimeCallback()\n",
        "test_loss, test_accuracy = model_1.evaluate(test_data_smv, one_hot_test_labels_sm, callbacks=[test_rt], verbose=0)\n",
        "print(f\"test_accuracy={test_accuracy}, test_loss={test_loss}\")"
      ],
      "execution_count": 54,
      "outputs": [
        {
          "output_type": "stream",
          "text": [
            "test_accuracy=0.8579913377761841, test_loss=0.6803008913993835\n"
          ],
          "name": "stdout"
        }
      ]
    },
    {
      "cell_type": "code",
      "metadata": {
        "id": "zoXB-OPAELRX",
        "colab_type": "code",
        "colab": {
          "base_uri": "https://localhost:8080/",
          "height": 34
        },
        "outputId": "7f947b55-7407-43f2-ad86-393c7daa1078"
      },
      "source": [
        "# Get the test time\n",
        "test_time = test_rt.process_time\n",
        "test_time # in seconds"
      ],
      "execution_count": 55,
      "outputs": [
        {
          "output_type": "execute_result",
          "data": {
            "text/plain": [
              "0.130511"
            ]
          },
          "metadata": {
            "tags": []
          },
          "execution_count": 55
        }
      ]
    },
    {
      "cell_type": "markdown",
      "metadata": {
        "id": "85xASr51ELRZ",
        "colab_type": "text"
      },
      "source": [
        "### 1.1.c Model Results"
      ]
    },
    {
      "cell_type": "code",
      "metadata": {
        "id": "7Ok7fgQrELRa",
        "colab_type": "code",
        "colab": {
          "base_uri": "https://localhost:8080/",
          "height": 34
        },
        "outputId": "aefbc380-4684-40b3-d29f-a3084761dec8"
      },
      "source": [
        "# Use history to collect statistics\n",
        "history_dict = history.history\n",
        "# history_dict['train_accuracy'] = history_dict.pop('accuracy') # rename the the key to 'test_accuracy'\n",
        "history_dict.keys()"
      ],
      "execution_count": 56,
      "outputs": [
        {
          "output_type": "execute_result",
          "data": {
            "text/plain": [
              "dict_keys(['loss', 'accuracy', 'val_loss', 'val_accuracy'])"
            ]
          },
          "metadata": {
            "tags": []
          },
          "execution_count": 56
        }
      ]
    },
    {
      "cell_type": "code",
      "metadata": {
        "scrolled": true,
        "id": "vCAfX_JqELRc",
        "colab_type": "code",
        "colab": {
          "base_uri": "https://localhost:8080/",
          "height": 359
        },
        "outputId": "b5d15215-faa0-4010-a68d-b995896d5ec1"
      },
      "source": [
        "# # DataFrame for model with 9 topics\n",
        "history_df=pd.DataFrame(history_dict)\n",
        "# history_df['test_accuracy'] = test_accuracy\n",
        "# history_df = history_df.iloc[-1:]\n",
        "history_df"
      ],
      "execution_count": 57,
      "outputs": [
        {
          "output_type": "execute_result",
          "data": {
            "text/html": [
              "<div>\n",
              "<style scoped>\n",
              "    .dataframe tbody tr th:only-of-type {\n",
              "        vertical-align: middle;\n",
              "    }\n",
              "\n",
              "    .dataframe tbody tr th {\n",
              "        vertical-align: top;\n",
              "    }\n",
              "\n",
              "    .dataframe thead th {\n",
              "        text-align: right;\n",
              "    }\n",
              "</style>\n",
              "<table border=\"1\" class=\"dataframe\">\n",
              "  <thead>\n",
              "    <tr style=\"text-align: right;\">\n",
              "      <th></th>\n",
              "      <th>loss</th>\n",
              "      <th>accuracy</th>\n",
              "      <th>val_loss</th>\n",
              "      <th>val_accuracy</th>\n",
              "    </tr>\n",
              "  </thead>\n",
              "  <tbody>\n",
              "    <tr>\n",
              "      <th>0</th>\n",
              "      <td>1.173084</td>\n",
              "      <td>0.691861</td>\n",
              "      <td>0.648952</td>\n",
              "      <td>0.854352</td>\n",
              "    </tr>\n",
              "    <tr>\n",
              "      <th>1</th>\n",
              "      <td>0.426585</td>\n",
              "      <td>0.909048</td>\n",
              "      <td>0.513526</td>\n",
              "      <td>0.873002</td>\n",
              "    </tr>\n",
              "    <tr>\n",
              "      <th>2</th>\n",
              "      <td>0.255947</td>\n",
              "      <td>0.944802</td>\n",
              "      <td>0.516021</td>\n",
              "      <td>0.874778</td>\n",
              "    </tr>\n",
              "    <tr>\n",
              "      <th>3</th>\n",
              "      <td>0.177217</td>\n",
              "      <td>0.958288</td>\n",
              "      <td>0.520813</td>\n",
              "      <td>0.878330</td>\n",
              "    </tr>\n",
              "    <tr>\n",
              "      <th>4</th>\n",
              "      <td>0.137324</td>\n",
              "      <td>0.964560</td>\n",
              "      <td>0.561699</td>\n",
              "      <td>0.876554</td>\n",
              "    </tr>\n",
              "    <tr>\n",
              "      <th>5</th>\n",
              "      <td>0.119952</td>\n",
              "      <td>0.964560</td>\n",
              "      <td>0.589689</td>\n",
              "      <td>0.871226</td>\n",
              "    </tr>\n",
              "    <tr>\n",
              "      <th>6</th>\n",
              "      <td>0.114025</td>\n",
              "      <td>0.966128</td>\n",
              "      <td>0.602251</td>\n",
              "      <td>0.866785</td>\n",
              "    </tr>\n",
              "    <tr>\n",
              "      <th>7</th>\n",
              "      <td>0.101542</td>\n",
              "      <td>0.966285</td>\n",
              "      <td>0.642354</td>\n",
              "      <td>0.867673</td>\n",
              "    </tr>\n",
              "    <tr>\n",
              "      <th>8</th>\n",
              "      <td>0.103398</td>\n",
              "      <td>0.966756</td>\n",
              "      <td>0.639593</td>\n",
              "      <td>0.865009</td>\n",
              "    </tr>\n",
              "    <tr>\n",
              "      <th>9</th>\n",
              "      <td>0.098419</td>\n",
              "      <td>0.965971</td>\n",
              "      <td>0.654334</td>\n",
              "      <td>0.865897</td>\n",
              "    </tr>\n",
              "  </tbody>\n",
              "</table>\n",
              "</div>"
            ],
            "text/plain": [
              "       loss  accuracy  val_loss  val_accuracy\n",
              "0  1.173084  0.691861  0.648952      0.854352\n",
              "1  0.426585  0.909048  0.513526      0.873002\n",
              "2  0.255947  0.944802  0.516021      0.874778\n",
              "3  0.177217  0.958288  0.520813      0.878330\n",
              "4  0.137324  0.964560  0.561699      0.876554\n",
              "5  0.119952  0.964560  0.589689      0.871226\n",
              "6  0.114025  0.966128  0.602251      0.866785\n",
              "7  0.101542  0.966285  0.642354      0.867673\n",
              "8  0.103398  0.966756  0.639593      0.865009\n",
              "9  0.098419  0.965971  0.654334      0.865897"
            ]
          },
          "metadata": {
            "tags": []
          },
          "execution_count": 57
        }
      ]
    },
    {
      "cell_type": "code",
      "metadata": {
        "id": "D-z0XJq9ELRe",
        "colab_type": "code",
        "colab": {
          "base_uri": "https://localhost:8080/",
          "height": 202
        },
        "outputId": "1299a470-5b9e-4aee-82f5-104d726adc31"
      },
      "source": [
        "# Create a results DataFrame using the last row of history_df\n",
        "results_df = history_df.iloc[-1:].copy()\n",
        "results_df.insert(0,'model','DNN (2 layers) 9 topics') # want the model name to appear first\n",
        "results_df['test_accuracy'] = test_accuracy\n",
        "results_df['test_loss'] = test_loss\n",
        "results_df['training time (sec)'] = train_time     \n",
        "results_df['testing time (sec)'] = test_time    \n",
        "results_df"
      ],
      "execution_count": 58,
      "outputs": [
        {
          "output_type": "execute_result",
          "data": {
            "text/html": [
              "<div>\n",
              "<style scoped>\n",
              "    .dataframe tbody tr th:only-of-type {\n",
              "        vertical-align: middle;\n",
              "    }\n",
              "\n",
              "    .dataframe tbody tr th {\n",
              "        vertical-align: top;\n",
              "    }\n",
              "\n",
              "    .dataframe thead th {\n",
              "        text-align: right;\n",
              "    }\n",
              "</style>\n",
              "<table border=\"1\" class=\"dataframe\">\n",
              "  <thead>\n",
              "    <tr style=\"text-align: right;\">\n",
              "      <th></th>\n",
              "      <th>model</th>\n",
              "      <th>loss</th>\n",
              "      <th>accuracy</th>\n",
              "      <th>val_loss</th>\n",
              "      <th>val_accuracy</th>\n",
              "      <th>test_accuracy</th>\n",
              "      <th>test_loss</th>\n",
              "      <th>training time (sec)</th>\n",
              "      <th>testing time (sec)</th>\n",
              "    </tr>\n",
              "  </thead>\n",
              "  <tbody>\n",
              "    <tr>\n",
              "      <th>9</th>\n",
              "      <td>DNN (2 layers) 9 topics</td>\n",
              "      <td>0.098419</td>\n",
              "      <td>0.965971</td>\n",
              "      <td>0.654334</td>\n",
              "      <td>0.865897</td>\n",
              "      <td>0.857991</td>\n",
              "      <td>0.680301</td>\n",
              "      <td>8.366051</td>\n",
              "      <td>0.130511</td>\n",
              "    </tr>\n",
              "  </tbody>\n",
              "</table>\n",
              "</div>"
            ],
            "text/plain": [
              "                     model      loss  ...  training time (sec)  testing time (sec)\n",
              "9  DNN (2 layers) 9 topics  0.098419  ...             8.366051            0.130511\n",
              "\n",
              "[1 rows x 9 columns]"
            ]
          },
          "metadata": {
            "tags": []
          },
          "execution_count": 58
        }
      ]
    },
    {
      "cell_type": "code",
      "metadata": {
        "scrolled": true,
        "id": "vqngjCoCELRk",
        "colab_type": "code",
        "colab": {
          "base_uri": "https://localhost:8080/",
          "height": 324
        },
        "outputId": "1f89b71a-5322-4407-f409-37153dd858fe"
      },
      "source": [
        "# Plot learning curves for model\n",
        "pd.DataFrame(history.history).plot(figsize=(8, 5))\n",
        "plt.grid(True)\n",
        "plt.gca().set_ylim(0, 1) # set the vertical range to [0-1]\n",
        "# plt.savefig(\"figures/learning_curves_model_1\", tight_layout=False)\n",
        "plt.show()"
      ],
      "execution_count": 59,
      "outputs": [
        {
          "output_type": "display_data",
          "data": {
            "image/png": "[encoded data removed]",
            "text/plain": [
              "<Figure size 576x360 with 1 Axes>"
            ]
          },
          "metadata": {
            "tags": [],
            "needs_background": "light"
          }
        }
      ]
    },
    {
      "cell_type": "markdown",
      "metadata": {
        "id": "_kVbIf5oELRm",
        "colab_type": "text"
      },
      "source": [
        "## 1.2. DNN w/256 and 256 nodes"
      ]
    },
    {
      "cell_type": "code",
      "metadata": {
        "id": "HDb_l1G-ELRm",
        "colab_type": "code",
        "colab": {}
      },
      "source": [
        "# This is the model we will use with data from the top 9 topics.\n",
        "model_1a = Sequential()\n",
        "model_1a.add(Dense(units =  256, activation='relu', input_shape=(voc_size,))) # vocabulary size = 10,000\n",
        "model_1a.add(Dense(units =  256, activation='relu'))\n",
        "model_1a.add(Dense(units =  9, activation='softmax'))"
      ],
      "execution_count": 60,
      "outputs": []
    },
    {
      "cell_type": "code",
      "metadata": {
        "id": "4pcLlNFYELRo",
        "colab_type": "code",
        "colab": {
          "base_uri": "https://localhost:8080/",
          "height": 255
        },
        "outputId": "c9e121fb-9eef-4206-859d-1b00a6d04ee1"
      },
      "source": [
        "model_1a.summary()"
      ],
      "execution_count": 61,
      "outputs": [
        {
          "output_type": "stream",
          "text": [
            "Model: \"sequential_2\"\n",
            "_________________________________________________________________\n",
            "Layer (type)                 Output Shape              Param #   \n",
            "=================================================================\n",
            "dense_6 (Dense)              (None, 256)               2560256   \n",
            "_________________________________________________________________\n",
            "dense_7 (Dense)              (None, 256)               65792     \n",
            "_________________________________________________________________\n",
            "dense_8 (Dense)              (None, 9)                 2313      \n",
            "=================================================================\n",
            "Total params: 2,628,361\n",
            "Trainable params: 2,628,361\n",
            "Non-trainable params: 0\n",
            "_________________________________________________________________\n"
          ],
          "name": "stdout"
        }
      ]
    },
    {
      "cell_type": "code",
      "metadata": {
        "id": "Cllnj-KIELRp",
        "colab_type": "code",
        "colab": {}
      },
      "source": [
        "model_1a.compile(optimizer='adam',\n",
        "              loss='categorical_crossentropy',\n",
        "              metrics=['accuracy'])"
      ],
      "execution_count": 62,
      "outputs": []
    },
    {
      "cell_type": "code",
      "metadata": {
        "scrolled": true,
        "id": "RLoVdVMYELRr",
        "colab_type": "code",
        "colab": {
          "base_uri": "https://localhost:8080/",
          "height": 377
        },
        "outputId": "da09942b-0940-49d8-80a7-7b5e84b59fb8"
      },
      "source": [
        "train_rt = TrainRuntimeCallback()\n",
        "history = model_1a.fit(train_data_smv,\n",
        "                    one_hot_train_labels_sm,\n",
        "                    callbacks = [train_rt],\n",
        "                    epochs=10,\n",
        "                    batch_size=100,\n",
        "#                     validation_data=(val_data_smv, one_hot_val_labels_sm))\n",
        "                    validation_split = 0.15)   # comment out if setting validation_data value.\n",
        "\n",
        "# Saving models locally after fitting\n",
        "# save_dir = \"results/\"\n",
        "# model_name = 'Reuters_1a.h5'\n",
        "# model_path = os.path.join(save_dir, model_name)\n",
        "# model_1a.save(model_path)\n",
        "# print('Saved trained model at %s ' % model_path)\n",
        "# print('--------------------------')"
      ],
      "execution_count": 63,
      "outputs": [
        {
          "output_type": "stream",
          "text": [
            "Epoch 1/10\n",
            "64/64 [==============================] - 2s 36ms/step - loss: 0.8214 - accuracy: 0.7831 - val_loss: 0.5346 - val_accuracy: 0.8677\n",
            "Epoch 2/10\n",
            "64/64 [==============================] - 2s 34ms/step - loss: 0.2656 - accuracy: 0.9384 - val_loss: 0.5410 - val_accuracy: 0.8748\n",
            "Epoch 3/10\n",
            "64/64 [==============================] - 2s 34ms/step - loss: 0.1492 - accuracy: 0.9605 - val_loss: 0.5964 - val_accuracy: 0.8686\n",
            "Epoch 4/10\n",
            "64/64 [==============================] - 2s 34ms/step - loss: 0.1161 - accuracy: 0.9655 - val_loss: 0.5732 - val_accuracy: 0.8632\n",
            "Epoch 5/10\n",
            "64/64 [==============================] - 2s 34ms/step - loss: 0.1022 - accuracy: 0.9647 - val_loss: 0.6150 - val_accuracy: 0.8615\n",
            "Epoch 6/10\n",
            "64/64 [==============================] - 2s 34ms/step - loss: 0.0932 - accuracy: 0.9653 - val_loss: 0.6513 - val_accuracy: 0.8606\n",
            "Epoch 7/10\n",
            "64/64 [==============================] - 2s 34ms/step - loss: 0.0820 - accuracy: 0.9675 - val_loss: 0.6580 - val_accuracy: 0.8623\n",
            "Epoch 8/10\n",
            "64/64 [==============================] - 2s 34ms/step - loss: 0.0739 - accuracy: 0.9680 - val_loss: 0.6964 - val_accuracy: 0.8632\n",
            "Epoch 9/10\n",
            "64/64 [==============================] - 2s 33ms/step - loss: 0.0736 - accuracy: 0.9671 - val_loss: 0.6737 - val_accuracy: 0.8606\n",
            "Epoch 10/10\n",
            "64/64 [==============================] - 2s 33ms/step - loss: 0.0693 - accuracy: 0.9671 - val_loss: 0.7081 - val_accuracy: 0.8615\n"
          ],
          "name": "stdout"
        }
      ]
    },
    {
      "cell_type": "code",
      "metadata": {
        "id": "6KUFpAJUELRt",
        "colab_type": "code",
        "colab": {
          "base_uri": "https://localhost:8080/",
          "height": 34
        },
        "outputId": "88a0cd2a-e25b-4316-b21b-9e0f4ef12861"
      },
      "source": [
        "# Get the training time\n",
        "train_time = train_rt.process_time\n",
        "train_time # in seconds"
      ],
      "execution_count": 64,
      "outputs": [
        {
          "output_type": "execute_result",
          "data": {
            "text/plain": [
              "22.454012"
            ]
          },
          "metadata": {
            "tags": []
          },
          "execution_count": 64
        }
      ]
    },
    {
      "cell_type": "code",
      "metadata": {
        "id": "Sqd3BDtZELRx",
        "colab_type": "code",
        "colab": {
          "base_uri": "https://localhost:8080/",
          "height": 34
        },
        "outputId": "d034477b-c9c8-4ed2-e4d5-5df97e17b9bb"
      },
      "source": [
        "print(f\"train_acc: {history.history['accuracy'][-1]}, val_acc: {history.history['val_accuracy'][-1]}\")"
      ],
      "execution_count": 65,
      "outputs": [
        {
          "output_type": "stream",
          "text": [
            "train_acc: 0.967069149017334, val_acc: 0.8614564538002014\n"
          ],
          "name": "stdout"
        }
      ]
    },
    {
      "cell_type": "markdown",
      "metadata": {
        "id": "Y1nG2GLOELRz",
        "colab_type": "text"
      },
      "source": [
        "### 1.2.a Model Testing"
      ]
    },
    {
      "cell_type": "code",
      "metadata": {
        "id": "xEtxZhZmELRz",
        "colab_type": "code",
        "colab": {
          "base_uri": "https://localhost:8080/",
          "height": 34
        },
        "outputId": "86120596-ff24-48a7-c34f-5b259d68445d"
      },
      "source": [
        "test_rt = TestRuntimeCallback()\n",
        "test_loss, test_accuracy = model_1a.evaluate(test_data_smv, one_hot_test_labels_sm, callbacks=[test_rt], verbose=0)\n",
        "print(f\"test_accuracy={test_accuracy}, test_loss={test_loss}\")"
      ],
      "execution_count": 66,
      "outputs": [
        {
          "output_type": "stream",
          "text": [
            "test_accuracy=0.8552916049957275, test_loss=0.749544620513916\n"
          ],
          "name": "stdout"
        }
      ]
    },
    {
      "cell_type": "code",
      "metadata": {
        "id": "CBmbVrfjELR2",
        "colab_type": "code",
        "colab": {
          "base_uri": "https://localhost:8080/",
          "height": 34
        },
        "outputId": "614befc6-07d4-4661-f403-907d755a7cab"
      },
      "source": [
        "# Get the test time\n",
        "test_time = test_rt.process_time\n",
        "test_time # in seconds"
      ],
      "execution_count": 67,
      "outputs": [
        {
          "output_type": "execute_result",
          "data": {
            "text/plain": [
              "0.346137"
            ]
          },
          "metadata": {
            "tags": []
          },
          "execution_count": 67
        }
      ]
    },
    {
      "cell_type": "markdown",
      "metadata": {
        "id": "ctHBXmPsELR4",
        "colab_type": "text"
      },
      "source": [
        "### 1.2.b Model Performance"
      ]
    },
    {
      "cell_type": "code",
      "metadata": {
        "id": "o7Gu1BOHELR5",
        "colab_type": "code",
        "colab": {
          "base_uri": "https://localhost:8080/",
          "height": 324
        },
        "outputId": "27203014-a7be-4ca4-a798-4b1207778461"
      },
      "source": [
        "# Plot learning curves for model\n",
        "pd.DataFrame(history.history).plot(figsize=(8, 5))\n",
        "plt.grid(True)\n",
        "plt.gca().set_ylim(0, 1) # set the vertical range to [0-1]\n",
        "# plt.savefig(\"figures/learning_curves_model_1a\", tight_layout=False)\n",
        "plt.show()"
      ],
      "execution_count": 68,
      "outputs": [
        {
          "output_type": "display_data",
          "data": {
            "image/png": "[encoded data removed]",
            "text/plain": [
              "<Figure size 576x360 with 1 Axes>"
            ]
          },
          "metadata": {
            "tags": [],
            "needs_background": "light"
          }
        }
      ]
    },
    {
      "cell_type": "code",
      "metadata": {
        "id": "x20z7BgVELR7",
        "colab_type": "code",
        "colab": {
          "base_uri": "https://localhost:8080/",
          "height": 34
        },
        "outputId": "4ea7a3e5-e60d-43e8-b0bc-0e577fd24a30"
      },
      "source": [
        "# Use history to collect statistics\n",
        "history_dict = history.history\n",
        "# history_dict['train_accuracy'] = history_dict.pop('accuracy') # rename the the key to 'test_accuracy'\n",
        "history_dict.keys()"
      ],
      "execution_count": 69,
      "outputs": [
        {
          "output_type": "execute_result",
          "data": {
            "text/plain": [
              "dict_keys(['loss', 'accuracy', 'val_loss', 'val_accuracy'])"
            ]
          },
          "metadata": {
            "tags": []
          },
          "execution_count": 69
        }
      ]
    },
    {
      "cell_type": "code",
      "metadata": {
        "scrolled": true,
        "id": "ivw3IIYBELSC",
        "colab_type": "code",
        "colab": {
          "base_uri": "https://localhost:8080/",
          "height": 359
        },
        "outputId": "9a9900b7-182b-49bb-d784-37caf670b5b6"
      },
      "source": [
        "# # DataFrame for model with 9 topics\n",
        "history_df=pd.DataFrame(history_dict)\n",
        "# history_df['test_accuracy'] = test_accuracy\n",
        "# history_df = history_df.iloc[-1:]\n",
        "history_df"
      ],
      "execution_count": 70,
      "outputs": [
        {
          "output_type": "execute_result",
          "data": {
            "text/html": [
              "<div>\n",
              "<style scoped>\n",
              "    .dataframe tbody tr th:only-of-type {\n",
              "        vertical-align: middle;\n",
              "    }\n",
              "\n",
              "    .dataframe tbody tr th {\n",
              "        vertical-align: top;\n",
              "    }\n",
              "\n",
              "    .dataframe thead th {\n",
              "        text-align: right;\n",
              "    }\n",
              "</style>\n",
              "<table border=\"1\" class=\"dataframe\">\n",
              "  <thead>\n",
              "    <tr style=\"text-align: right;\">\n",
              "      <th></th>\n",
              "      <th>loss</th>\n",
              "      <th>accuracy</th>\n",
              "      <th>val_loss</th>\n",
              "      <th>val_accuracy</th>\n",
              "    </tr>\n",
              "  </thead>\n",
              "  <tbody>\n",
              "    <tr>\n",
              "      <th>0</th>\n",
              "      <td>0.821387</td>\n",
              "      <td>0.783127</td>\n",
              "      <td>0.534597</td>\n",
              "      <td>0.867673</td>\n",
              "    </tr>\n",
              "    <tr>\n",
              "      <th>1</th>\n",
              "      <td>0.265649</td>\n",
              "      <td>0.938372</td>\n",
              "      <td>0.541009</td>\n",
              "      <td>0.874778</td>\n",
              "    </tr>\n",
              "    <tr>\n",
              "      <th>2</th>\n",
              "      <td>0.149197</td>\n",
              "      <td>0.960483</td>\n",
              "      <td>0.596352</td>\n",
              "      <td>0.868561</td>\n",
              "    </tr>\n",
              "    <tr>\n",
              "      <th>3</th>\n",
              "      <td>0.116093</td>\n",
              "      <td>0.965501</td>\n",
              "      <td>0.573161</td>\n",
              "      <td>0.863233</td>\n",
              "    </tr>\n",
              "    <tr>\n",
              "      <th>4</th>\n",
              "      <td>0.102227</td>\n",
              "      <td>0.964717</td>\n",
              "      <td>0.614989</td>\n",
              "      <td>0.861456</td>\n",
              "    </tr>\n",
              "    <tr>\n",
              "      <th>5</th>\n",
              "      <td>0.093239</td>\n",
              "      <td>0.965344</td>\n",
              "      <td>0.651256</td>\n",
              "      <td>0.860568</td>\n",
              "    </tr>\n",
              "    <tr>\n",
              "      <th>6</th>\n",
              "      <td>0.081966</td>\n",
              "      <td>0.967540</td>\n",
              "      <td>0.658026</td>\n",
              "      <td>0.862345</td>\n",
              "    </tr>\n",
              "    <tr>\n",
              "      <th>7</th>\n",
              "      <td>0.073861</td>\n",
              "      <td>0.968010</td>\n",
              "      <td>0.696405</td>\n",
              "      <td>0.863233</td>\n",
              "    </tr>\n",
              "    <tr>\n",
              "      <th>8</th>\n",
              "      <td>0.073619</td>\n",
              "      <td>0.967069</td>\n",
              "      <td>0.673748</td>\n",
              "      <td>0.860568</td>\n",
              "    </tr>\n",
              "    <tr>\n",
              "      <th>9</th>\n",
              "      <td>0.069291</td>\n",
              "      <td>0.967069</td>\n",
              "      <td>0.708131</td>\n",
              "      <td>0.861456</td>\n",
              "    </tr>\n",
              "  </tbody>\n",
              "</table>\n",
              "</div>"
            ],
            "text/plain": [
              "       loss  accuracy  val_loss  val_accuracy\n",
              "0  0.821387  0.783127  0.534597      0.867673\n",
              "1  0.265649  0.938372  0.541009      0.874778\n",
              "2  0.149197  0.960483  0.596352      0.868561\n",
              "3  0.116093  0.965501  0.573161      0.863233\n",
              "4  0.102227  0.964717  0.614989      0.861456\n",
              "5  0.093239  0.965344  0.651256      0.860568\n",
              "6  0.081966  0.967540  0.658026      0.862345\n",
              "7  0.073861  0.968010  0.696405      0.863233\n",
              "8  0.073619  0.967069  0.673748      0.860568\n",
              "9  0.069291  0.967069  0.708131      0.861456"
            ]
          },
          "metadata": {
            "tags": []
          },
          "execution_count": 70
        }
      ]
    },
    {
      "cell_type": "code",
      "metadata": {
        "id": "lbW8YPKRELSE",
        "colab_type": "code",
        "colab": {
          "base_uri": "https://localhost:8080/",
          "height": 168
        },
        "outputId": "222a25ff-8e6a-4fca-e3a0-210e4928704b"
      },
      "source": [
        "# Create a results DataFrame using the last row of history_df\n",
        "results_df1a = history_df.iloc[-1:].copy()\n",
        "results_df1a.insert(0,'model','DNN (2 layers 256/256)') # went the model name to appear first\n",
        "results_df1a['test_accuracy'] = test_accuracy\n",
        "results_df1a['test_loss'] = test_loss\n",
        "results_df1a['training time (sec)'] = train_time      # we are okay with training time appearing last\n",
        "results_df1a['testing time (sec)'] = test_time      # we are okay with training time appearing last\n",
        "results_df1a"
      ],
      "execution_count": 71,
      "outputs": [
        {
          "output_type": "execute_result",
          "data": {
            "text/html": [
              "<div>\n",
              "<style scoped>\n",
              "    .dataframe tbody tr th:only-of-type {\n",
              "        vertical-align: middle;\n",
              "    }\n",
              "\n",
              "    .dataframe tbody tr th {\n",
              "        vertical-align: top;\n",
              "    }\n",
              "\n",
              "    .dataframe thead th {\n",
              "        text-align: right;\n",
              "    }\n",
              "</style>\n",
              "<table border=\"1\" class=\"dataframe\">\n",
              "  <thead>\n",
              "    <tr style=\"text-align: right;\">\n",
              "      <th></th>\n",
              "      <th>model</th>\n",
              "      <th>loss</th>\n",
              "      <th>accuracy</th>\n",
              "      <th>val_loss</th>\n",
              "      <th>val_accuracy</th>\n",
              "      <th>test_accuracy</th>\n",
              "      <th>test_loss</th>\n",
              "      <th>training time (sec)</th>\n",
              "      <th>testing time (sec)</th>\n",
              "    </tr>\n",
              "  </thead>\n",
              "  <tbody>\n",
              "    <tr>\n",
              "      <th>9</th>\n",
              "      <td>DNN (2 layers 256/256)</td>\n",
              "      <td>0.069291</td>\n",
              "      <td>0.967069</td>\n",
              "      <td>0.708131</td>\n",
              "      <td>0.861456</td>\n",
              "      <td>0.855292</td>\n",
              "      <td>0.749545</td>\n",
              "      <td>22.454012</td>\n",
              "      <td>0.346137</td>\n",
              "    </tr>\n",
              "  </tbody>\n",
              "</table>\n",
              "</div>"
            ],
            "text/plain": [
              "                    model      loss  ...  training time (sec)  testing time (sec)\n",
              "9  DNN (2 layers 256/256)  0.069291  ...            22.454012            0.346137\n",
              "\n",
              "[1 rows x 9 columns]"
            ]
          },
          "metadata": {
            "tags": []
          },
          "execution_count": 71
        }
      ]
    },
    {
      "cell_type": "markdown",
      "metadata": {
        "id": "mLhXd2eRELSG",
        "colab_type": "text"
      },
      "source": [
        "## 1.3 Baseline Model"
      ]
    },
    {
      "cell_type": "code",
      "metadata": {
        "id": "8wpR4GQ0ELSG",
        "colab_type": "code",
        "colab": {
          "base_uri": "https://localhost:8080/",
          "height": 34
        },
        "outputId": "42fc7dca-f5b9-4871-f01c-5df7b50a2ddf"
      },
      "source": [
        "test_labels_sm_copy = copy.copy(test_labels_sm)\n",
        "np.random.shuffle(test_labels_sm_copy)\n",
        "float(np.sum(np.array(test_labels_sm) == np.array(test_labels_sm_copy))) / len(test_labels_sm)\n",
        "# test_labels_copy = copy.copy(test_labels)\n",
        "# np.random.shuffle(test_labels_copy)\n",
        "# float(np.sum(np.array(test_labels) == np.array(test_labels_copy))) / len(test_labels)"
      ],
      "execution_count": 72,
      "outputs": [
        {
          "output_type": "execute_result",
          "data": {
            "text/plain": [
              "0.2818574514038877"
            ]
          },
          "metadata": {
            "tags": []
          },
          "execution_count": 72
        }
      ]
    },
    {
      "cell_type": "markdown",
      "metadata": {
        "id": "5J4tPhXOELSI",
        "colab_type": "text"
      },
      "source": [
        "## 1.3 Baseline Model w/10% dropout"
      ]
    },
    {
      "cell_type": "code",
      "metadata": {
        "id": "Wr-g7JgPELSJ",
        "colab_type": "code",
        "colab": {
          "base_uri": "https://localhost:8080/",
          "height": 323
        },
        "outputId": "615b752d-d803-4d05-844f-70e9bfb31d2e"
      },
      "source": [
        "model_1do = Sequential()\n",
        "model_1do.add(Dense(units =64, activation='relu', input_shape=(voc_size,))) # vocabulary size = 10,000\n",
        "model_1do.add(layers.Dropout(0.1))\n",
        "model_1do.add(Dense(units =32, activation='relu'))\n",
        "model_1do.add(layers.Dropout(0.1))\n",
        "model_1do.add(Dense(units =9, activation='softmax'))\n",
        "\n",
        "model_1do.summary()"
      ],
      "execution_count": 73,
      "outputs": [
        {
          "output_type": "stream",
          "text": [
            "Model: \"sequential_3\"\n",
            "_________________________________________________________________\n",
            "Layer (type)                 Output Shape              Param #   \n",
            "=================================================================\n",
            "dense_9 (Dense)              (None, 64)                640064    \n",
            "_________________________________________________________________\n",
            "dropout (Dropout)            (None, 64)                0         \n",
            "_________________________________________________________________\n",
            "dense_10 (Dense)             (None, 32)                2080      \n",
            "_________________________________________________________________\n",
            "dropout_1 (Dropout)          (None, 32)                0         \n",
            "_________________________________________________________________\n",
            "dense_11 (Dense)             (None, 9)                 297       \n",
            "=================================================================\n",
            "Total params: 642,441\n",
            "Trainable params: 642,441\n",
            "Non-trainable params: 0\n",
            "_________________________________________________________________\n"
          ],
          "name": "stdout"
        }
      ]
    },
    {
      "cell_type": "markdown",
      "metadata": {
        "id": "Iu06RZMZ0Fqm",
        "colab_type": "text"
      },
      "source": [
        "### 1.3.a Model Training"
      ]
    },
    {
      "cell_type": "code",
      "metadata": {
        "id": "Mqi2muMCELSM",
        "colab_type": "code",
        "colab": {}
      },
      "source": [
        "model_1do.compile(optimizer='adam',\n",
        "              loss='categorical_crossentropy',\n",
        "              metrics=['accuracy'])"
      ],
      "execution_count": 74,
      "outputs": []
    },
    {
      "cell_type": "code",
      "metadata": {
        "id": "hiGN-3L6ELSO",
        "colab_type": "code",
        "colab": {
          "base_uri": "https://localhost:8080/",
          "height": 377
        },
        "outputId": "44ac4cfa-e17f-488a-b331-1b061651917f"
      },
      "source": [
        "train_rt = TrainRuntimeCallback()\n",
        "history = model_1do.fit(train_data_smv,\n",
        "                    one_hot_train_labels_sm,\n",
        "                    callbacks = [train_rt],\n",
        "                    epochs=10,\n",
        "                    batch_size=100,\n",
        "                    validation_split = 0.15)  \n",
        "\n",
        "# Saving models locally after fitting\n",
        "# save_dir = \"results/\"\n",
        "# model_name = 'Reuters_1do.h5'\n",
        "# model_path = os.path.join(save_dir, model_name)\n",
        "# model_1do.save(model_path)\n",
        "# print('Saved trained model at %s ' % model_path)\n",
        "# print('--------------------------')"
      ],
      "execution_count": 75,
      "outputs": [
        {
          "output_type": "stream",
          "text": [
            "Epoch 1/10\n",
            "64/64 [==============================] - 1s 15ms/step - loss: 1.1325 - accuracy: 0.6854 - val_loss: 0.6402 - val_accuracy: 0.8455\n",
            "Epoch 2/10\n",
            "64/64 [==============================] - 1s 12ms/step - loss: 0.4990 - accuracy: 0.8796 - val_loss: 0.5290 - val_accuracy: 0.8721\n",
            "Epoch 3/10\n",
            "64/64 [==============================] - 1s 13ms/step - loss: 0.3156 - accuracy: 0.9288 - val_loss: 0.5223 - val_accuracy: 0.8757\n",
            "Epoch 4/10\n",
            "64/64 [==============================] - 1s 12ms/step - loss: 0.2219 - accuracy: 0.9479 - val_loss: 0.5305 - val_accuracy: 0.8766\n",
            "Epoch 5/10\n",
            "64/64 [==============================] - 1s 13ms/step - loss: 0.1692 - accuracy: 0.9584 - val_loss: 0.5610 - val_accuracy: 0.8748\n",
            "Epoch 6/10\n",
            "64/64 [==============================] - 1s 13ms/step - loss: 0.1452 - accuracy: 0.9617 - val_loss: 0.5923 - val_accuracy: 0.8712\n",
            "Epoch 7/10\n",
            "64/64 [==============================] - 1s 12ms/step - loss: 0.1243 - accuracy: 0.9653 - val_loss: 0.6159 - val_accuracy: 0.8677\n",
            "Epoch 8/10\n",
            "64/64 [==============================] - 1s 12ms/step - loss: 0.1086 - accuracy: 0.9671 - val_loss: 0.6500 - val_accuracy: 0.8694\n",
            "Epoch 9/10\n",
            "64/64 [==============================] - 1s 13ms/step - loss: 0.1042 - accuracy: 0.9668 - val_loss: 0.6706 - val_accuracy: 0.8659\n",
            "Epoch 10/10\n",
            "64/64 [==============================] - 1s 12ms/step - loss: 0.0970 - accuracy: 0.9679 - val_loss: 0.6858 - val_accuracy: 0.8641\n"
          ],
          "name": "stdout"
        }
      ]
    },
    {
      "cell_type": "code",
      "metadata": {
        "id": "F1hwxNw9ELSS",
        "colab_type": "code",
        "colab": {
          "base_uri": "https://localhost:8080/",
          "height": 34
        },
        "outputId": "562304cb-ae6a-4553-fb51-a8292bf13c97"
      },
      "source": [
        "# Get the training time\n",
        "train_time = train_rt.process_time\n",
        "train_time # in seconds"
      ],
      "execution_count": 76,
      "outputs": [
        {
          "output_type": "execute_result",
          "data": {
            "text/plain": [
              "8.779403"
            ]
          },
          "metadata": {
            "tags": []
          },
          "execution_count": 76
        }
      ]
    },
    {
      "cell_type": "markdown",
      "metadata": {
        "id": "7bQr8GgdELSU",
        "colab_type": "text"
      },
      "source": [
        "### 1.3.b Model Testing"
      ]
    },
    {
      "cell_type": "code",
      "metadata": {
        "id": "3vb8WdzKELSU",
        "colab_type": "code",
        "colab": {
          "base_uri": "https://localhost:8080/",
          "height": 34
        },
        "outputId": "685a68de-6ade-4292-8797-0d410821d19e"
      },
      "source": [
        "test_rt = TestRuntimeCallback()\n",
        "test_loss, test_accuracy = model_1do.evaluate(test_data_smv, one_hot_test_labels_sm, callbacks=[test_rt], verbose=0) \n",
        "print(f\"test_accuracy={test_accuracy}, test_loss={test_loss}\")"
      ],
      "execution_count": 77,
      "outputs": [
        {
          "output_type": "stream",
          "text": [
            "test_accuracy=0.8536717295646667, test_loss=0.6934414505958557\n"
          ],
          "name": "stdout"
        }
      ]
    },
    {
      "cell_type": "code",
      "metadata": {
        "id": "Pt3DYvCPELSX",
        "colab_type": "code",
        "colab": {
          "base_uri": "https://localhost:8080/",
          "height": 34
        },
        "outputId": "6da56b5a-a1d9-489d-d396-889167a8c34e"
      },
      "source": [
        "# Get the test time\n",
        "test_time = test_rt.process_time\n",
        "test_time # in seconds"
      ],
      "execution_count": 78,
      "outputs": [
        {
          "output_type": "execute_result",
          "data": {
            "text/plain": [
              "0.148081"
            ]
          },
          "metadata": {
            "tags": []
          },
          "execution_count": 78
        }
      ]
    },
    {
      "cell_type": "markdown",
      "metadata": {
        "id": "6MN-kPGEELSZ",
        "colab_type": "text"
      },
      "source": [
        "### 1.3.c Model Performance"
      ]
    },
    {
      "cell_type": "code",
      "metadata": {
        "id": "1T1eGiV7ELSZ",
        "colab_type": "code",
        "colab": {
          "base_uri": "https://localhost:8080/",
          "height": 324
        },
        "outputId": "be1ea4fc-8375-42de-b108-c923a6dd5257"
      },
      "source": [
        "# Plot learning curves for model\n",
        "pd.DataFrame(history.history).plot(figsize=(8, 5))\n",
        "plt.grid(True)\n",
        "plt.gca().set_ylim(0, 1) # set the vertical range to [0-1]\n",
        "# plt.savefig(\"figures/learning_curves_model_1do\", tight_layout=False)\n",
        "plt.show()"
      ],
      "execution_count": 79,
      "outputs": [
        {
          "output_type": "display_data",
          "data": {
            "image/png": "[encoded data removed]",
            "text/plain": [
              "<Figure size 576x360 with 1 Axes>"
            ]
          },
          "metadata": {
            "tags": [],
            "needs_background": "light"
          }
        }
      ]
    },
    {
      "cell_type": "code",
      "metadata": {
        "id": "YBraV3dLELSc",
        "colab_type": "code",
        "colab": {}
      },
      "source": [
        "history_dict = history.history\n",
        "# history_dict['train_accuracy'] = history_dict.pop('accuracy') # rename the the key to 'test_accuracy'\n",
        "history_df=pd.DataFrame(history_dict)"
      ],
      "execution_count": 80,
      "outputs": []
    },
    {
      "cell_type": "code",
      "metadata": {
        "id": "lOC5mEqlELSd",
        "colab_type": "code",
        "colab": {
          "base_uri": "https://localhost:8080/",
          "height": 202
        },
        "outputId": "0f779bfc-7410-4d32-9470-b62e003d7a14"
      },
      "source": [
        "results_df1do = history_df.iloc[-1:].copy()\n",
        "results_df1do.insert(0,'model','DNN (2 layers) w Drop') # want the model name to appear first\n",
        "results_df1do['test_accuracy'] = test_accuracy\n",
        "results_df1do['test_loss'] = test_loss\n",
        "results_df1do['training time (sec)'] = train_time      # we are okay with training time appearing last\n",
        "results_df1do['testing time (sec)'] = test_time      # we are okay with training time appearing last\n",
        "results_df1do"
      ],
      "execution_count": 81,
      "outputs": [
        {
          "output_type": "execute_result",
          "data": {
            "text/html": [
              "<div>\n",
              "<style scoped>\n",
              "    .dataframe tbody tr th:only-of-type {\n",
              "        vertical-align: middle;\n",
              "    }\n",
              "\n",
              "    .dataframe tbody tr th {\n",
              "        vertical-align: top;\n",
              "    }\n",
              "\n",
              "    .dataframe thead th {\n",
              "        text-align: right;\n",
              "    }\n",
              "</style>\n",
              "<table border=\"1\" class=\"dataframe\">\n",
              "  <thead>\n",
              "    <tr style=\"text-align: right;\">\n",
              "      <th></th>\n",
              "      <th>model</th>\n",
              "      <th>loss</th>\n",
              "      <th>accuracy</th>\n",
              "      <th>val_loss</th>\n",
              "      <th>val_accuracy</th>\n",
              "      <th>test_accuracy</th>\n",
              "      <th>test_loss</th>\n",
              "      <th>training time (sec)</th>\n",
              "      <th>testing time (sec)</th>\n",
              "    </tr>\n",
              "  </thead>\n",
              "  <tbody>\n",
              "    <tr>\n",
              "      <th>9</th>\n",
              "      <td>DNN (2 layers) w Drop</td>\n",
              "      <td>0.097031</td>\n",
              "      <td>0.967853</td>\n",
              "      <td>0.685843</td>\n",
              "      <td>0.864121</td>\n",
              "      <td>0.853672</td>\n",
              "      <td>0.693441</td>\n",
              "      <td>8.779403</td>\n",
              "      <td>0.148081</td>\n",
              "    </tr>\n",
              "  </tbody>\n",
              "</table>\n",
              "</div>"
            ],
            "text/plain": [
              "                   model      loss  ...  training time (sec)  testing time (sec)\n",
              "9  DNN (2 layers) w Drop  0.097031  ...             8.779403            0.148081\n",
              "\n",
              "[1 rows x 9 columns]"
            ]
          },
          "metadata": {
            "tags": []
          },
          "execution_count": 81
        }
      ]
    },
    {
      "cell_type": "markdown",
      "metadata": {
        "id": "M_qcwnx_ELSe",
        "colab_type": "text"
      },
      "source": [
        "## 1.4: Baseline Model w/10% dropout and L1 regularization"
      ]
    },
    {
      "cell_type": "code",
      "metadata": {
        "id": "4bR39_nAELSf",
        "colab_type": "code",
        "colab": {
          "base_uri": "https://localhost:8080/",
          "height": 323
        },
        "outputId": "8c760c74-6978-44f5-de97-9cc6d2e32eb0"
      },
      "source": [
        "model_1reg = Sequential()\n",
        "model_1reg.add(Dense(units=64, kernel_regularizer=regularizers.l1(0.001), activation='relu', input_shape=(voc_size,))) # vocabulary size = 10,000\n",
        "model_1reg.add(layers.Dropout(0.1))\n",
        "model_1reg.add(Dense(units=32, kernel_regularizer=regularizers.l1(0.001), activation='relu'))\n",
        "model_1reg.add(layers.Dropout(0.1))\n",
        "model_1reg.add(Dense(units=9, activation='softmax'))\n",
        "\n",
        "model_1reg.summary()\n"
      ],
      "execution_count": 82,
      "outputs": [
        {
          "output_type": "stream",
          "text": [
            "Model: \"sequential_4\"\n",
            "_________________________________________________________________\n",
            "Layer (type)                 Output Shape              Param #   \n",
            "=================================================================\n",
            "dense_12 (Dense)             (None, 64)                640064    \n",
            "_________________________________________________________________\n",
            "dropout_2 (Dropout)          (None, 64)                0         \n",
            "_________________________________________________________________\n",
            "dense_13 (Dense)             (None, 32)                2080      \n",
            "_________________________________________________________________\n",
            "dropout_3 (Dropout)          (None, 32)                0         \n",
            "_________________________________________________________________\n",
            "dense_14 (Dense)             (None, 9)                 297       \n",
            "=================================================================\n",
            "Total params: 642,441\n",
            "Trainable params: 642,441\n",
            "Non-trainable params: 0\n",
            "_________________________________________________________________\n"
          ],
          "name": "stdout"
        }
      ]
    },
    {
      "cell_type": "markdown",
      "metadata": {
        "id": "da225jPO0Tna",
        "colab_type": "text"
      },
      "source": [
        "### 1.4.a Model Training"
      ]
    },
    {
      "cell_type": "code",
      "metadata": {
        "id": "ivzbWchUELSh",
        "colab_type": "code",
        "colab": {}
      },
      "source": [
        "model_1reg.compile(optimizer='adam',\n",
        "              loss='categorical_crossentropy',\n",
        "              metrics=['accuracy'])"
      ],
      "execution_count": 83,
      "outputs": []
    },
    {
      "cell_type": "code",
      "metadata": {
        "id": "AYEBV4i3ELSj",
        "colab_type": "code",
        "colab": {
          "base_uri": "https://localhost:8080/",
          "height": 377
        },
        "outputId": "dfdfb4dc-cb98-426a-c2ad-1670279be070"
      },
      "source": [
        "train_rt = TrainRuntimeCallback()\n",
        "history = model_1reg.fit(train_data_smv,\n",
        "                    one_hot_train_labels_sm,\n",
        "                    callbacks = [train_rt],\n",
        "                    epochs=10,\n",
        "                    batch_size=100,\n",
        "                    validation_split = 0.15) \n",
        "\n",
        "# Saving models locally after fitting\n",
        "# save_dir = \"results/\"\n",
        "# model_name = 'Reuters_1reg.h5'\n",
        "# model_path = os.path.join(save_dir, model_name)\n",
        "# model_1reg.save(model_path)\n",
        "# print('Saved trained model at %s ' % model_path)\n",
        "# print('--------------------------')"
      ],
      "execution_count": 84,
      "outputs": [
        {
          "output_type": "stream",
          "text": [
            "Epoch 1/10\n",
            "64/64 [==============================] - 1s 18ms/step - loss: 3.2474 - accuracy: 0.6412 - val_loss: 1.4984 - val_accuracy: 0.8002\n",
            "Epoch 2/10\n",
            "64/64 [==============================] - 1s 16ms/step - loss: 1.3662 - accuracy: 0.8114 - val_loss: 1.2545 - val_accuracy: 0.8330\n",
            "Epoch 3/10\n",
            "64/64 [==============================] - 1s 16ms/step - loss: 1.2111 - accuracy: 0.8404 - val_loss: 1.1789 - val_accuracy: 0.8419\n",
            "Epoch 4/10\n",
            "64/64 [==============================] - 1s 16ms/step - loss: 1.1512 - accuracy: 0.8495 - val_loss: 1.1323 - val_accuracy: 0.8535\n",
            "Epoch 5/10\n",
            "64/64 [==============================] - 1s 17ms/step - loss: 1.1068 - accuracy: 0.8600 - val_loss: 1.1037 - val_accuracy: 0.8615\n",
            "Epoch 6/10\n",
            "64/64 [==============================] - 1s 16ms/step - loss: 1.0901 - accuracy: 0.8615 - val_loss: 1.1125 - val_accuracy: 0.8544\n",
            "Epoch 7/10\n",
            "64/64 [==============================] - 1s 16ms/step - loss: 1.0783 - accuracy: 0.8722 - val_loss: 1.0809 - val_accuracy: 0.8650\n",
            "Epoch 8/10\n",
            "64/64 [==============================] - 1s 15ms/step - loss: 1.0546 - accuracy: 0.8727 - val_loss: 1.0723 - val_accuracy: 0.8694\n",
            "Epoch 9/10\n",
            "64/64 [==============================] - 1s 16ms/step - loss: 1.0472 - accuracy: 0.8756 - val_loss: 1.0612 - val_accuracy: 0.8650\n",
            "Epoch 10/10\n",
            "64/64 [==============================] - 1s 16ms/step - loss: 1.0255 - accuracy: 0.8771 - val_loss: 1.0789 - val_accuracy: 0.8686\n"
          ],
          "name": "stdout"
        }
      ]
    },
    {
      "cell_type": "code",
      "metadata": {
        "id": "DD2UItyJELSl",
        "colab_type": "code",
        "colab": {
          "base_uri": "https://localhost:8080/",
          "height": 34
        },
        "outputId": "dedc2fe6-ebc0-4c32-d0cb-84d928124f50"
      },
      "source": [
        "# Get the training time\n",
        "train_time = train_rt.process_time\n",
        "train_time # in seconds"
      ],
      "execution_count": 85,
      "outputs": [
        {
          "output_type": "execute_result",
          "data": {
            "text/plain": [
              "11.099286"
            ]
          },
          "metadata": {
            "tags": []
          },
          "execution_count": 85
        }
      ]
    },
    {
      "cell_type": "markdown",
      "metadata": {
        "id": "4i4WuePV0bTP",
        "colab_type": "text"
      },
      "source": [
        "### 1.4.b Model Testing"
      ]
    },
    {
      "cell_type": "code",
      "metadata": {
        "id": "cfb8Lw1JELSn",
        "colab_type": "code",
        "colab": {
          "base_uri": "https://localhost:8080/",
          "height": 34
        },
        "outputId": "b25ac31b-660e-43cb-96ed-fe9cc3caae84"
      },
      "source": [
        "test_rt = TestRuntimeCallback()\n",
        "test_loss, test_accuracy = model_1reg.evaluate(test_data_smv, one_hot_test_labels_sm, callbacks=[test_rt], verbose=0) \n",
        "print(f\"test_accuracy={test_accuracy}, test_loss={test_loss}\")"
      ],
      "execution_count": 86,
      "outputs": [
        {
          "output_type": "stream",
          "text": [
            "test_accuracy=0.8628509640693665, test_loss=1.097510814666748\n"
          ],
          "name": "stdout"
        }
      ]
    },
    {
      "cell_type": "code",
      "metadata": {
        "id": "4okObr5MELSr",
        "colab_type": "code",
        "colab": {
          "base_uri": "https://localhost:8080/",
          "height": 34
        },
        "outputId": "e17d1111-89c2-47f7-934c-f5f3048c15e5"
      },
      "source": [
        "# Get the test time\n",
        "test_time = test_rt.process_time\n",
        "test_time # in seconds"
      ],
      "execution_count": 87,
      "outputs": [
        {
          "output_type": "execute_result",
          "data": {
            "text/plain": [
              "0.205867"
            ]
          },
          "metadata": {
            "tags": []
          },
          "execution_count": 87
        }
      ]
    },
    {
      "cell_type": "markdown",
      "metadata": {
        "id": "Qmj9aMwHELSt",
        "colab_type": "text"
      },
      "source": [
        "### 1.4.c Model Performance"
      ]
    },
    {
      "cell_type": "code",
      "metadata": {
        "id": "vtRLEvWmELSu",
        "colab_type": "code",
        "colab": {
          "base_uri": "https://localhost:8080/",
          "height": 320
        },
        "outputId": "09ef76f0-4776-42c9-becb-4984f886914f"
      },
      "source": [
        "# Plot learning curves for model\n",
        "pd.DataFrame(history.history).plot(figsize=(8, 5))\n",
        "plt.grid(True)\n",
        "plt.gca().set_ylim(0, 1.5) # set the vertical range to [0-1]\n",
        "# plt.savefig(\"figures/learning_curves_model_1reg\", tight_layout=False)\n",
        "plt.show()"
      ],
      "execution_count": 88,
      "outputs": [
        {
          "output_type": "display_data",
          "data": {
            "image/png": "[encoded data removed]",
            "text/plain": [
              "<Figure size 576x360 with 1 Axes>"
            ]
          },
          "metadata": {
            "tags": [],
            "needs_background": "light"
          }
        }
      ]
    },
    {
      "cell_type": "code",
      "metadata": {
        "id": "f9hQVz1JELSy",
        "colab_type": "code",
        "colab": {}
      },
      "source": [
        "history_dict = history.history\n",
        "# history_dict['train_accuracy'] = history_dict.pop('accuracy') # rename the the key to 'test_accuracy'\n",
        "history_df=pd.DataFrame(history_dict)"
      ],
      "execution_count": 89,
      "outputs": []
    },
    {
      "cell_type": "code",
      "metadata": {
        "id": "YuuZYkb1ELS1",
        "colab_type": "code",
        "colab": {
          "base_uri": "https://localhost:8080/",
          "height": 219
        },
        "outputId": "d4182373-9716-4ae5-d9e9-42d1efb933ae"
      },
      "source": [
        "results_df1reg = history_df.iloc[-1:].copy()\n",
        "results_df1reg.insert(0,'model','DNN (2 layers) w Drop and L1') # want the model name to appear first\n",
        "results_df1reg['test_accuracy'] = test_accuracy\n",
        "results_df1reg['test_loss'] = test_loss\n",
        "results_df1reg['training time (sec)'] = train_time      # we are okay with training time appearing last\n",
        "results_df1reg['testing time (sec)'] = test_time      # we are okay with training time appearing last\n",
        "results_df1reg"
      ],
      "execution_count": 90,
      "outputs": [
        {
          "output_type": "execute_result",
          "data": {
            "text/html": [
              "<div>\n",
              "<style scoped>\n",
              "    .dataframe tbody tr th:only-of-type {\n",
              "        vertical-align: middle;\n",
              "    }\n",
              "\n",
              "    .dataframe tbody tr th {\n",
              "        vertical-align: top;\n",
              "    }\n",
              "\n",
              "    .dataframe thead th {\n",
              "        text-align: right;\n",
              "    }\n",
              "</style>\n",
              "<table border=\"1\" class=\"dataframe\">\n",
              "  <thead>\n",
              "    <tr style=\"text-align: right;\">\n",
              "      <th></th>\n",
              "      <th>model</th>\n",
              "      <th>loss</th>\n",
              "      <th>accuracy</th>\n",
              "      <th>val_loss</th>\n",
              "      <th>val_accuracy</th>\n",
              "      <th>test_accuracy</th>\n",
              "      <th>test_loss</th>\n",
              "      <th>training time (sec)</th>\n",
              "      <th>testing time (sec)</th>\n",
              "    </tr>\n",
              "  </thead>\n",
              "  <tbody>\n",
              "    <tr>\n",
              "      <th>9</th>\n",
              "      <td>DNN (2 layers) w Drop and L1</td>\n",
              "      <td>1.025516</td>\n",
              "      <td>0.877058</td>\n",
              "      <td>1.078874</td>\n",
              "      <td>0.868561</td>\n",
              "      <td>0.862851</td>\n",
              "      <td>1.097511</td>\n",
              "      <td>11.099286</td>\n",
              "      <td>0.205867</td>\n",
              "    </tr>\n",
              "  </tbody>\n",
              "</table>\n",
              "</div>"
            ],
            "text/plain": [
              "                          model  ...  testing time (sec)\n",
              "9  DNN (2 layers) w Drop and L1  ...            0.205867\n",
              "\n",
              "[1 rows x 9 columns]"
            ]
          },
          "metadata": {
            "tags": []
          },
          "execution_count": 90
        }
      ]
    },
    {
      "cell_type": "markdown",
      "metadata": {
        "id": "HZSIVGe9ELS3",
        "colab_type": "text"
      },
      "source": [
        "## 1.5 Baseline Model w/embedding layer"
      ]
    },
    {
      "cell_type": "code",
      "metadata": {
        "id": "jZASyjhiELS3",
        "colab_type": "code",
        "colab": {
          "base_uri": "https://localhost:8080/",
          "height": 34
        },
        "outputId": "d21ee2d1-639b-4390-ffb8-c489fc080853"
      },
      "source": [
        "train_data_smv.shape"
      ],
      "execution_count": 91,
      "outputs": [
        {
          "output_type": "execute_result",
          "data": {
            "text/plain": [
              "(7503, 10000)"
            ]
          },
          "metadata": {
            "tags": []
          },
          "execution_count": 91
        }
      ]
    },
    {
      "cell_type": "code",
      "metadata": {
        "id": "GDyOj9uMELS7",
        "colab_type": "code",
        "colab": {
          "base_uri": "https://localhost:8080/",
          "height": 35
        },
        "outputId": "d881e122-c14c-4d3a-e103-15fe2617f917"
      },
      "source": [
        "train_data_sm_len =[len(w) for w in train_data_sm]\n",
        "maxlen = int(np.percentile(train_data_sm_len, 80))\n",
        "f\"80th percentile of train_data_sm : {maxlen}\""
      ],
      "execution_count": 92,
      "outputs": [
        {
          "output_type": "execute_result",
          "data": {
            "application/vnd.google.colaboratory.intrinsic+json": {
              "type": "string"
            },
            "text/plain": [
              "'80th percentile of train_data_sm : 193'"
            ]
          },
          "metadata": {
            "tags": []
          },
          "execution_count": 92
        }
      ]
    },
    {
      "cell_type": "code",
      "metadata": {
        "id": "vhTBBK2fELS9",
        "colab_type": "code",
        "colab": {}
      },
      "source": [
        "# https://github.com/fchollet/deep-learning-with-python-notebooks/blob/master/6.1-using-word-embeddings.ipynb\n",
        "train_data_smv = preprocessing.sequence.pad_sequences(train_data_sm, maxlen=maxlen)\n",
        "test_data_smv = preprocessing.sequence.pad_sequences(test_data_sm, maxlen=maxlen)"
      ],
      "execution_count": 93,
      "outputs": []
    },
    {
      "cell_type": "code",
      "metadata": {
        "id": "Ucy42P0KELS-",
        "colab_type": "code",
        "colab": {
          "base_uri": "https://localhost:8080/",
          "height": 323
        },
        "outputId": "b77f6966-66f1-4151-82eb-dfde65e9a966"
      },
      "source": [
        "# https://github.com/fchollet/deep-learning-with-python-notebooks/blob/master/6.1-using-word-embeddings.ipynb\n",
        "model_1emb = Sequential()\n",
        "\n",
        "# We specify the maximum input length to our Embedding layer so we can later flatten the embedded inputs\n",
        "model_1emb.add(Embedding(voc_size, 128, input_length = maxlen))  # vocabulary size = 10,000\n",
        "# After the Embedding layer, our activations have shape `(samples, maxlen, 30)`.\n",
        "\n",
        "# We flatten the 3D tensor of embeddings into a 2D tensor of shape `(samples, maxlen * 30)`\n",
        "model_1emb.add(Flatten())\n",
        "model_1emb.add(Dense(units = 64, activation='relu'))\n",
        "model_1emb.add(Dense(units = 32, activation='relu'))\n",
        "\n",
        "# We add the classifier on top\n",
        "model_1emb.add(Dense(units = 9, activation='softmax'))\n",
        "model_1emb.summary()"
      ],
      "execution_count": 94,
      "outputs": [
        {
          "output_type": "stream",
          "text": [
            "Model: \"sequential_5\"\n",
            "_________________________________________________________________\n",
            "Layer (type)                 Output Shape              Param #   \n",
            "=================================================================\n",
            "embedding (Embedding)        (None, 193, 128)          1280000   \n",
            "_________________________________________________________________\n",
            "flatten (Flatten)            (None, 24704)             0         \n",
            "_________________________________________________________________\n",
            "dense_15 (Dense)             (None, 64)                1581120   \n",
            "_________________________________________________________________\n",
            "dense_16 (Dense)             (None, 32)                2080      \n",
            "_________________________________________________________________\n",
            "dense_17 (Dense)             (None, 9)                 297       \n",
            "=================================================================\n",
            "Total params: 2,863,497\n",
            "Trainable params: 2,863,497\n",
            "Non-trainable params: 0\n",
            "_________________________________________________________________\n"
          ],
          "name": "stdout"
        }
      ]
    },
    {
      "cell_type": "markdown",
      "metadata": {
        "id": "H6pWhxLa0vBJ",
        "colab_type": "text"
      },
      "source": [
        "### 1.5.a Model Training"
      ]
    },
    {
      "cell_type": "code",
      "metadata": {
        "id": "eb_5QKjJELTA",
        "colab_type": "code",
        "colab": {}
      },
      "source": [
        "model_1emb.compile(optimizer='adam', \n",
        "                   loss='categorical_crossentropy', \n",
        "                   metrics=['accuracy'])"
      ],
      "execution_count": 95,
      "outputs": []
    },
    {
      "cell_type": "code",
      "metadata": {
        "id": "a2MG3LsfELTC",
        "colab_type": "code",
        "colab": {
          "base_uri": "https://localhost:8080/",
          "height": 377
        },
        "outputId": "71be7fda-247b-4719-a06b-6f1bf0664b4f"
      },
      "source": [
        "train_rt = TrainRuntimeCallback()\n",
        "history = model_1emb.fit(train_data_smv,             \n",
        "                    one_hot_train_labels_sm,  \n",
        "                    callbacks = [train_rt],\n",
        "                    epochs=10,\n",
        "                    batch_size=100,\n",
        "                    validation_split = 0.15)\n",
        "\n",
        "# Saving models locally after fitting\n",
        "# save_dir = \"results/\"\n",
        "# model_name = 'Reuters_1emb.h5'\n",
        "# model_path = os.path.join(save_dir, model_name)\n",
        "# model_1emb.save(model_path)\n",
        "# print('Saved trained model at %s ' % model_path)\n",
        "# print('--------------------------')"
      ],
      "execution_count": 96,
      "outputs": [
        {
          "output_type": "stream",
          "text": [
            "Epoch 1/10\n",
            "64/64 [==============================] - 4s 58ms/step - loss: 1.2885 - accuracy: 0.5681 - val_loss: 0.9479 - val_accuracy: 0.7123\n",
            "Epoch 2/10\n",
            "64/64 [==============================] - 3s 55ms/step - loss: 0.6271 - accuracy: 0.8181 - val_loss: 0.7593 - val_accuracy: 0.7735\n",
            "Epoch 3/10\n",
            "64/64 [==============================] - 4s 56ms/step - loss: 0.2644 - accuracy: 0.9388 - val_loss: 0.7516 - val_accuracy: 0.7993\n",
            "Epoch 4/10\n",
            "64/64 [==============================] - 4s 58ms/step - loss: 0.1441 - accuracy: 0.9641 - val_loss: 0.7465 - val_accuracy: 0.8117\n",
            "Epoch 5/10\n",
            "64/64 [==============================] - 3s 54ms/step - loss: 0.1143 - accuracy: 0.9666 - val_loss: 0.7525 - val_accuracy: 0.8055\n",
            "Epoch 6/10\n",
            "64/64 [==============================] - 3s 55ms/step - loss: 0.0993 - accuracy: 0.9675 - val_loss: 0.8084 - val_accuracy: 0.7984\n",
            "Epoch 7/10\n",
            "64/64 [==============================] - 4s 56ms/step - loss: 0.0901 - accuracy: 0.9685 - val_loss: 0.8019 - val_accuracy: 0.8082\n",
            "Epoch 8/10\n",
            "64/64 [==============================] - 3s 53ms/step - loss: 0.0790 - accuracy: 0.9672 - val_loss: 0.8176 - val_accuracy: 0.7975\n",
            "Epoch 9/10\n",
            "64/64 [==============================] - 4s 55ms/step - loss: 0.0828 - accuracy: 0.9679 - val_loss: 0.8126 - val_accuracy: 0.8011\n",
            "Epoch 10/10\n",
            "64/64 [==============================] - 3s 54ms/step - loss: 0.0751 - accuracy: 0.9693 - val_loss: 0.8686 - val_accuracy: 0.7984\n"
          ],
          "name": "stdout"
        }
      ]
    },
    {
      "cell_type": "code",
      "metadata": {
        "id": "0QghIE7CELTE",
        "colab_type": "code",
        "colab": {
          "base_uri": "https://localhost:8080/",
          "height": 34
        },
        "outputId": "2d303a84-15f6-4b2e-8a88-03c863a22c6b"
      },
      "source": [
        "# Get the training time\n",
        "train_time = train_rt.process_time\n",
        "train_time # in seconds"
      ],
      "execution_count": 97,
      "outputs": [
        {
          "output_type": "execute_result",
          "data": {
            "text/plain": [
              "36.517626"
            ]
          },
          "metadata": {
            "tags": []
          },
          "execution_count": 97
        }
      ]
    },
    {
      "cell_type": "markdown",
      "metadata": {
        "id": "DYRBQssz02W7",
        "colab_type": "text"
      },
      "source": [
        "### 1.5.b Model Testing"
      ]
    },
    {
      "cell_type": "code",
      "metadata": {
        "id": "q3V1YVT8ELTF",
        "colab_type": "code",
        "colab": {
          "base_uri": "https://localhost:8080/",
          "height": 34
        },
        "outputId": "f46e3a42-3139-4096-df32-ef7b3a21d04c"
      },
      "source": [
        "test_rt = TestRuntimeCallback()\n",
        "test_loss, test_accuracy = model_1emb.evaluate(test_data_smv, one_hot_test_labels_sm, callbacks=[test_rt], verbose=0)\n",
        "print(f\"test_accuracy={test_accuracy}, test_loss={test_loss}\")"
      ],
      "execution_count": 98,
      "outputs": [
        {
          "output_type": "stream",
          "text": [
            "test_accuracy=0.78995680809021, test_loss=0.8822323083877563\n"
          ],
          "name": "stdout"
        }
      ]
    },
    {
      "cell_type": "code",
      "metadata": {
        "id": "dLp1mKvaELTH",
        "colab_type": "code",
        "colab": {
          "base_uri": "https://localhost:8080/",
          "height": 34
        },
        "outputId": "f08d2913-d421-4457-b6fa-98c6d9a3d605"
      },
      "source": [
        "# Get the test time\n",
        "test_time = test_rt.process_time\n",
        "test_time # in seconds"
      ],
      "execution_count": 99,
      "outputs": [
        {
          "output_type": "execute_result",
          "data": {
            "text/plain": [
              "0.25309"
            ]
          },
          "metadata": {
            "tags": []
          },
          "execution_count": 99
        }
      ]
    },
    {
      "cell_type": "markdown",
      "metadata": {
        "id": "PYn4X1XnELTK",
        "colab_type": "text"
      },
      "source": [
        "### 1.5.c Model Performance"
      ]
    },
    {
      "cell_type": "code",
      "metadata": {
        "id": "3DrQYuwQELTK",
        "colab_type": "code",
        "colab": {
          "base_uri": "https://localhost:8080/",
          "height": 324
        },
        "outputId": "61203025-91c7-4a45-9ffa-dd214b22051e"
      },
      "source": [
        "# Plot learning curves for model\n",
        "pd.DataFrame(history.history).plot(figsize=(8, 5))\n",
        "plt.grid(True)\n",
        "plt.gca().set_ylim(0, 1) # set the vertical range to [0-1]\n",
        "# plt.savefig(\"figures/learning_curves_model_1b\", tight_layout=False)\n",
        "plt.show()"
      ],
      "execution_count": 100,
      "outputs": [
        {
          "output_type": "display_data",
          "data": {
            "image/png": "[encoded data removed]",
            "text/plain": [
              "<Figure size 576x360 with 1 Axes>"
            ]
          },
          "metadata": {
            "tags": [],
            "needs_background": "light"
          }
        }
      ]
    },
    {
      "cell_type": "code",
      "metadata": {
        "id": "r10N9vX5ELTP",
        "colab_type": "code",
        "colab": {}
      },
      "source": [
        "history_dict = history.history.copy()\n",
        "# history_dict['train_accuracy'] = history_dict.pop('accuracy') # rename the the key to 'test_accuracy'\n",
        "history_df=pd.DataFrame(history_dict)"
      ],
      "execution_count": 101,
      "outputs": []
    },
    {
      "cell_type": "code",
      "metadata": {
        "id": "lRBTBv20ELTR",
        "colab_type": "code",
        "colab": {
          "base_uri": "https://localhost:8080/",
          "height": 202
        },
        "outputId": "23d33c2b-be64-416e-f1b6-8f00a6d0046b"
      },
      "source": [
        "results_dfemb = history_df.iloc[-1:].copy()\n",
        "results_dfemb.insert(0,'model','DNN (2 layers) w Embed') # want the model name to appear first\n",
        "results_dfemb['test_accuracy'] = test_accuracy\n",
        "results_dfemb['test_loss'] = test_loss\n",
        "results_dfemb['training time (sec)'] = train_time\n",
        "results_dfemb['testing time (sec)'] = test_time     \n",
        "results_dfemb\n"
      ],
      "execution_count": 102,
      "outputs": [
        {
          "output_type": "execute_result",
          "data": {
            "text/html": [
              "<div>\n",
              "<style scoped>\n",
              "    .dataframe tbody tr th:only-of-type {\n",
              "        vertical-align: middle;\n",
              "    }\n",
              "\n",
              "    .dataframe tbody tr th {\n",
              "        vertical-align: top;\n",
              "    }\n",
              "\n",
              "    .dataframe thead th {\n",
              "        text-align: right;\n",
              "    }\n",
              "</style>\n",
              "<table border=\"1\" class=\"dataframe\">\n",
              "  <thead>\n",
              "    <tr style=\"text-align: right;\">\n",
              "      <th></th>\n",
              "      <th>model</th>\n",
              "      <th>loss</th>\n",
              "      <th>accuracy</th>\n",
              "      <th>val_loss</th>\n",
              "      <th>val_accuracy</th>\n",
              "      <th>test_accuracy</th>\n",
              "      <th>test_loss</th>\n",
              "      <th>training time (sec)</th>\n",
              "      <th>testing time (sec)</th>\n",
              "    </tr>\n",
              "  </thead>\n",
              "  <tbody>\n",
              "    <tr>\n",
              "      <th>9</th>\n",
              "      <td>DNN (2 layers) w Embed</td>\n",
              "      <td>0.075075</td>\n",
              "      <td>0.969265</td>\n",
              "      <td>0.868562</td>\n",
              "      <td>0.798401</td>\n",
              "      <td>0.789957</td>\n",
              "      <td>0.882232</td>\n",
              "      <td>36.517626</td>\n",
              "      <td>0.25309</td>\n",
              "    </tr>\n",
              "  </tbody>\n",
              "</table>\n",
              "</div>"
            ],
            "text/plain": [
              "                    model      loss  ...  training time (sec)  testing time (sec)\n",
              "9  DNN (2 layers) w Embed  0.075075  ...            36.517626             0.25309\n",
              "\n",
              "[1 rows x 9 columns]"
            ]
          },
          "metadata": {
            "tags": []
          },
          "execution_count": 102
        }
      ]
    },
    {
      "cell_type": "markdown",
      "metadata": {
        "id": "KAmhbG3qELTS",
        "colab_type": "text"
      },
      "source": [
        "### 1.6: Baseline Model w/embedding and 10% dropout"
      ]
    },
    {
      "cell_type": "code",
      "metadata": {
        "id": "zr7QSu5uELTV",
        "colab_type": "code",
        "colab": {
          "base_uri": "https://localhost:8080/",
          "height": 391
        },
        "outputId": "cb380c27-84fa-4ed9-d12d-baabb7773528"
      },
      "source": [
        "# https://github.com/fchollet/deep-learning-with-python-notebooks/blob/master/6.1-using-word-embeddings.ipynb\n",
        "# from tensorflow.keras.layers import Flatten, Embedding\n",
        "\n",
        "model_1embdo = Sequential()\n",
        "model_1embdo.add(Embedding(voc_size, 128, input_length = maxlen))  # vocabulary size = 10,000\n",
        "model_1embdo.add(Flatten())\n",
        "\n",
        "model_1embdo.add(Dense(units=64, activation='relu'))\n",
        "model_1embdo.add(layers.Dropout(0.1))\n",
        "model_1embdo.add(Dense(units=32, activation='relu'))\n",
        "model_1embdo.add(layers.Dropout(0.1))\n",
        "model_1embdo.add(Dense(units=9, activation='softmax'))\n",
        "model_1embdo.summary()"
      ],
      "execution_count": 103,
      "outputs": [
        {
          "output_type": "stream",
          "text": [
            "Model: \"sequential_6\"\n",
            "_________________________________________________________________\n",
            "Layer (type)                 Output Shape              Param #   \n",
            "=================================================================\n",
            "embedding_1 (Embedding)      (None, 193, 128)          1280000   \n",
            "_________________________________________________________________\n",
            "flatten_1 (Flatten)          (None, 24704)             0         \n",
            "_________________________________________________________________\n",
            "dense_18 (Dense)             (None, 64)                1581120   \n",
            "_________________________________________________________________\n",
            "dropout_4 (Dropout)          (None, 64)                0         \n",
            "_________________________________________________________________\n",
            "dense_19 (Dense)             (None, 32)                2080      \n",
            "_________________________________________________________________\n",
            "dropout_5 (Dropout)          (None, 32)                0         \n",
            "_________________________________________________________________\n",
            "dense_20 (Dense)             (None, 9)                 297       \n",
            "=================================================================\n",
            "Total params: 2,863,497\n",
            "Trainable params: 2,863,497\n",
            "Non-trainable params: 0\n",
            "_________________________________________________________________\n"
          ],
          "name": "stdout"
        }
      ]
    },
    {
      "cell_type": "markdown",
      "metadata": {
        "id": "iP6fvEHT0_7S",
        "colab_type": "text"
      },
      "source": [
        "### 1.7.a Model Training"
      ]
    },
    {
      "cell_type": "code",
      "metadata": {
        "id": "6XIaXPY6ELTX",
        "colab_type": "code",
        "colab": {}
      },
      "source": [
        "model_1embdo.compile(optimizer='adam', \n",
        "                     loss='categorical_crossentropy', \n",
        "                     metrics=['accuracy'])"
      ],
      "execution_count": 104,
      "outputs": []
    },
    {
      "cell_type": "code",
      "metadata": {
        "id": "7jzZITXXELTY",
        "colab_type": "code",
        "colab": {
          "base_uri": "https://localhost:8080/",
          "height": 377
        },
        "outputId": "a213c484-92b8-4865-a85a-51bd4ba7c655"
      },
      "source": [
        "train_rt = TrainRuntimeCallback()\n",
        "history = model_1embdo.fit(train_data_smv,             \n",
        "                    one_hot_train_labels_sm,  \n",
        "                    callbacks = [train_rt],\n",
        "                    epochs=10,\n",
        "                    batch_size=100,\n",
        "                    validation_split = 0.15)\n",
        "\n",
        "# Saving models locally after fitting\n",
        "# save_dir = \"results/\"\n",
        "# model_name = 'Reuters_1embdo.h5'\n",
        "# model_path = os.path.join(save_dir, model_name)\n",
        "# model_1embdo.save(model_path)\n",
        "# print('Saved trained model at %s ' % model_path)\n",
        "# print('--------------------------')"
      ],
      "execution_count": 105,
      "outputs": [
        {
          "output_type": "stream",
          "text": [
            "Epoch 1/10\n",
            "64/64 [==============================] - 3s 55ms/step - loss: 1.3345 - accuracy: 0.5630 - val_loss: 0.9598 - val_accuracy: 0.6767\n",
            "Epoch 2/10\n",
            "64/64 [==============================] - 3s 54ms/step - loss: 0.7338 - accuracy: 0.7822 - val_loss: 0.7576 - val_accuracy: 0.7709\n",
            "Epoch 3/10\n",
            "64/64 [==============================] - 3s 53ms/step - loss: 0.3531 - accuracy: 0.9122 - val_loss: 0.7039 - val_accuracy: 0.8153\n",
            "Epoch 4/10\n",
            "64/64 [==============================] - 3s 53ms/step - loss: 0.1954 - accuracy: 0.9591 - val_loss: 0.6912 - val_accuracy: 0.8188\n",
            "Epoch 5/10\n",
            "64/64 [==============================] - 3s 54ms/step - loss: 0.1407 - accuracy: 0.9636 - val_loss: 0.7236 - val_accuracy: 0.8224\n",
            "Epoch 6/10\n",
            "64/64 [==============================] - 3s 53ms/step - loss: 0.1147 - accuracy: 0.9680 - val_loss: 0.7849 - val_accuracy: 0.8162\n",
            "Epoch 7/10\n",
            "64/64 [==============================] - 4s 56ms/step - loss: 0.1026 - accuracy: 0.9680 - val_loss: 0.7699 - val_accuracy: 0.8179\n",
            "Epoch 8/10\n",
            "64/64 [==============================] - 3s 53ms/step - loss: 0.0839 - accuracy: 0.9707 - val_loss: 0.8679 - val_accuracy: 0.8064\n",
            "Epoch 9/10\n",
            "64/64 [==============================] - 4s 55ms/step - loss: 0.0838 - accuracy: 0.9696 - val_loss: 0.8400 - val_accuracy: 0.8108\n",
            "Epoch 10/10\n",
            "64/64 [==============================] - 3s 53ms/step - loss: 0.0819 - accuracy: 0.9688 - val_loss: 0.8893 - val_accuracy: 0.8135\n"
          ],
          "name": "stdout"
        }
      ]
    },
    {
      "cell_type": "code",
      "metadata": {
        "id": "v3QQWfmBELTa",
        "colab_type": "code",
        "colab": {
          "base_uri": "https://localhost:8080/",
          "height": 34
        },
        "outputId": "a440217e-831c-4450-8d48-6b9064c2832e"
      },
      "source": [
        "# Get the training time\n",
        "train_time = train_rt.process_time\n",
        "train_time # in seconds"
      ],
      "execution_count": 106,
      "outputs": [
        {
          "output_type": "execute_result",
          "data": {
            "text/plain": [
              "35.832285"
            ]
          },
          "metadata": {
            "tags": []
          },
          "execution_count": 106
        }
      ]
    },
    {
      "cell_type": "markdown",
      "metadata": {
        "id": "IAVWjFkk1Cp2",
        "colab_type": "text"
      },
      "source": [
        "### 1.7.b Model Testing"
      ]
    },
    {
      "cell_type": "code",
      "metadata": {
        "id": "ZdndHIv9ELTb",
        "colab_type": "code",
        "colab": {
          "base_uri": "https://localhost:8080/",
          "height": 34
        },
        "outputId": "be2c7c32-99a6-4583-9a3f-7eb2577758fc"
      },
      "source": [
        "test_rt = TestRuntimeCallback()\n",
        "test_loss, test_accuracy = model_1embdo.evaluate(test_data_smv, one_hot_test_labels_sm, callbacks=[test_rt], verbose=0)\n",
        "print(f\"test_accuracy={test_accuracy}, test_loss={test_loss}\")"
      ],
      "execution_count": 107,
      "outputs": [
        {
          "output_type": "stream",
          "text": [
            "test_accuracy=0.8077753782272339, test_loss=0.8941773176193237\n"
          ],
          "name": "stdout"
        }
      ]
    },
    {
      "cell_type": "code",
      "metadata": {
        "id": "7QF7RT34ELTd",
        "colab_type": "code",
        "colab": {
          "base_uri": "https://localhost:8080/",
          "height": 34
        },
        "outputId": "e68386bd-d72c-4c90-bb68-200466be5971"
      },
      "source": [
        "# Get the test time\n",
        "test_time = test_rt.process_time\n",
        "test_time # in seconds"
      ],
      "execution_count": 108,
      "outputs": [
        {
          "output_type": "execute_result",
          "data": {
            "text/plain": [
              "0.248716"
            ]
          },
          "metadata": {
            "tags": []
          },
          "execution_count": 108
        }
      ]
    },
    {
      "cell_type": "markdown",
      "metadata": {
        "id": "oMlwm007ELTe",
        "colab_type": "text"
      },
      "source": [
        "### 1.7.c Model Performance"
      ]
    },
    {
      "cell_type": "code",
      "metadata": {
        "id": "jYD0WcVJELTe",
        "colab_type": "code",
        "colab": {
          "base_uri": "https://localhost:8080/",
          "height": 324
        },
        "outputId": "1ce7ed9d-14d4-4945-ae19-68464a9fed90"
      },
      "source": [
        "# Plot learning curves for model\n",
        "pd.DataFrame(history.history).plot(figsize=(8, 5))\n",
        "plt.grid(True)\n",
        "plt.gca().set_ylim(0, 1) # set the vertical range to [0-1]\n",
        "# plt.savefig(\"figures/learning_curves_model_1_c\", tight_layout=False)\n",
        "plt.show()"
      ],
      "execution_count": 109,
      "outputs": [
        {
          "output_type": "display_data",
          "data": {
            "image/png": "[encoded data removed]",
            "text/plain": [
              "<Figure size 576x360 with 1 Axes>"
            ]
          },
          "metadata": {
            "tags": [],
            "needs_background": "light"
          }
        }
      ]
    },
    {
      "cell_type": "code",
      "metadata": {
        "id": "DjYlPJXQELTg",
        "colab_type": "code",
        "colab": {}
      },
      "source": [
        "history_dict = history.history.copy()\n",
        "# history_dict['train_accuracy'] = history_dict.pop('accuracy') # rename the the key to 'test_accuracy'\n",
        "history_df=pd.DataFrame(history_dict)"
      ],
      "execution_count": 110,
      "outputs": []
    },
    {
      "cell_type": "code",
      "metadata": {
        "id": "K0Rl7XtaELTj",
        "colab_type": "code",
        "colab": {
          "base_uri": "https://localhost:8080/",
          "height": 219
        },
        "outputId": "753e04cf-8596-46ce-a692-f3100505601a"
      },
      "source": [
        "results_dfembdo = history_df.iloc[-1:].copy()\n",
        "results_dfembdo.insert(0,'model','DNN (2 layers) w Embed + Dropout') # want the model name to appear first\n",
        "results_dfembdo['test_accuracy'] = test_accuracy\n",
        "results_dfembdo['test_loss'] = test_loss\n",
        "results_dfembdo['training time (sec)'] = train_time      \n",
        "results_dfembdo['testing time (sec)'] = test_time     \n",
        "results_dfembdo"
      ],
      "execution_count": 111,
      "outputs": [
        {
          "output_type": "execute_result",
          "data": {
            "text/html": [
              "<div>\n",
              "<style scoped>\n",
              "    .dataframe tbody tr th:only-of-type {\n",
              "        vertical-align: middle;\n",
              "    }\n",
              "\n",
              "    .dataframe tbody tr th {\n",
              "        vertical-align: top;\n",
              "    }\n",
              "\n",
              "    .dataframe thead th {\n",
              "        text-align: right;\n",
              "    }\n",
              "</style>\n",
              "<table border=\"1\" class=\"dataframe\">\n",
              "  <thead>\n",
              "    <tr style=\"text-align: right;\">\n",
              "      <th></th>\n",
              "      <th>model</th>\n",
              "      <th>loss</th>\n",
              "      <th>accuracy</th>\n",
              "      <th>val_loss</th>\n",
              "      <th>val_accuracy</th>\n",
              "      <th>test_accuracy</th>\n",
              "      <th>test_loss</th>\n",
              "      <th>training time (sec)</th>\n",
              "      <th>testing time (sec)</th>\n",
              "    </tr>\n",
              "  </thead>\n",
              "  <tbody>\n",
              "    <tr>\n",
              "      <th>9</th>\n",
              "      <td>DNN (2 layers) w Embed + Dropout</td>\n",
              "      <td>0.081857</td>\n",
              "      <td>0.968794</td>\n",
              "      <td>0.889317</td>\n",
              "      <td>0.813499</td>\n",
              "      <td>0.807775</td>\n",
              "      <td>0.894177</td>\n",
              "      <td>35.832285</td>\n",
              "      <td>0.248716</td>\n",
              "    </tr>\n",
              "  </tbody>\n",
              "</table>\n",
              "</div>"
            ],
            "text/plain": [
              "                              model  ...  testing time (sec)\n",
              "9  DNN (2 layers) w Embed + Dropout  ...            0.248716\n",
              "\n",
              "[1 rows x 9 columns]"
            ]
          },
          "metadata": {
            "tags": []
          },
          "execution_count": 111
        }
      ]
    },
    {
      "cell_type": "code",
      "metadata": {
        "id": "cjZWAptTELTl",
        "colab_type": "code",
        "colab": {
          "base_uri": "https://localhost:8080/",
          "height": 544
        },
        "outputId": "b667ed3a-9c70-4c7f-d5b9-f55a691ece51"
      },
      "source": [
        "results_df=results_df.append(results_df1a,ignore_index=True)\n",
        "results_df=results_df.append(results_df1do,ignore_index=True)\n",
        "results_df=results_df.append(results_df1reg,ignore_index=True)\n",
        "results_df=results_df.append(results_dfemb,ignore_index=True)\n",
        "results_df=results_df.append(results_dfembdo,ignore_index=True)\n",
        "results_df"
      ],
      "execution_count": 112,
      "outputs": [
        {
          "output_type": "execute_result",
          "data": {
            "text/html": [
              "<div>\n",
              "<style scoped>\n",
              "    .dataframe tbody tr th:only-of-type {\n",
              "        vertical-align: middle;\n",
              "    }\n",
              "\n",
              "    .dataframe tbody tr th {\n",
              "        vertical-align: top;\n",
              "    }\n",
              "\n",
              "    .dataframe thead th {\n",
              "        text-align: right;\n",
              "    }\n",
              "</style>\n",
              "<table border=\"1\" class=\"dataframe\">\n",
              "  <thead>\n",
              "    <tr style=\"text-align: right;\">\n",
              "      <th></th>\n",
              "      <th>model</th>\n",
              "      <th>loss</th>\n",
              "      <th>accuracy</th>\n",
              "      <th>val_loss</th>\n",
              "      <th>val_accuracy</th>\n",
              "      <th>test_accuracy</th>\n",
              "      <th>test_loss</th>\n",
              "      <th>training time (sec)</th>\n",
              "      <th>testing time (sec)</th>\n",
              "    </tr>\n",
              "  </thead>\n",
              "  <tbody>\n",
              "    <tr>\n",
              "      <th>0</th>\n",
              "      <td>DNN (2 layers) 9 topics</td>\n",
              "      <td>0.098419</td>\n",
              "      <td>0.965971</td>\n",
              "      <td>0.654334</td>\n",
              "      <td>0.865897</td>\n",
              "      <td>0.857991</td>\n",
              "      <td>0.680301</td>\n",
              "      <td>8.366051</td>\n",
              "      <td>0.130511</td>\n",
              "    </tr>\n",
              "    <tr>\n",
              "      <th>1</th>\n",
              "      <td>DNN (2 layers 256/256)</td>\n",
              "      <td>0.069291</td>\n",
              "      <td>0.967069</td>\n",
              "      <td>0.708131</td>\n",
              "      <td>0.861456</td>\n",
              "      <td>0.855292</td>\n",
              "      <td>0.749545</td>\n",
              "      <td>22.454012</td>\n",
              "      <td>0.346137</td>\n",
              "    </tr>\n",
              "    <tr>\n",
              "      <th>2</th>\n",
              "      <td>DNN (2 layers) w Drop</td>\n",
              "      <td>0.097031</td>\n",
              "      <td>0.967853</td>\n",
              "      <td>0.685843</td>\n",
              "      <td>0.864121</td>\n",
              "      <td>0.853672</td>\n",
              "      <td>0.693441</td>\n",
              "      <td>8.779403</td>\n",
              "      <td>0.148081</td>\n",
              "    </tr>\n",
              "    <tr>\n",
              "      <th>3</th>\n",
              "      <td>DNN (2 layers) w Drop and L1</td>\n",
              "      <td>1.025516</td>\n",
              "      <td>0.877058</td>\n",
              "      <td>1.078874</td>\n",
              "      <td>0.868561</td>\n",
              "      <td>0.862851</td>\n",
              "      <td>1.097511</td>\n",
              "      <td>11.099286</td>\n",
              "      <td>0.205867</td>\n",
              "    </tr>\n",
              "    <tr>\n",
              "      <th>4</th>\n",
              "      <td>DNN (2 layers) w Embed</td>\n",
              "      <td>0.075075</td>\n",
              "      <td>0.969265</td>\n",
              "      <td>0.868562</td>\n",
              "      <td>0.798401</td>\n",
              "      <td>0.789957</td>\n",
              "      <td>0.882232</td>\n",
              "      <td>36.517626</td>\n",
              "      <td>0.253090</td>\n",
              "    </tr>\n",
              "    <tr>\n",
              "      <th>5</th>\n",
              "      <td>DNN (2 layers) w Embed + Dropout</td>\n",
              "      <td>0.081857</td>\n",
              "      <td>0.968794</td>\n",
              "      <td>0.889317</td>\n",
              "      <td>0.813499</td>\n",
              "      <td>0.807775</td>\n",
              "      <td>0.894177</td>\n",
              "      <td>35.832285</td>\n",
              "      <td>0.248716</td>\n",
              "    </tr>\n",
              "  </tbody>\n",
              "</table>\n",
              "</div>"
            ],
            "text/plain": [
              "                              model  ...  testing time (sec)\n",
              "0           DNN (2 layers) 9 topics  ...            0.130511\n",
              "1            DNN (2 layers 256/256)  ...            0.346137\n",
              "2             DNN (2 layers) w Drop  ...            0.148081\n",
              "3      DNN (2 layers) w Drop and L1  ...            0.205867\n",
              "4            DNN (2 layers) w Embed  ...            0.253090\n",
              "5  DNN (2 layers) w Embed + Dropout  ...            0.248716\n",
              "\n",
              "[6 rows x 9 columns]"
            ]
          },
          "metadata": {
            "tags": []
          },
          "execution_count": 112
        }
      ]
    },
    {
      "cell_type": "code",
      "metadata": {
        "id": "O5-DXxfeELTr",
        "colab_type": "code",
        "colab": {}
      },
      "source": [
        "results_df.to_pickle(\"results1.pkl\") "
      ],
      "execution_count": 115,
      "outputs": []
    },
    {
      "cell_type": "markdown",
      "metadata": {
        "id": "kfN_EGNkELTs",
        "colab_type": "text"
      },
      "source": [
        "## 2. Experiment 2: RNN"
      ]
    },
    {
      "cell_type": "code",
      "metadata": {
        "id": "8DLHjT1eELTs",
        "colab_type": "code",
        "colab": {}
      },
      "source": [
        "keras.backend.clear_session()\n",
        "np.random.seed(42)\n",
        "tf.random.set_seed(42)"
      ],
      "execution_count": 190,
      "outputs": []
    },
    {
      "cell_type": "code",
      "metadata": {
        "id": "ZOwrvggcELTu",
        "colab_type": "code",
        "colab": {
          "base_uri": "https://localhost:8080/",
          "height": 34
        },
        "outputId": "7f36d57b-3e8b-4ba2-d22d-ea9091e64b38"
      },
      "source": [
        "train_data_sm.shape, test_data_sm.shape"
      ],
      "execution_count": 191,
      "outputs": [
        {
          "output_type": "execute_result",
          "data": {
            "text/plain": [
              "((7503,), (1852,))"
            ]
          },
          "metadata": {
            "tags": []
          },
          "execution_count": 191
        }
      ]
    },
    {
      "cell_type": "code",
      "metadata": {
        "id": "O0Cg36yeELTv",
        "colab_type": "code",
        "colab": {}
      },
      "source": [
        "train_data_sm_rnn = preprocessing.sequence.pad_sequences(train_data_sm, maxlen=193)\n",
        "test_data_sm_rnn = preprocessing.sequence.pad_sequences(test_data_sm, maxlen=193)"
      ],
      "execution_count": 192,
      "outputs": []
    },
    {
      "cell_type": "code",
      "metadata": {
        "id": "ALdHn4pRELTw",
        "colab_type": "code",
        "colab": {}
      },
      "source": [
        "one_hot_train_labels_sm = to_categorical(train_labels_sm)\n",
        "one_hot_test_labels_sm = to_categorical(test_labels_sm)"
      ],
      "execution_count": 193,
      "outputs": []
    },
    {
      "cell_type": "code",
      "metadata": {
        "id": "nK9STTUgELTx",
        "colab_type": "code",
        "colab": {
          "base_uri": "https://localhost:8080/",
          "height": 34
        },
        "outputId": "9cb2d63c-0bca-4351-b512-c1a17caa270b"
      },
      "source": [
        "train_labels_sm.shape, one_hot_train_labels_sm.shape"
      ],
      "execution_count": 194,
      "outputs": [
        {
          "output_type": "execute_result",
          "data": {
            "text/plain": [
              "((7503,), (7503, 21))"
            ]
          },
          "metadata": {
            "tags": []
          },
          "execution_count": 194
        }
      ]
    },
    {
      "cell_type": "code",
      "metadata": {
        "id": "F94XwiKBELTz",
        "colab_type": "code",
        "colab": {
          "base_uri": "https://localhost:8080/",
          "height": 34
        },
        "outputId": "ecb74b8f-790c-4704-baf8-cb5557b04ee0"
      },
      "source": [
        "test_data_sm_rnn.shape, train_data_sm_rnn.shape, one_hot_train_labels_sm.shape, one_hot_test_labels_sm.shape"
      ],
      "execution_count": 195,
      "outputs": [
        {
          "output_type": "execute_result",
          "data": {
            "text/plain": [
              "((1852, 193), (7503, 193), (7503, 21), (1852, 21))"
            ]
          },
          "metadata": {
            "tags": []
          },
          "execution_count": 195
        }
      ]
    },
    {
      "cell_type": "markdown",
      "metadata": {
        "id": "gQNjOwEAELT0",
        "colab_type": "text"
      },
      "source": [
        "## 2.1 RNN w/64 cells"
      ]
    },
    {
      "cell_type": "code",
      "metadata": {
        "id": "u7-d27W0ELT0",
        "colab_type": "code",
        "colab": {
          "base_uri": "https://localhost:8080/",
          "height": 255
        },
        "outputId": "b19a7885-2923-4c7c-a395-164d964f10e1"
      },
      "source": [
        "model_2 = Sequential()\n",
        "model_2.add(Embedding(input_dim = voc_size, output_dim = 128, input_length = 193))\n",
        "model_2.add(SimpleRNN(units = 64))\n",
        "model_2.add(Dense(units = 21, activation='softmax'))\n",
        "\n",
        "model_2.summary()"
      ],
      "execution_count": 196,
      "outputs": [
        {
          "output_type": "stream",
          "text": [
            "Model: \"sequential\"\n",
            "_________________________________________________________________\n",
            "Layer (type)                 Output Shape              Param #   \n",
            "=================================================================\n",
            "embedding (Embedding)        (None, 193, 128)          1280000   \n",
            "_________________________________________________________________\n",
            "simple_rnn (SimpleRNN)       (None, 64)                12352     \n",
            "_________________________________________________________________\n",
            "dense (Dense)                (None, 21)                1365      \n",
            "=================================================================\n",
            "Total params: 1,293,717\n",
            "Trainable params: 1,293,717\n",
            "Non-trainable params: 0\n",
            "_________________________________________________________________\n"
          ],
          "name": "stdout"
        }
      ]
    },
    {
      "cell_type": "code",
      "metadata": {
        "id": "llenM7u3ELT2",
        "colab_type": "code",
        "colab": {}
      },
      "source": [
        "model_2.compile(optimizer='adam',\n",
        "              loss='categorical_crossentropy',\n",
        "              metrics=['accuracy'])"
      ],
      "execution_count": 197,
      "outputs": []
    },
    {
      "cell_type": "markdown",
      "metadata": {
        "id": "0_wUKS_RELT6",
        "colab_type": "text"
      },
      "source": [
        "### 2.1.a Model Training"
      ]
    },
    {
      "cell_type": "code",
      "metadata": {
        "id": "e0I46MwbELT7",
        "colab_type": "code",
        "colab": {
          "base_uri": "https://localhost:8080/",
          "height": 377
        },
        "outputId": "d808daa2-48cd-497c-d6c4-8fd8c28abbd3"
      },
      "source": [
        "train_rt = TrainRuntimeCallback()\n",
        "history = model_2.fit(train_data_sm_rnn,\n",
        "                    one_hot_train_labels_sm,\n",
        "                    callbacks = [train_rt],\n",
        "                    epochs=10,\n",
        "                    batch_size=100,\n",
        "#                   validation_data=(val_data_sm_rnn, one_hot_val_labels_sm))\n",
        "                    validation_split = 0.15)   # comment out if setting validation_data value.\n",
        "\n",
        "# Saving models locally after fitting\n",
        "# save_dir = \"results/\"\n",
        "# model_name = 'Reuters_2.h5'\n",
        "# model_path = os.path.join(save_dir, model_name)\n",
        "# model_2.save(model_path)\n",
        "# print('Saved trained model at %s ' % model_path)\n",
        "# print('--------------------------')"
      ],
      "execution_count": 198,
      "outputs": [
        {
          "output_type": "stream",
          "text": [
            "Epoch 1/10\n",
            "64/64 [==============================] - 7s 111ms/step - loss: 1.7567 - accuracy: 0.5404 - val_loss: 1.3439 - val_accuracy: 0.5799\n",
            "Epoch 2/10\n",
            "64/64 [==============================] - 7s 108ms/step - loss: 1.1566 - accuracy: 0.6215 - val_loss: 1.2028 - val_accuracy: 0.6181\n",
            "Epoch 3/10\n",
            "64/64 [==============================] - 7s 107ms/step - loss: 0.8250 - accuracy: 0.7433 - val_loss: 1.1342 - val_accuracy: 0.6545\n",
            "Epoch 4/10\n",
            "64/64 [==============================] - 7s 110ms/step - loss: 0.4834 - accuracy: 0.8946 - val_loss: 1.1829 - val_accuracy: 0.6332\n",
            "Epoch 5/10\n",
            "64/64 [==============================] - 7s 109ms/step - loss: 0.2745 - accuracy: 0.9487 - val_loss: 1.2256 - val_accuracy: 0.6421\n",
            "Epoch 6/10\n",
            "64/64 [==============================] - 7s 109ms/step - loss: 0.1808 - accuracy: 0.9619 - val_loss: 1.2647 - val_accuracy: 0.6456\n",
            "Epoch 7/10\n",
            "64/64 [==============================] - 7s 108ms/step - loss: 0.1333 - accuracy: 0.9671 - val_loss: 1.3725 - val_accuracy: 0.6306\n",
            "Epoch 8/10\n",
            "64/64 [==============================] - 7s 108ms/step - loss: 0.1038 - accuracy: 0.9669 - val_loss: 1.4421 - val_accuracy: 0.6146\n",
            "Epoch 9/10\n",
            "64/64 [==============================] - 7s 108ms/step - loss: 0.0937 - accuracy: 0.9672 - val_loss: 1.4422 - val_accuracy: 0.6314\n",
            "Epoch 10/10\n",
            "64/64 [==============================] - 7s 108ms/step - loss: 0.0848 - accuracy: 0.9680 - val_loss: 1.4786 - val_accuracy: 0.6110\n"
          ],
          "name": "stdout"
        }
      ]
    },
    {
      "cell_type": "code",
      "metadata": {
        "id": "jA_PQBTtELT9",
        "colab_type": "code",
        "colab": {
          "base_uri": "https://localhost:8080/",
          "height": 34
        },
        "outputId": "9d0515e3-a65b-4486-9ef0-d33d8e2c3a05"
      },
      "source": [
        "# Get the training time\n",
        "train_time = train_rt.process_time\n",
        "train_time # in seconds"
      ],
      "execution_count": 199,
      "outputs": [
        {
          "output_type": "execute_result",
          "data": {
            "text/plain": [
              "71.55403"
            ]
          },
          "metadata": {
            "tags": []
          },
          "execution_count": 199
        }
      ]
    },
    {
      "cell_type": "code",
      "metadata": {
        "id": "Fr7cOMt9ELUA",
        "colab_type": "code",
        "colab": {
          "base_uri": "https://localhost:8080/",
          "height": 34
        },
        "outputId": "d17ee3b0-5069-43cc-e991-392514f964fb"
      },
      "source": [
        "print(f\"train_acc: {history.history['accuracy'][-1]}, val_acc: {history.history['val_accuracy'][-1]}\")"
      ],
      "execution_count": 200,
      "outputs": [
        {
          "output_type": "stream",
          "text": [
            "train_acc: 0.9680100083351135, val_acc: 0.6110124588012695\n"
          ],
          "name": "stdout"
        }
      ]
    },
    {
      "cell_type": "markdown",
      "metadata": {
        "id": "kk5J_SR8ELUB",
        "colab_type": "text"
      },
      "source": [
        "### 2.1.b Model Testing"
      ]
    },
    {
      "cell_type": "code",
      "metadata": {
        "id": "UovxM1f2ELUC",
        "colab_type": "code",
        "colab": {
          "base_uri": "https://localhost:8080/",
          "height": 34
        },
        "outputId": "f517bdac-7271-471e-cea3-041fdf475792"
      },
      "source": [
        "test_rt = TestRuntimeCallback()\n",
        "test_loss, test_accuracy = model_2.evaluate(test_data_sm_rnn, one_hot_test_labels_sm, callbacks=[test_rt], verbose=0)\n",
        "print(f\"test_accuracy={test_accuracy}, test_loss={test_loss}\")"
      ],
      "execution_count": 201,
      "outputs": [
        {
          "output_type": "stream",
          "text": [
            "test_accuracy=0.624190092086792, test_loss=1.4295098781585693\n"
          ],
          "name": "stdout"
        }
      ]
    },
    {
      "cell_type": "code",
      "metadata": {
        "id": "WH4M5Y70ELUD",
        "colab_type": "code",
        "colab": {
          "base_uri": "https://localhost:8080/",
          "height": 34
        },
        "outputId": "5973d753-fa0d-4c8f-c792-df1c4028073e"
      },
      "source": [
        "# Get the test time\n",
        "test_time = test_rt.process_time\n",
        "test_time # in seconds"
      ],
      "execution_count": 202,
      "outputs": [
        {
          "output_type": "execute_result",
          "data": {
            "text/plain": [
              "0.751699"
            ]
          },
          "metadata": {
            "tags": []
          },
          "execution_count": 202
        }
      ]
    },
    {
      "cell_type": "markdown",
      "metadata": {
        "id": "uWQdIAOEELUH",
        "colab_type": "text"
      },
      "source": [
        "### 2.1.c Model Performance"
      ]
    },
    {
      "cell_type": "code",
      "metadata": {
        "id": "0ZsVAZUPELUH",
        "colab_type": "code",
        "colab": {
          "base_uri": "https://localhost:8080/",
          "height": 324
        },
        "outputId": "e142bf42-9372-4e7a-ceed-23725fe044a4"
      },
      "source": [
        "# Plot learning curves for model\n",
        "pd.DataFrame(history.history).plot(figsize=(8, 5))\n",
        "plt.grid(True)\n",
        "plt.gca().set_ylim(0, 2) # set the vertical range to [0-1.5]\n",
        "# plt.savefig(\"figures/learning_curves_model_2\", tight_layout=False)\n",
        "plt.show()"
      ],
      "execution_count": 203,
      "outputs": [
        {
          "output_type": "display_data",
          "data": {
            "image/png": "[encoded data removed]",
            "text/plain": [
              "<Figure size 576x360 with 1 Axes>"
            ]
          },
          "metadata": {
            "tags": [],
            "needs_background": "light"
          }
        }
      ]
    },
    {
      "cell_type": "code",
      "metadata": {
        "id": "KG57a9fFELUM",
        "colab_type": "code",
        "colab": {}
      },
      "source": [
        "history_dict = history.history.copy()\n",
        "# history_dict['train_accuracy'] = history_dict.pop('accuracy') # rename the the key to 'test_accuracy'\n",
        "history_df=pd.DataFrame(history_dict)"
      ],
      "execution_count": 204,
      "outputs": []
    },
    {
      "cell_type": "code",
      "metadata": {
        "id": "Aklt808gELUP",
        "colab_type": "code",
        "colab": {
          "base_uri": "https://localhost:8080/",
          "height": 185
        },
        "outputId": "426bcaf2-0448-4f03-f4c7-1fe95effe482"
      },
      "source": [
        "results_df2 = history_df.iloc[-1:].copy()\n",
        "results_df2.insert(0,'model','Simple RNN (64 units)') # want the model name to appear first\n",
        "results_df2['test_accuracy'] = test_accuracy\n",
        "results_df2['test_loss'] = test_loss\n",
        "results_df2['training time (sec)'] = train_time      \n",
        "results_df2['testing time (sec)'] = test_time      \n",
        "results_df2"
      ],
      "execution_count": 205,
      "outputs": [
        {
          "output_type": "execute_result",
          "data": {
            "text/html": [
              "<div>\n",
              "<style scoped>\n",
              "    .dataframe tbody tr th:only-of-type {\n",
              "        vertical-align: middle;\n",
              "    }\n",
              "\n",
              "    .dataframe tbody tr th {\n",
              "        vertical-align: top;\n",
              "    }\n",
              "\n",
              "    .dataframe thead th {\n",
              "        text-align: right;\n",
              "    }\n",
              "</style>\n",
              "<table border=\"1\" class=\"dataframe\">\n",
              "  <thead>\n",
              "    <tr style=\"text-align: right;\">\n",
              "      <th></th>\n",
              "      <th>model</th>\n",
              "      <th>loss</th>\n",
              "      <th>accuracy</th>\n",
              "      <th>val_loss</th>\n",
              "      <th>val_accuracy</th>\n",
              "      <th>test_accuracy</th>\n",
              "      <th>test_loss</th>\n",
              "      <th>training time (sec)</th>\n",
              "      <th>testing time (sec)</th>\n",
              "    </tr>\n",
              "  </thead>\n",
              "  <tbody>\n",
              "    <tr>\n",
              "      <th>9</th>\n",
              "      <td>Simple RNN (64 units)</td>\n",
              "      <td>0.084814</td>\n",
              "      <td>0.96801</td>\n",
              "      <td>1.478557</td>\n",
              "      <td>0.611012</td>\n",
              "      <td>0.62419</td>\n",
              "      <td>1.42951</td>\n",
              "      <td>71.55403</td>\n",
              "      <td>0.751699</td>\n",
              "    </tr>\n",
              "  </tbody>\n",
              "</table>\n",
              "</div>"
            ],
            "text/plain": [
              "                   model      loss  ...  training time (sec)  testing time (sec)\n",
              "9  Simple RNN (64 units)  0.084814  ...             71.55403            0.751699\n",
              "\n",
              "[1 rows x 9 columns]"
            ]
          },
          "metadata": {
            "tags": []
          },
          "execution_count": 205
        }
      ]
    },
    {
      "cell_type": "markdown",
      "metadata": {
        "id": "5hVviajtELUS",
        "colab_type": "text"
      },
      "source": [
        "## 2.2 RNN w/100 memory cells"
      ]
    },
    {
      "cell_type": "code",
      "metadata": {
        "id": "kx7X_Ov2ELUS",
        "colab_type": "code",
        "colab": {
          "base_uri": "https://localhost:8080/",
          "height": 255
        },
        "outputId": "2ff0be92-0b6c-4b5e-9fac-a4e37e8cf0ce"
      },
      "source": [
        "model_2a = Sequential()\n",
        "model_2a.add(Embedding(input_dim = voc_size, output_dim = 128, input_length = 193))\n",
        "model_2a.add(SimpleRNN(units = 100))\n",
        "model_2a.add(Dense(units = 21, activation='softmax'))\n",
        "\n",
        "model_2a.summary()"
      ],
      "execution_count": 206,
      "outputs": [
        {
          "output_type": "stream",
          "text": [
            "Model: \"sequential_1\"\n",
            "_________________________________________________________________\n",
            "Layer (type)                 Output Shape              Param #   \n",
            "=================================================================\n",
            "embedding_1 (Embedding)      (None, 193, 128)          1280000   \n",
            "_________________________________________________________________\n",
            "simple_rnn_1 (SimpleRNN)     (None, 100)               22900     \n",
            "_________________________________________________________________\n",
            "dense_1 (Dense)              (None, 21)                2121      \n",
            "=================================================================\n",
            "Total params: 1,305,021\n",
            "Trainable params: 1,305,021\n",
            "Non-trainable params: 0\n",
            "_________________________________________________________________\n"
          ],
          "name": "stdout"
        }
      ]
    },
    {
      "cell_type": "code",
      "metadata": {
        "id": "pIAOksmPELUU",
        "colab_type": "code",
        "colab": {}
      },
      "source": [
        "model_2a.compile(optimizer='adam',\n",
        "              loss='categorical_crossentropy',\n",
        "              metrics=['accuracy'])"
      ],
      "execution_count": 207,
      "outputs": []
    },
    {
      "cell_type": "markdown",
      "metadata": {
        "id": "c2QLel5vELUV",
        "colab_type": "text"
      },
      "source": [
        "### 2.2.a Model Training"
      ]
    },
    {
      "cell_type": "code",
      "metadata": {
        "id": "SOq2DbQZELUY",
        "colab_type": "code",
        "colab": {
          "base_uri": "https://localhost:8080/",
          "height": 377
        },
        "outputId": "fd91d51a-85da-4471-d161-6852ee4b5ccc"
      },
      "source": [
        "train_rt = TrainRuntimeCallback()\n",
        "history = model_2a.fit(train_data_sm_rnn,\n",
        "                    one_hot_train_labels_sm,\n",
        "                    callbacks = [train_rt],\n",
        "                    epochs=10,\n",
        "                    batch_size=100,\n",
        "#                   validation_data=(val_data_sm_rnn, one_hot_val_labels_sm))\n",
        "                    validation_split = 0.15)   # comment out if setting validation_data value.\n",
        "\n",
        "# Saving models locally after fitting\n",
        "# save_dir = \"results/\"\n",
        "# model_name = 'Reuters_2a.h5'\n",
        "# model_path = os.path.join(save_dir, model_name)\n",
        "# model_2a.save(model_path)\n",
        "# print('Saved trained model at %s ' % model_path)\n",
        "# print('--------------------------')"
      ],
      "execution_count": 208,
      "outputs": [
        {
          "output_type": "stream",
          "text": [
            "Epoch 1/10\n",
            "64/64 [==============================] - 9s 148ms/step - loss: 1.8224 - accuracy: 0.4185 - val_loss: 1.6398 - val_accuracy: 0.4112\n",
            "Epoch 2/10\n",
            "64/64 [==============================] - 9s 144ms/step - loss: 1.4616 - accuracy: 0.5208 - val_loss: 1.4498 - val_accuracy: 0.5160\n",
            "Epoch 3/10\n",
            "64/64 [==============================] - 9s 145ms/step - loss: 1.0983 - accuracy: 0.6500 - val_loss: 1.5144 - val_accuracy: 0.5124\n",
            "Epoch 4/10\n",
            "64/64 [==============================] - 9s 145ms/step - loss: 0.7228 - accuracy: 0.7944 - val_loss: 1.5352 - val_accuracy: 0.5222\n",
            "Epoch 5/10\n",
            "64/64 [==============================] - 9s 145ms/step - loss: 0.4244 - accuracy: 0.8948 - val_loss: 1.6274 - val_accuracy: 0.5329\n",
            "Epoch 6/10\n",
            "64/64 [==============================] - 9s 148ms/step - loss: 0.2532 - accuracy: 0.9421 - val_loss: 1.6350 - val_accuracy: 0.5266\n",
            "Epoch 7/10\n",
            "64/64 [==============================] - 9s 145ms/step - loss: 0.1630 - accuracy: 0.9605 - val_loss: 1.6425 - val_accuracy: 0.5595\n",
            "Epoch 8/10\n",
            "64/64 [==============================] - 9s 145ms/step - loss: 0.1270 - accuracy: 0.9649 - val_loss: 1.7710 - val_accuracy: 0.5320\n",
            "Epoch 9/10\n",
            "64/64 [==============================] - 9s 145ms/step - loss: 0.1120 - accuracy: 0.9660 - val_loss: 1.8168 - val_accuracy: 0.5364\n",
            "Epoch 10/10\n",
            "64/64 [==============================] - 9s 145ms/step - loss: 0.0990 - accuracy: 0.9661 - val_loss: 1.9076 - val_accuracy: 0.5311\n"
          ],
          "name": "stdout"
        }
      ]
    },
    {
      "cell_type": "code",
      "metadata": {
        "id": "Q78r8iKoELUb",
        "colab_type": "code",
        "colab": {
          "base_uri": "https://localhost:8080/",
          "height": 34
        },
        "outputId": "8bda65c3-ba27-40ce-c4e9-ab6721042ec3"
      },
      "source": [
        "# Get the training time\n",
        "train_time = train_rt.process_time\n",
        "train_time # in seconds"
      ],
      "execution_count": 209,
      "outputs": [
        {
          "output_type": "execute_result",
          "data": {
            "text/plain": [
              "95.429328"
            ]
          },
          "metadata": {
            "tags": []
          },
          "execution_count": 209
        }
      ]
    },
    {
      "cell_type": "code",
      "metadata": {
        "id": "A4xe2ZnWELUd",
        "colab_type": "code",
        "colab": {
          "base_uri": "https://localhost:8080/",
          "height": 34
        },
        "outputId": "dc2f6d33-20e8-462f-bc1e-65b949845c84"
      },
      "source": [
        "print(f\"train_acc: {history.history['accuracy'][-1]}, val_acc: {history.history['val_accuracy'][-1]}\")"
      ],
      "execution_count": 210,
      "outputs": [
        {
          "output_type": "stream",
          "text": [
            "train_acc: 0.9661282896995544, val_acc: 0.5310834646224976\n"
          ],
          "name": "stdout"
        }
      ]
    },
    {
      "cell_type": "markdown",
      "metadata": {
        "id": "yi2Y8OIuELUf",
        "colab_type": "text"
      },
      "source": [
        "### 2.2.b Model Testing"
      ]
    },
    {
      "cell_type": "code",
      "metadata": {
        "id": "jJIrGF_XELUf",
        "colab_type": "code",
        "colab": {
          "base_uri": "https://localhost:8080/",
          "height": 34
        },
        "outputId": "cdee5289-0f3b-4e96-cb7c-81046576db8a"
      },
      "source": [
        "test_rt = TestRuntimeCallback()\n",
        "test_loss, test_accuracy = model_2a.evaluate(test_data_sm_rnn, one_hot_test_labels_sm, callbacks=[test_rt], verbose=0)\n",
        "print(f\"test_accuracy={test_accuracy}, test_loss={test_loss}\")"
      ],
      "execution_count": 211,
      "outputs": [
        {
          "output_type": "stream",
          "text": [
            "test_accuracy=0.5485960841178894, test_loss=1.8140709400177002\n"
          ],
          "name": "stdout"
        }
      ]
    },
    {
      "cell_type": "code",
      "metadata": {
        "id": "YxzGVKW1ELUj",
        "colab_type": "code",
        "colab": {
          "base_uri": "https://localhost:8080/",
          "height": 34
        },
        "outputId": "3aec08d1-e874-4eb9-fdb3-5fcc62956f0e"
      },
      "source": [
        "# Get the test time\n",
        "test_time = test_rt.process_time\n",
        "test_time # in seconds"
      ],
      "execution_count": 212,
      "outputs": [
        {
          "output_type": "execute_result",
          "data": {
            "text/plain": [
              "0.966891"
            ]
          },
          "metadata": {
            "tags": []
          },
          "execution_count": 212
        }
      ]
    },
    {
      "cell_type": "markdown",
      "metadata": {
        "id": "iT4QBxanELUn",
        "colab_type": "text"
      },
      "source": [
        "### 2.2.c Model Performance"
      ]
    },
    {
      "cell_type": "code",
      "metadata": {
        "id": "ab55XmMyELUp",
        "colab_type": "code",
        "colab": {
          "base_uri": "https://localhost:8080/",
          "height": 324
        },
        "outputId": "3be15029-f351-4063-adf1-91802cd6e27d"
      },
      "source": [
        "# Plot learning curves for model\n",
        "pd.DataFrame(history.history).plot(figsize=(8, 5))\n",
        "plt.grid(True)\n",
        "plt.gca().set_ylim(0, 2) # set the vertical range to [0-1]\n",
        "# plt.savefig(\"figures/learning_curves_model_2a\", tight_layout=False)\n",
        "plt.show()"
      ],
      "execution_count": 213,
      "outputs": [
        {
          "output_type": "display_data",
          "data": {
            "image/png": "[encoded data removed]",
            "text/plain": [
              "<Figure size 576x360 with 1 Axes>"
            ]
          },
          "metadata": {
            "tags": [],
            "needs_background": "light"
          }
        }
      ]
    },
    {
      "cell_type": "code",
      "metadata": {
        "id": "IoPGKe6CELUr",
        "colab_type": "code",
        "colab": {}
      },
      "source": [
        "history_dict = history.history.copy()\n",
        "# history_dict['train_accuracy'] = history_dict.pop('accuracy') # rename the the key to 'test_accuracy'\n",
        "history_df=pd.DataFrame(history_dict)"
      ],
      "execution_count": 214,
      "outputs": []
    },
    {
      "cell_type": "code",
      "metadata": {
        "id": "xSyDJg5yELUt",
        "colab_type": "code",
        "colab": {
          "base_uri": "https://localhost:8080/",
          "height": 80
        },
        "outputId": "a4fd4c53-7fdc-4ebf-c3ec-f52235fe14a7"
      },
      "source": [
        "results_df2a = history_df.iloc[-1:].copy()\n",
        "results_df2a.insert(0,'model','Simple RNN (100 units)') # want the model name to appear first\n",
        "results_df2a['test_accuracy'] = test_accuracy\n",
        "results_df2a['test_loss'] = test_loss\n",
        "results_df2a['training time (sec)'] = train_time      \n",
        "results_df2a['testing time (sec)'] = test_time     \n",
        "results_df2a"
      ],
      "execution_count": 215,
      "outputs": [
        {
          "output_type": "execute_result",
          "data": {
            "text/html": [
              "<div>\n",
              "<style scoped>\n",
              "    .dataframe tbody tr th:only-of-type {\n",
              "        vertical-align: middle;\n",
              "    }\n",
              "\n",
              "    .dataframe tbody tr th {\n",
              "        vertical-align: top;\n",
              "    }\n",
              "\n",
              "    .dataframe thead th {\n",
              "        text-align: right;\n",
              "    }\n",
              "</style>\n",
              "<table border=\"1\" class=\"dataframe\">\n",
              "  <thead>\n",
              "    <tr style=\"text-align: right;\">\n",
              "      <th></th>\n",
              "      <th>model</th>\n",
              "      <th>loss</th>\n",
              "      <th>accuracy</th>\n",
              "      <th>val_loss</th>\n",
              "      <th>val_accuracy</th>\n",
              "      <th>test_accuracy</th>\n",
              "      <th>test_loss</th>\n",
              "      <th>training time (sec)</th>\n",
              "      <th>testing time (sec)</th>\n",
              "    </tr>\n",
              "  </thead>\n",
              "  <tbody>\n",
              "    <tr>\n",
              "      <th>9</th>\n",
              "      <td>Simple RNN (100 units)</td>\n",
              "      <td>0.098973</td>\n",
              "      <td>0.966128</td>\n",
              "      <td>1.907632</td>\n",
              "      <td>0.531083</td>\n",
              "      <td>0.548596</td>\n",
              "      <td>1.814071</td>\n",
              "      <td>95.429328</td>\n",
              "      <td>0.966891</td>\n",
              "    </tr>\n",
              "  </tbody>\n",
              "</table>\n",
              "</div>"
            ],
            "text/plain": [
              "                    model      loss  ...  training time (sec)  testing time (sec)\n",
              "9  Simple RNN (100 units)  0.098973  ...            95.429328            0.966891\n",
              "\n",
              "[1 rows x 9 columns]"
            ]
          },
          "metadata": {
            "tags": []
          },
          "execution_count": 215
        }
      ]
    },
    {
      "cell_type": "code",
      "metadata": {
        "id": "Y5342ZejELUx",
        "colab_type": "code",
        "colab": {
          "base_uri": "https://localhost:8080/",
          "height": 111
        },
        "outputId": "452dac99-031f-440f-ae1f-772a9fa1a0c7"
      },
      "source": [
        "results_df2=results_df2.append(results_df2a,ignore_index=True)\n",
        "results_df2"
      ],
      "execution_count": 216,
      "outputs": [
        {
          "output_type": "execute_result",
          "data": {
            "text/html": [
              "<div>\n",
              "<style scoped>\n",
              "    .dataframe tbody tr th:only-of-type {\n",
              "        vertical-align: middle;\n",
              "    }\n",
              "\n",
              "    .dataframe tbody tr th {\n",
              "        vertical-align: top;\n",
              "    }\n",
              "\n",
              "    .dataframe thead th {\n",
              "        text-align: right;\n",
              "    }\n",
              "</style>\n",
              "<table border=\"1\" class=\"dataframe\">\n",
              "  <thead>\n",
              "    <tr style=\"text-align: right;\">\n",
              "      <th></th>\n",
              "      <th>model</th>\n",
              "      <th>loss</th>\n",
              "      <th>accuracy</th>\n",
              "      <th>val_loss</th>\n",
              "      <th>val_accuracy</th>\n",
              "      <th>test_accuracy</th>\n",
              "      <th>test_loss</th>\n",
              "      <th>training time (sec)</th>\n",
              "      <th>testing time (sec)</th>\n",
              "    </tr>\n",
              "  </thead>\n",
              "  <tbody>\n",
              "    <tr>\n",
              "      <th>0</th>\n",
              "      <td>Simple RNN (64 units)</td>\n",
              "      <td>0.084814</td>\n",
              "      <td>0.968010</td>\n",
              "      <td>1.478557</td>\n",
              "      <td>0.611012</td>\n",
              "      <td>0.624190</td>\n",
              "      <td>1.429510</td>\n",
              "      <td>71.554030</td>\n",
              "      <td>0.751699</td>\n",
              "    </tr>\n",
              "    <tr>\n",
              "      <th>1</th>\n",
              "      <td>Simple RNN (100 units)</td>\n",
              "      <td>0.098973</td>\n",
              "      <td>0.966128</td>\n",
              "      <td>1.907632</td>\n",
              "      <td>0.531083</td>\n",
              "      <td>0.548596</td>\n",
              "      <td>1.814071</td>\n",
              "      <td>95.429328</td>\n",
              "      <td>0.966891</td>\n",
              "    </tr>\n",
              "  </tbody>\n",
              "</table>\n",
              "</div>"
            ],
            "text/plain": [
              "                    model      loss  ...  training time (sec)  testing time (sec)\n",
              "0   Simple RNN (64 units)  0.084814  ...            71.554030            0.751699\n",
              "1  Simple RNN (100 units)  0.098973  ...            95.429328            0.966891\n",
              "\n",
              "[2 rows x 9 columns]"
            ]
          },
          "metadata": {
            "tags": []
          },
          "execution_count": 216
        }
      ]
    },
    {
      "cell_type": "code",
      "metadata": {
        "id": "t4lVFLxmELUz",
        "colab_type": "code",
        "colab": {}
      },
      "source": [
        "results_df2.to_pickle(\"results2.pkl\") "
      ],
      "execution_count": 217,
      "outputs": []
    },
    {
      "cell_type": "code",
      "metadata": {
        "id": "LcsjYspDCH8s",
        "colab_type": "code",
        "colab": {}
      },
      "source": [
        ""
      ],
      "execution_count": 217,
      "outputs": []
    },
    {
      "cell_type": "markdown",
      "metadata": {
        "colab_type": "text",
        "id": "IPo8fIJKCISL"
      },
      "source": [
        "## 2.3 RNN w/32 cells and dropout"
      ]
    },
    {
      "cell_type": "code",
      "metadata": {
        "colab_type": "code",
        "id": "nQFV9BhUCISM",
        "colab": {
          "base_uri": "https://localhost:8080/",
          "height": 289
        },
        "outputId": "6544c778-e4ed-40cc-e73c-9a0359af5f1e"
      },
      "source": [
        "model_2c = Sequential()\n",
        "model_2c.add(Embedding(input_dim = voc_size, output_dim = 128, input_length = 193))\n",
        "model_2c.add(SimpleRNN(units = 32))\n",
        "model_2c.add(layers.Dropout(0.2))\n",
        "model_2c.add(Dense(units = 21, activation='softmax'))\n",
        "\n",
        "model_2c.summary()"
      ],
      "execution_count": 222,
      "outputs": [
        {
          "output_type": "stream",
          "text": [
            "Model: \"sequential_4\"\n",
            "_________________________________________________________________\n",
            "Layer (type)                 Output Shape              Param #   \n",
            "=================================================================\n",
            "embedding_4 (Embedding)      (None, 193, 128)          1280000   \n",
            "_________________________________________________________________\n",
            "simple_rnn_4 (SimpleRNN)     (None, 32)                5152      \n",
            "_________________________________________________________________\n",
            "dropout_1 (Dropout)          (None, 32)                0         \n",
            "_________________________________________________________________\n",
            "dense_2 (Dense)              (None, 21)                693       \n",
            "=================================================================\n",
            "Total params: 1,285,845\n",
            "Trainable params: 1,285,845\n",
            "Non-trainable params: 0\n",
            "_________________________________________________________________\n"
          ],
          "name": "stdout"
        }
      ]
    },
    {
      "cell_type": "code",
      "metadata": {
        "colab_type": "code",
        "id": "6k-2qCD5CISO",
        "colab": {}
      },
      "source": [
        "model_2c.compile(optimizer='adam',\n",
        "              loss='categorical_crossentropy',\n",
        "              metrics=['accuracy'])"
      ],
      "execution_count": 223,
      "outputs": []
    },
    {
      "cell_type": "markdown",
      "metadata": {
        "colab_type": "text",
        "id": "-6PToEapCISR"
      },
      "source": [
        "### 2.3.a Model Training"
      ]
    },
    {
      "cell_type": "code",
      "metadata": {
        "colab_type": "code",
        "id": "aYn_RfYPCISR",
        "colab": {
          "base_uri": "https://localhost:8080/",
          "height": 357
        },
        "outputId": "69425b2e-69f8-4786-e0bc-13b43a01a967"
      },
      "source": [
        "train_rt = TrainRuntimeCallback()\n",
        "history = model_2c.fit(train_data_sm_rnn,\n",
        "                    one_hot_train_labels_sm,\n",
        "                    callbacks = [train_rt],\n",
        "                    epochs=10,\n",
        "                    batch_size=100,\n",
        "#                   validation_data=(val_data_sm_rnn, one_hot_val_labels_sm))\n",
        "                    validation_split = 0.15)   # comment out if setting validation_data value.\n",
        "\n",
        "# Saving models locally after fitting\n",
        "# save_dir = \"results/\"\n",
        "# model_name = 'Reuters_2a.h5'\n",
        "# model_path = os.path.join(save_dir, model_name)\n",
        "# model_2a.save(model_path)\n",
        "# print('Saved trained model at %s ' % model_path)\n",
        "# print('--------------------------')"
      ],
      "execution_count": 224,
      "outputs": [
        {
          "output_type": "stream",
          "text": [
            "Epoch 1/10\n",
            "64/64 [==============================] - 6s 90ms/step - loss: 2.1509 - accuracy: 0.3974 - val_loss: 1.7267 - val_accuracy: 0.5142\n",
            "Epoch 2/10\n",
            "64/64 [==============================] - 6s 88ms/step - loss: 1.5150 - accuracy: 0.5608 - val_loss: 1.4040 - val_accuracy: 0.5622\n",
            "Epoch 3/10\n",
            "64/64 [==============================] - 6s 90ms/step - loss: 1.1777 - accuracy: 0.6517 - val_loss: 1.2466 - val_accuracy: 0.5808\n",
            "Epoch 4/10\n",
            "64/64 [==============================] - 6s 87ms/step - loss: 0.9259 - accuracy: 0.7273 - val_loss: 1.0972 - val_accuracy: 0.6501\n",
            "Epoch 5/10\n",
            "64/64 [==============================] - 6s 87ms/step - loss: 0.7710 - accuracy: 0.7957 - val_loss: 1.1441 - val_accuracy: 0.6572\n",
            "Epoch 6/10\n",
            "64/64 [==============================] - 6s 87ms/step - loss: 0.6602 - accuracy: 0.8324 - val_loss: 1.2713 - val_accuracy: 0.6306\n",
            "Epoch 7/10\n",
            "64/64 [==============================] - 6s 90ms/step - loss: 0.5680 - accuracy: 0.8614 - val_loss: 1.1232 - val_accuracy: 0.6687\n",
            "Epoch 8/10\n",
            "64/64 [==============================] - 6s 90ms/step - loss: 0.4498 - accuracy: 0.8990 - val_loss: 1.1544 - val_accuracy: 0.6679\n",
            "Epoch 9/10\n",
            "64/64 [==============================] - 6s 87ms/step - loss: 0.3602 - accuracy: 0.9283 - val_loss: 1.2165 - val_accuracy: 0.6572\n",
            "Epoch 10/10\n",
            "64/64 [==============================] - 6s 88ms/step - loss: 0.4125 - accuracy: 0.9026 - val_loss: 1.3184 - val_accuracy: 0.6057\n"
          ],
          "name": "stdout"
        }
      ]
    },
    {
      "cell_type": "code",
      "metadata": {
        "colab_type": "code",
        "id": "1wZOMiIHCISV",
        "colab": {
          "base_uri": "https://localhost:8080/",
          "height": 34
        },
        "outputId": "52fd54fa-3ba2-4633-8ccd-78bb6b0c49dc"
      },
      "source": [
        "# Get the training time\n",
        "train_time = train_rt.process_time\n",
        "train_time # in seconds"
      ],
      "execution_count": 225,
      "outputs": [
        {
          "output_type": "execute_result",
          "data": {
            "text/plain": [
              "58.333397"
            ]
          },
          "metadata": {
            "tags": []
          },
          "execution_count": 225
        }
      ]
    },
    {
      "cell_type": "code",
      "metadata": {
        "colab_type": "code",
        "id": "fgmABwhzCISX",
        "colab": {
          "base_uri": "https://localhost:8080/",
          "height": 34
        },
        "outputId": "edf97d8d-0635-44a1-f656-74011237c49d"
      },
      "source": [
        "print(f\"train_acc: {history.history['accuracy'][-1]}, val_acc: {history.history['val_accuracy'][-1]}\")"
      ],
      "execution_count": 226,
      "outputs": [
        {
          "output_type": "stream",
          "text": [
            "train_acc: 0.9026187658309937, val_acc: 0.6056838631629944\n"
          ],
          "name": "stdout"
        }
      ]
    },
    {
      "cell_type": "markdown",
      "metadata": {
        "colab_type": "text",
        "id": "MGfaCa_fCISZ"
      },
      "source": [
        "### 2.3.b Model Testing"
      ]
    },
    {
      "cell_type": "code",
      "metadata": {
        "colab_type": "code",
        "id": "-BR2U6I_CISa",
        "colab": {
          "base_uri": "https://localhost:8080/",
          "height": 34
        },
        "outputId": "fa7f36c6-c36b-468a-dc34-9df5e77ca861"
      },
      "source": [
        "test_rt = TestRuntimeCallback()\n",
        "test_loss, test_accuracy = model_2c.evaluate(test_data_sm_rnn, one_hot_test_labels_sm, callbacks=[test_rt], verbose=0)\n",
        "print(f\"test_accuracy={test_accuracy}, test_loss={test_loss}\")"
      ],
      "execution_count": 227,
      "outputs": [
        {
          "output_type": "stream",
          "text": [
            "test_accuracy=0.6166306734085083, test_loss=1.2623393535614014\n"
          ],
          "name": "stdout"
        }
      ]
    },
    {
      "cell_type": "code",
      "metadata": {
        "colab_type": "code",
        "id": "NZKuHxLgCISc",
        "colab": {
          "base_uri": "https://localhost:8080/",
          "height": 34
        },
        "outputId": "43c9977f-03f6-498e-b85a-fddec0d531b4"
      },
      "source": [
        "# Get the test time\n",
        "test_time = test_rt.process_time\n",
        "test_time # in seconds"
      ],
      "execution_count": 228,
      "outputs": [
        {
          "output_type": "execute_result",
          "data": {
            "text/plain": [
              "0.661645"
            ]
          },
          "metadata": {
            "tags": []
          },
          "execution_count": 228
        }
      ]
    },
    {
      "cell_type": "markdown",
      "metadata": {
        "colab_type": "text",
        "id": "o2ezwIBdCISh"
      },
      "source": [
        "### 2.3.c Model Performance"
      ]
    },
    {
      "cell_type": "code",
      "metadata": {
        "colab_type": "code",
        "id": "dBJwbnqoCISi",
        "colab": {
          "base_uri": "https://localhost:8080/",
          "height": 324
        },
        "outputId": "bf03df1c-6ed5-44da-8794-6b0279629405"
      },
      "source": [
        "# Plot learning curves for model\n",
        "pd.DataFrame(history.history).plot(figsize=(8, 5))\n",
        "plt.grid(True)\n",
        "plt.gca().set_ylim(0, 2) # set the vertical range to [0-1]\n",
        "# plt.savefig(\"figures/learning_curves_model_2a\", tight_layout=False)\n",
        "plt.show()"
      ],
      "execution_count": 229,
      "outputs": [
        {
          "output_type": "display_data",
          "data": {
            "image/png": "[encoded data removed]",
            "text/plain": [
              "<Figure size 576x360 with 1 Axes>"
            ]
          },
          "metadata": {
            "tags": [],
            "needs_background": "light"
          }
        }
      ]
    },
    {
      "cell_type": "code",
      "metadata": {
        "colab_type": "code",
        "id": "HFLX8JFPCISn",
        "colab": {}
      },
      "source": [
        "history_dict = history.history.copy()\n",
        "# history_dict['train_accuracy'] = history_dict.pop('accuracy') # rename the the key to 'test_accuracy'\n",
        "history_df=pd.DataFrame(history_dict)"
      ],
      "execution_count": 230,
      "outputs": []
    },
    {
      "cell_type": "code",
      "metadata": {
        "colab_type": "code",
        "id": "YXwJrgidCISq",
        "colab": {
          "base_uri": "https://localhost:8080/",
          "height": 185
        },
        "outputId": "8e98442a-0128-4360-8279-516ab60ce7d6"
      },
      "source": [
        "results_df2c = history_df.iloc[-1:].copy()\n",
        "results_df2c.insert(0,'model','Simple RNN (32 units w/dropout)') # want the model name to appear first\n",
        "results_df2c['test_accuracy'] = test_accuracy\n",
        "results_df2c['test_loss'] = test_loss\n",
        "results_df2c['training time (sec)'] = train_time      \n",
        "results_df2c['testing time (sec)'] = test_time     \n",
        "results_df2c"
      ],
      "execution_count": 231,
      "outputs": [
        {
          "output_type": "execute_result",
          "data": {
            "text/html": [
              "<div>\n",
              "<style scoped>\n",
              "    .dataframe tbody tr th:only-of-type {\n",
              "        vertical-align: middle;\n",
              "    }\n",
              "\n",
              "    .dataframe tbody tr th {\n",
              "        vertical-align: top;\n",
              "    }\n",
              "\n",
              "    .dataframe thead th {\n",
              "        text-align: right;\n",
              "    }\n",
              "</style>\n",
              "<table border=\"1\" class=\"dataframe\">\n",
              "  <thead>\n",
              "    <tr style=\"text-align: right;\">\n",
              "      <th></th>\n",
              "      <th>model</th>\n",
              "      <th>loss</th>\n",
              "      <th>accuracy</th>\n",
              "      <th>val_loss</th>\n",
              "      <th>val_accuracy</th>\n",
              "      <th>test_accuracy</th>\n",
              "      <th>test_loss</th>\n",
              "      <th>training time (sec)</th>\n",
              "      <th>testing time (sec)</th>\n",
              "    </tr>\n",
              "  </thead>\n",
              "  <tbody>\n",
              "    <tr>\n",
              "      <th>9</th>\n",
              "      <td>Simple RNN (32 units w/dropout)</td>\n",
              "      <td>0.412491</td>\n",
              "      <td>0.902619</td>\n",
              "      <td>1.318407</td>\n",
              "      <td>0.605684</td>\n",
              "      <td>0.616631</td>\n",
              "      <td>1.262339</td>\n",
              "      <td>58.333397</td>\n",
              "      <td>0.661645</td>\n",
              "    </tr>\n",
              "  </tbody>\n",
              "</table>\n",
              "</div>"
            ],
            "text/plain": [
              "                             model  ...  testing time (sec)\n",
              "9  Simple RNN (32 units w/dropout)  ...            0.661645\n",
              "\n",
              "[1 rows x 9 columns]"
            ]
          },
          "metadata": {
            "tags": []
          },
          "execution_count": 231
        }
      ]
    },
    {
      "cell_type": "code",
      "metadata": {
        "colab_type": "code",
        "id": "zeXvi9SGCISs",
        "colab": {
          "base_uri": "https://localhost:8080/",
          "height": 142
        },
        "outputId": "a9429d73-8d4d-4270-eb03-a4c403f9a54a"
      },
      "source": [
        "results_df2=results_df2.append(results_df2c,ignore_index=True)\n",
        "results_df2"
      ],
      "execution_count": 232,
      "outputs": [
        {
          "output_type": "execute_result",
          "data": {
            "text/html": [
              "<div>\n",
              "<style scoped>\n",
              "    .dataframe tbody tr th:only-of-type {\n",
              "        vertical-align: middle;\n",
              "    }\n",
              "\n",
              "    .dataframe tbody tr th {\n",
              "        vertical-align: top;\n",
              "    }\n",
              "\n",
              "    .dataframe thead th {\n",
              "        text-align: right;\n",
              "    }\n",
              "</style>\n",
              "<table border=\"1\" class=\"dataframe\">\n",
              "  <thead>\n",
              "    <tr style=\"text-align: right;\">\n",
              "      <th></th>\n",
              "      <th>model</th>\n",
              "      <th>loss</th>\n",
              "      <th>accuracy</th>\n",
              "      <th>val_loss</th>\n",
              "      <th>val_accuracy</th>\n",
              "      <th>test_accuracy</th>\n",
              "      <th>test_loss</th>\n",
              "      <th>training time (sec)</th>\n",
              "      <th>testing time (sec)</th>\n",
              "    </tr>\n",
              "  </thead>\n",
              "  <tbody>\n",
              "    <tr>\n",
              "      <th>0</th>\n",
              "      <td>Simple RNN (64 units)</td>\n",
              "      <td>0.084814</td>\n",
              "      <td>0.968010</td>\n",
              "      <td>1.478557</td>\n",
              "      <td>0.611012</td>\n",
              "      <td>0.624190</td>\n",
              "      <td>1.429510</td>\n",
              "      <td>71.554030</td>\n",
              "      <td>0.751699</td>\n",
              "    </tr>\n",
              "    <tr>\n",
              "      <th>1</th>\n",
              "      <td>Simple RNN (100 units)</td>\n",
              "      <td>0.098973</td>\n",
              "      <td>0.966128</td>\n",
              "      <td>1.907632</td>\n",
              "      <td>0.531083</td>\n",
              "      <td>0.548596</td>\n",
              "      <td>1.814071</td>\n",
              "      <td>95.429328</td>\n",
              "      <td>0.966891</td>\n",
              "    </tr>\n",
              "    <tr>\n",
              "      <th>2</th>\n",
              "      <td>Simple RNN (32 units w/dropout)</td>\n",
              "      <td>0.412491</td>\n",
              "      <td>0.902619</td>\n",
              "      <td>1.318407</td>\n",
              "      <td>0.605684</td>\n",
              "      <td>0.616631</td>\n",
              "      <td>1.262339</td>\n",
              "      <td>58.333397</td>\n",
              "      <td>0.661645</td>\n",
              "    </tr>\n",
              "  </tbody>\n",
              "</table>\n",
              "</div>"
            ],
            "text/plain": [
              "                             model  ...  testing time (sec)\n",
              "0            Simple RNN (64 units)  ...            0.751699\n",
              "1           Simple RNN (100 units)  ...            0.966891\n",
              "2  Simple RNN (32 units w/dropout)  ...            0.661645\n",
              "\n",
              "[3 rows x 9 columns]"
            ]
          },
          "metadata": {
            "tags": []
          },
          "execution_count": 232
        }
      ]
    },
    {
      "cell_type": "code",
      "metadata": {
        "colab_type": "code",
        "id": "HEZM7O1mCISv",
        "colab": {}
      },
      "source": [
        "results_df2.to_pickle(\"results2.pkl\") "
      ],
      "execution_count": 233,
      "outputs": []
    },
    {
      "cell_type": "markdown",
      "metadata": {
        "id": "Jy7H_61IELU2",
        "colab_type": "text"
      },
      "source": [
        "# 3. Experiment 3: LSTM RNN"
      ]
    },
    {
      "cell_type": "code",
      "metadata": {
        "id": "AykMVTRoELU2",
        "colab_type": "code",
        "colab": {}
      },
      "source": [
        "keras.backend.clear_session()\n",
        "np.random.seed(42)\n",
        "tf.random.set_seed(42)"
      ],
      "execution_count": 234,
      "outputs": []
    },
    {
      "cell_type": "markdown",
      "metadata": {
        "id": "3UytfI0AELU4",
        "colab_type": "text"
      },
      "source": [
        "## 3.1 LSTM RNN"
      ]
    },
    {
      "cell_type": "code",
      "metadata": {
        "id": "nKricCMlELU4",
        "colab_type": "code",
        "colab": {
          "base_uri": "https://localhost:8080/",
          "height": 255
        },
        "outputId": "02caa81f-6e3e-47b6-b7c9-d93e66c0c883"
      },
      "source": [
        "model_3 = Sequential()\n",
        "model_3.add(Embedding(input_dim = voc_size, output_dim = 64, input_length = 193))\n",
        "model_3.add(LSTM(units = 32))\n",
        "model_3.add(Dense(units = 21, activation='softmax'))\n",
        "\n",
        "model_3.summary()"
      ],
      "execution_count": 235,
      "outputs": [
        {
          "output_type": "stream",
          "text": [
            "Model: \"sequential\"\n",
            "_________________________________________________________________\n",
            "Layer (type)                 Output Shape              Param #   \n",
            "=================================================================\n",
            "embedding (Embedding)        (None, 193, 64)           640000    \n",
            "_________________________________________________________________\n",
            "lstm (LSTM)                  (None, 32)                12416     \n",
            "_________________________________________________________________\n",
            "dense (Dense)                (None, 21)                693       \n",
            "=================================================================\n",
            "Total params: 653,109\n",
            "Trainable params: 653,109\n",
            "Non-trainable params: 0\n",
            "_________________________________________________________________\n"
          ],
          "name": "stdout"
        }
      ]
    },
    {
      "cell_type": "code",
      "metadata": {
        "id": "Bt1KYML1ELU6",
        "colab_type": "code",
        "colab": {}
      },
      "source": [
        "model_3.compile(optimizer='adam',\n",
        "              loss='categorical_crossentropy',\n",
        "              metrics=['accuracy'])"
      ],
      "execution_count": 236,
      "outputs": []
    },
    {
      "cell_type": "markdown",
      "metadata": {
        "id": "GfZJAxgeELU7",
        "colab_type": "text"
      },
      "source": [
        "### 3.1.a Model Training"
      ]
    },
    {
      "cell_type": "code",
      "metadata": {
        "id": "rINAShliELU7",
        "colab_type": "code",
        "colab": {
          "base_uri": "https://localhost:8080/",
          "height": 377
        },
        "outputId": "e41e3eed-4a44-4196-ebee-c7dfeec2e74f"
      },
      "source": [
        "train_rt = TrainRuntimeCallback()\n",
        "history = model_3.fit(train_data_sm_rnn,\n",
        "                    one_hot_train_labels_sm,\n",
        "                    callbacks = [train_rt],\n",
        "                    epochs=10,\n",
        "                    batch_size=100,\n",
        "#                   validation_data=(val_data_sm_rnn, one_hot_val_labels_sm))\n",
        "                    validation_split = 0.15)   # comment out if setting validation_data value.\n",
        "\n",
        "# Saving models locally after fitting\n",
        "# save_dir = \"results/\"\n",
        "# model_name = 'Reuters_3.h5'\n",
        "# model_path = os.path.join(save_dir, model_name)\n",
        "# model_3.save(model_path)\n",
        "# print('Saved trained model at %s ' % model_path)\n",
        "# print('--------------------------')"
      ],
      "execution_count": 237,
      "outputs": [
        {
          "output_type": "stream",
          "text": [
            "Epoch 1/10\n",
            "64/64 [==============================] - 9s 134ms/step - loss: 2.2227 - accuracy: 0.4319 - val_loss: 1.5064 - val_accuracy: 0.5737\n",
            "Epoch 2/10\n",
            "64/64 [==============================] - 8s 125ms/step - loss: 1.2819 - accuracy: 0.6033 - val_loss: 1.1294 - val_accuracy: 0.6652\n",
            "Epoch 3/10\n",
            "64/64 [==============================] - 8s 125ms/step - loss: 1.0517 - accuracy: 0.6718 - val_loss: 1.0763 - val_accuracy: 0.6803\n",
            "Epoch 4/10\n",
            "64/64 [==============================] - 8s 126ms/step - loss: 0.9718 - accuracy: 0.6867 - val_loss: 0.9906 - val_accuracy: 0.6767\n",
            "Epoch 5/10\n",
            "64/64 [==============================] - 8s 126ms/step - loss: 0.8978 - accuracy: 0.7082 - val_loss: 0.9664 - val_accuracy: 0.6901\n",
            "Epoch 6/10\n",
            "64/64 [==============================] - 8s 125ms/step - loss: 0.8122 - accuracy: 0.7467 - val_loss: 0.9091 - val_accuracy: 0.7265\n",
            "Epoch 7/10\n",
            "64/64 [==============================] - 8s 127ms/step - loss: 0.8953 - accuracy: 0.7245 - val_loss: 0.9498 - val_accuracy: 0.7220\n",
            "Epoch 8/10\n",
            "64/64 [==============================] - 8s 127ms/step - loss: 0.7043 - accuracy: 0.7867 - val_loss: 0.8935 - val_accuracy: 0.7265\n",
            "Epoch 9/10\n",
            "64/64 [==============================] - 8s 125ms/step - loss: 0.6203 - accuracy: 0.8081 - val_loss: 0.8593 - val_accuracy: 0.7451\n",
            "Epoch 10/10\n",
            "64/64 [==============================] - 8s 127ms/step - loss: 0.6790 - accuracy: 0.7889 - val_loss: 0.9335 - val_accuracy: 0.7300\n"
          ],
          "name": "stdout"
        }
      ]
    },
    {
      "cell_type": "code",
      "metadata": {
        "id": "fUwaTCTOELU9",
        "colab_type": "code",
        "colab": {
          "base_uri": "https://localhost:8080/",
          "height": 34
        },
        "outputId": "438f3cbf-f938-4156-b528-cd0409e5277f"
      },
      "source": [
        "# Get the training time\n",
        "train_time = train_rt.process_time\n",
        "train_time # in seconds"
      ],
      "execution_count": 238,
      "outputs": [
        {
          "output_type": "execute_result",
          "data": {
            "text/plain": [
              "83.972107"
            ]
          },
          "metadata": {
            "tags": []
          },
          "execution_count": 238
        }
      ]
    },
    {
      "cell_type": "code",
      "metadata": {
        "id": "ipWEV7i8ELU-",
        "colab_type": "code",
        "colab": {
          "base_uri": "https://localhost:8080/",
          "height": 34
        },
        "outputId": "b5be4680-821e-445c-ba67-556511f36114"
      },
      "source": [
        "print(f\"train_acc: {history.history['accuracy'][-1]}, val_acc: {history.history['val_accuracy'][-1]}\")"
      ],
      "execution_count": 239,
      "outputs": [
        {
          "output_type": "stream",
          "text": [
            "train_acc: 0.7889289855957031, val_acc: 0.7300177812576294\n"
          ],
          "name": "stdout"
        }
      ]
    },
    {
      "cell_type": "markdown",
      "metadata": {
        "id": "xSDsrqjbELVA",
        "colab_type": "text"
      },
      "source": [
        "### 3.1.b Model Testing"
      ]
    },
    {
      "cell_type": "code",
      "metadata": {
        "id": "PoJp8CWZELVA",
        "colab_type": "code",
        "colab": {
          "base_uri": "https://localhost:8080/",
          "height": 34
        },
        "outputId": "63e124c0-8f89-4d78-a9d3-aaf64dd6c958"
      },
      "source": [
        "test_rt = TestRuntimeCallback()\n",
        "test_loss, test_accuracy = model_3.evaluate(test_data_sm_rnn, one_hot_test_labels_sm, callbacks=[test_rt], verbose=0)\n",
        "print(f\"test_accuracy={test_accuracy}, test_loss={test_loss}\")"
      ],
      "execution_count": 240,
      "outputs": [
        {
          "output_type": "stream",
          "text": [
            "test_accuracy=0.7311015129089355, test_loss=0.9347316026687622\n"
          ],
          "name": "stdout"
        }
      ]
    },
    {
      "cell_type": "code",
      "metadata": {
        "id": "v1xhV90gELVC",
        "colab_type": "code",
        "colab": {
          "base_uri": "https://localhost:8080/",
          "height": 34
        },
        "outputId": "802049c5-4f39-43f5-cafe-65ff10bdc818"
      },
      "source": [
        "# Get the test time\n",
        "test_time = test_rt.process_time\n",
        "test_time # in seconds"
      ],
      "execution_count": 241,
      "outputs": [
        {
          "output_type": "execute_result",
          "data": {
            "text/plain": [
              "0.956484"
            ]
          },
          "metadata": {
            "tags": []
          },
          "execution_count": 241
        }
      ]
    },
    {
      "cell_type": "markdown",
      "metadata": {
        "id": "8oWUJhJpELVD",
        "colab_type": "text"
      },
      "source": [
        "### 3.1.c Model Performance"
      ]
    },
    {
      "cell_type": "code",
      "metadata": {
        "id": "WhJ15NE6ELVE",
        "colab_type": "code",
        "colab": {
          "base_uri": "https://localhost:8080/",
          "height": 320
        },
        "outputId": "22b4214e-2669-4bef-fe3f-6efd501871fe"
      },
      "source": [
        "# Plot learning curves for model\n",
        "pd.DataFrame(history.history).plot(figsize=(8, 5))\n",
        "plt.grid(True)\n",
        "plt.gca().set_ylim(0, 1.5) # set the vertical range to [0-1]\n",
        "# plt.savefig(\"figures/learning_curves_model_3\", tight_layout=False)\n",
        "plt.show()"
      ],
      "execution_count": 242,
      "outputs": [
        {
          "output_type": "display_data",
          "data": {
            "image/png": "[encoded data removed]",
            "text/plain": [
              "<Figure size 576x360 with 1 Axes>"
            ]
          },
          "metadata": {
            "tags": [],
            "needs_background": "light"
          }
        }
      ]
    },
    {
      "cell_type": "code",
      "metadata": {
        "id": "TYJdiEoCELVG",
        "colab_type": "code",
        "colab": {}
      },
      "source": [
        "history_dict = history.history.copy()\n",
        "# history_dict['train_accuracy'] = history_dict.pop('accuracy') # rename the the key to 'test_accuracy'\n",
        "history_df=pd.DataFrame(history_dict)"
      ],
      "execution_count": 243,
      "outputs": []
    },
    {
      "cell_type": "code",
      "metadata": {
        "id": "BoGUpk2UELVI",
        "colab_type": "code",
        "colab": {
          "base_uri": "https://localhost:8080/",
          "height": 168
        },
        "outputId": "6d36098d-e286-45a9-f560-7e7126989ae8"
      },
      "source": [
        "results_df3 = history_df.iloc[-1:].copy()\n",
        "results_df3.insert(0,'model','LSTM RNN baseline') # want the model name to appear first\n",
        "results_df3['test_accuracy'] = test_accuracy\n",
        "results_df3['test_loss'] = test_loss\n",
        "results_df3['training time (sec)'] = train_time      # we are okay with training time appearing last\n",
        "results_df3['testing time (sec)'] = test_time      # we are okay with training time appearing last\n",
        "results_df3"
      ],
      "execution_count": 244,
      "outputs": [
        {
          "output_type": "execute_result",
          "data": {
            "text/html": [
              "<div>\n",
              "<style scoped>\n",
              "    .dataframe tbody tr th:only-of-type {\n",
              "        vertical-align: middle;\n",
              "    }\n",
              "\n",
              "    .dataframe tbody tr th {\n",
              "        vertical-align: top;\n",
              "    }\n",
              "\n",
              "    .dataframe thead th {\n",
              "        text-align: right;\n",
              "    }\n",
              "</style>\n",
              "<table border=\"1\" class=\"dataframe\">\n",
              "  <thead>\n",
              "    <tr style=\"text-align: right;\">\n",
              "      <th></th>\n",
              "      <th>model</th>\n",
              "      <th>loss</th>\n",
              "      <th>accuracy</th>\n",
              "      <th>val_loss</th>\n",
              "      <th>val_accuracy</th>\n",
              "      <th>test_accuracy</th>\n",
              "      <th>test_loss</th>\n",
              "      <th>training time (sec)</th>\n",
              "      <th>testing time (sec)</th>\n",
              "    </tr>\n",
              "  </thead>\n",
              "  <tbody>\n",
              "    <tr>\n",
              "      <th>9</th>\n",
              "      <td>LSTM RNN baseline</td>\n",
              "      <td>0.679019</td>\n",
              "      <td>0.788929</td>\n",
              "      <td>0.933482</td>\n",
              "      <td>0.730018</td>\n",
              "      <td>0.731102</td>\n",
              "      <td>0.934732</td>\n",
              "      <td>83.972107</td>\n",
              "      <td>0.956484</td>\n",
              "    </tr>\n",
              "  </tbody>\n",
              "</table>\n",
              "</div>"
            ],
            "text/plain": [
              "               model      loss  ...  training time (sec)  testing time (sec)\n",
              "9  LSTM RNN baseline  0.679019  ...            83.972107            0.956484\n",
              "\n",
              "[1 rows x 9 columns]"
            ]
          },
          "metadata": {
            "tags": []
          },
          "execution_count": 244
        }
      ]
    },
    {
      "cell_type": "markdown",
      "metadata": {
        "id": "ms1AZVzDELVK",
        "colab_type": "text"
      },
      "source": [
        "## 3.2 LSTM RNN w/100 memory cell units"
      ]
    },
    {
      "cell_type": "code",
      "metadata": {
        "id": "OWGB_Kp0ELVK",
        "colab_type": "code",
        "colab": {
          "base_uri": "https://localhost:8080/",
          "height": 255
        },
        "outputId": "ecd3cc2f-0a8f-4839-b8a9-49c84944800b"
      },
      "source": [
        "model_3a = Sequential()\n",
        "model_3a.add(Embedding(input_dim = voc_size, output_dim = 64, input_length = 193))\n",
        "model_3a.add(LSTM(units = 100))\n",
        "model_3a.add(Dense(units = 21, activation='softmax'))\n",
        "\n",
        "\n",
        "model_3a.summary()"
      ],
      "execution_count": 245,
      "outputs": [
        {
          "output_type": "stream",
          "text": [
            "Model: \"sequential_1\"\n",
            "_________________________________________________________________\n",
            "Layer (type)                 Output Shape              Param #   \n",
            "=================================================================\n",
            "embedding_1 (Embedding)      (None, 193, 64)           640000    \n",
            "_________________________________________________________________\n",
            "lstm_1 (LSTM)                (None, 100)               66000     \n",
            "_________________________________________________________________\n",
            "dense_1 (Dense)              (None, 21)                2121      \n",
            "=================================================================\n",
            "Total params: 708,121\n",
            "Trainable params: 708,121\n",
            "Non-trainable params: 0\n",
            "_________________________________________________________________\n"
          ],
          "name": "stdout"
        }
      ]
    },
    {
      "cell_type": "code",
      "metadata": {
        "id": "l6ZQmbGWELVL",
        "colab_type": "code",
        "colab": {}
      },
      "source": [
        "model_3a.compile(optimizer='adam',\n",
        "              loss='categorical_crossentropy',\n",
        "              metrics=['accuracy'])"
      ],
      "execution_count": 246,
      "outputs": []
    },
    {
      "cell_type": "markdown",
      "metadata": {
        "id": "EwhbQcj7ELVO",
        "colab_type": "text"
      },
      "source": [
        "### 3.2.a Model Training"
      ]
    },
    {
      "cell_type": "code",
      "metadata": {
        "id": "bNkY6qrLELVO",
        "colab_type": "code",
        "colab": {
          "base_uri": "https://localhost:8080/",
          "height": 377
        },
        "outputId": "8e3abbd8-d030-490e-ca5f-7eeeb840d330"
      },
      "source": [
        "train_rt = TrainRuntimeCallback()\n",
        "history = model_3a.fit(train_data_sm_rnn,\n",
        "                    one_hot_train_labels_sm,\n",
        "                    callbacks = [train_rt],\n",
        "                    epochs=10,\n",
        "                    batch_size=100,\n",
        "#                   validation_data=(val_data_sm_rnn, one_hot_val_labels_sm))\n",
        "                    validation_split = 0.15)   # comment out if setting validation_data value.\n",
        "\n",
        "# Saving models locally after fitting\n",
        "# save_dir = \"results/\"\n",
        "# model_name = 'Reuters_3a.h5'\n",
        "# model_path = os.path.join(save_dir, model_name)\n",
        "# model_3a.save(model_path)\n",
        "# print('Saved trained model at %s ' % model_path)\n",
        "# print('--------------------------')"
      ],
      "execution_count": 247,
      "outputs": [
        {
          "output_type": "stream",
          "text": [
            "Epoch 1/10\n",
            "64/64 [==============================] - 26s 413ms/step - loss: 1.9544 - accuracy: 0.4162 - val_loss: 1.6460 - val_accuracy: 0.4103\n",
            "Epoch 2/10\n",
            "64/64 [==============================] - 26s 404ms/step - loss: 1.4303 - accuracy: 0.5467 - val_loss: 1.3287 - val_accuracy: 0.5915\n",
            "Epoch 3/10\n",
            "64/64 [==============================] - 26s 411ms/step - loss: 1.2020 - accuracy: 0.6139 - val_loss: 1.0957 - val_accuracy: 0.6545\n",
            "Epoch 4/10\n",
            "64/64 [==============================] - 26s 406ms/step - loss: 1.0093 - accuracy: 0.6680 - val_loss: 1.1604 - val_accuracy: 0.6385\n",
            "Epoch 5/10\n",
            "64/64 [==============================] - 26s 406ms/step - loss: 0.8890 - accuracy: 0.7024 - val_loss: 0.8941 - val_accuracy: 0.7167\n",
            "Epoch 6/10\n",
            "64/64 [==============================] - 26s 403ms/step - loss: 0.7301 - accuracy: 0.7642 - val_loss: 0.9064 - val_accuracy: 0.7185\n",
            "Epoch 7/10\n",
            "64/64 [==============================] - 26s 401ms/step - loss: 0.6432 - accuracy: 0.7916 - val_loss: 0.8656 - val_accuracy: 0.7362\n",
            "Epoch 8/10\n",
            "64/64 [==============================] - 26s 401ms/step - loss: 0.5779 - accuracy: 0.8231 - val_loss: 0.8306 - val_accuracy: 0.7442\n",
            "Epoch 9/10\n",
            "64/64 [==============================] - 26s 403ms/step - loss: 0.4927 - accuracy: 0.8582 - val_loss: 0.8146 - val_accuracy: 0.7735\n",
            "Epoch 10/10\n",
            "64/64 [==============================] - 26s 399ms/step - loss: 0.3864 - accuracy: 0.8910 - val_loss: 0.8175 - val_accuracy: 0.7735\n"
          ],
          "name": "stdout"
        }
      ]
    },
    {
      "cell_type": "code",
      "metadata": {
        "id": "q7madnWSELVQ",
        "colab_type": "code",
        "colab": {
          "base_uri": "https://localhost:8080/",
          "height": 34
        },
        "outputId": "e7828a28-2ab9-4170-b8d1-adbfa17fcad0"
      },
      "source": [
        "# Get the training time\n",
        "train_time = train_rt.process_time\n",
        "train_time # in seconds"
      ],
      "execution_count": 248,
      "outputs": [
        {
          "output_type": "execute_result",
          "data": {
            "text/plain": [
              "264.753821"
            ]
          },
          "metadata": {
            "tags": []
          },
          "execution_count": 248
        }
      ]
    },
    {
      "cell_type": "code",
      "metadata": {
        "id": "Hma2v5iNELVT",
        "colab_type": "code",
        "colab": {
          "base_uri": "https://localhost:8080/",
          "height": 34
        },
        "outputId": "fbdedfce-b583-4c9c-da37-2fce10a494ad"
      },
      "source": [
        "print(f\"train_acc: {history.history['accuracy'][-1]}, val_acc: {history.history['val_accuracy'][-1]}\")"
      ],
      "execution_count": 249,
      "outputs": [
        {
          "output_type": "stream",
          "text": [
            "train_acc: 0.891014575958252, val_acc: 0.7735346555709839\n"
          ],
          "name": "stdout"
        }
      ]
    },
    {
      "cell_type": "markdown",
      "metadata": {
        "id": "pGtWDXLTELVV",
        "colab_type": "text"
      },
      "source": [
        "### 3.2.b Model Testing"
      ]
    },
    {
      "cell_type": "code",
      "metadata": {
        "id": "Fh_M-HJWELVV",
        "colab_type": "code",
        "colab": {
          "base_uri": "https://localhost:8080/",
          "height": 34
        },
        "outputId": "1eaa522b-a85a-478a-e930-c579f25e47bc"
      },
      "source": [
        "test_rt = TestRuntimeCallback()\n",
        "test_loss, test_accuracy = model_3a.evaluate(test_data_sm_rnn, one_hot_test_labels_sm, callbacks=[test_rt], verbose=0)\n",
        "print(f\"test_accuracy={test_accuracy}, test_loss={test_loss}\")"
      ],
      "execution_count": 250,
      "outputs": [
        {
          "output_type": "stream",
          "text": [
            "test_accuracy=0.752159833908081, test_loss=0.9204900860786438\n"
          ],
          "name": "stdout"
        }
      ]
    },
    {
      "cell_type": "code",
      "metadata": {
        "id": "_4ZG01VBELVW",
        "colab_type": "code",
        "colab": {
          "base_uri": "https://localhost:8080/",
          "height": 34
        },
        "outputId": "3e343a1c-e319-429b-d9f0-7dcbb3dbf6bf"
      },
      "source": [
        "# Get the test time\n",
        "test_time = test_rt.process_time\n",
        "test_time # in seconds"
      ],
      "execution_count": 251,
      "outputs": [
        {
          "output_type": "execute_result",
          "data": {
            "text/plain": [
              "2.005659"
            ]
          },
          "metadata": {
            "tags": []
          },
          "execution_count": 251
        }
      ]
    },
    {
      "cell_type": "markdown",
      "metadata": {
        "id": "7g0dCnJGELVX",
        "colab_type": "text"
      },
      "source": [
        "### 3.2.c Model Performance"
      ]
    },
    {
      "cell_type": "code",
      "metadata": {
        "id": "6gFKr_A2ELVY",
        "colab_type": "code",
        "colab": {
          "base_uri": "https://localhost:8080/",
          "height": 320
        },
        "outputId": "d081095a-8b3f-42fe-b105-c73864d0f110"
      },
      "source": [
        "# Plot learning curves for model\n",
        "pd.DataFrame(history.history).plot(figsize=(8, 5))\n",
        "plt.grid(True)\n",
        "plt.gca().set_ylim(0, 1.5) # set the vertical range to [0-1]\n",
        "# plt.savefig(\"figures/learning_curves_model_3a\", tight_layout=False)\n",
        "plt.show()"
      ],
      "execution_count": 252,
      "outputs": [
        {
          "output_type": "display_data",
          "data": {
            "image/png": "[encoded data removed]",
            "text/plain": [
              "<Figure size 576x360 with 1 Axes>"
            ]
          },
          "metadata": {
            "tags": [],
            "needs_background": "light"
          }
        }
      ]
    },
    {
      "cell_type": "code",
      "metadata": {
        "id": "2NCIIjpgELVZ",
        "colab_type": "code",
        "colab": {}
      },
      "source": [
        "history_dict = history.history.copy()\n",
        "# history_dict['train_accuracy'] = history_dict.pop('accuracy') # rename the the key to 'test_accuracy'\n",
        "history_df=pd.DataFrame(history_dict)"
      ],
      "execution_count": 253,
      "outputs": []
    },
    {
      "cell_type": "code",
      "metadata": {
        "id": "tWnuQSaOELVd",
        "colab_type": "code",
        "colab": {
          "base_uri": "https://localhost:8080/",
          "height": 219
        },
        "outputId": "ed0b3139-a3c3-4028-83ae-987e856933a1"
      },
      "source": [
        "results_df3a = history_df.iloc[-1:].copy()\n",
        "results_df3a.insert(0,'model','LSTM RNN (100 memory cell units)') # want the model name to appear first\n",
        "results_df3a['test_accuracy'] = test_accuracy\n",
        "results_df3a['test_loss'] = test_loss\n",
        "results_df3a['training time (sec)'] = train_time      \n",
        "results_df3a['testing time (sec)'] = test_time      \n",
        "results_df3a"
      ],
      "execution_count": 254,
      "outputs": [
        {
          "output_type": "execute_result",
          "data": {
            "text/html": [
              "<div>\n",
              "<style scoped>\n",
              "    .dataframe tbody tr th:only-of-type {\n",
              "        vertical-align: middle;\n",
              "    }\n",
              "\n",
              "    .dataframe tbody tr th {\n",
              "        vertical-align: top;\n",
              "    }\n",
              "\n",
              "    .dataframe thead th {\n",
              "        text-align: right;\n",
              "    }\n",
              "</style>\n",
              "<table border=\"1\" class=\"dataframe\">\n",
              "  <thead>\n",
              "    <tr style=\"text-align: right;\">\n",
              "      <th></th>\n",
              "      <th>model</th>\n",
              "      <th>loss</th>\n",
              "      <th>accuracy</th>\n",
              "      <th>val_loss</th>\n",
              "      <th>val_accuracy</th>\n",
              "      <th>test_accuracy</th>\n",
              "      <th>test_loss</th>\n",
              "      <th>training time (sec)</th>\n",
              "      <th>testing time (sec)</th>\n",
              "    </tr>\n",
              "  </thead>\n",
              "  <tbody>\n",
              "    <tr>\n",
              "      <th>9</th>\n",
              "      <td>LSTM RNN (100 memory cell units)</td>\n",
              "      <td>0.386419</td>\n",
              "      <td>0.891015</td>\n",
              "      <td>0.817529</td>\n",
              "      <td>0.773535</td>\n",
              "      <td>0.75216</td>\n",
              "      <td>0.92049</td>\n",
              "      <td>264.753821</td>\n",
              "      <td>2.005659</td>\n",
              "    </tr>\n",
              "  </tbody>\n",
              "</table>\n",
              "</div>"
            ],
            "text/plain": [
              "                              model  ...  testing time (sec)\n",
              "9  LSTM RNN (100 memory cell units)  ...            2.005659\n",
              "\n",
              "[1 rows x 9 columns]"
            ]
          },
          "metadata": {
            "tags": []
          },
          "execution_count": 254
        }
      ]
    },
    {
      "cell_type": "markdown",
      "metadata": {
        "id": "eJbXrHMSELVh",
        "colab_type": "text"
      },
      "source": [
        "## 3.3 LSTM RNN w/20% dropout"
      ]
    },
    {
      "cell_type": "code",
      "metadata": {
        "id": "i9oOFvjNELVh",
        "colab_type": "code",
        "colab": {
          "base_uri": "https://localhost:8080/",
          "height": 289
        },
        "outputId": "ca9eeb11-f212-4a6b-f579-83097174e03c"
      },
      "source": [
        "model_3b = Sequential()\n",
        "model_3b.add(Embedding(input_dim = voc_size, output_dim = 64, input_length = 193))\n",
        "# model_3b.add(layers.SpatialDropout1D(0.2))\n",
        "model_3b.add(LSTM(units=100))\n",
        "model_3b.add(layers.Dropout(0.2))\n",
        "model_3b.add(Dense(units = 21, activation='softmax'))\n",
        "\n",
        "model_3b.summary()"
      ],
      "execution_count": 255,
      "outputs": [
        {
          "output_type": "stream",
          "text": [
            "Model: \"sequential_2\"\n",
            "_________________________________________________________________\n",
            "Layer (type)                 Output Shape              Param #   \n",
            "=================================================================\n",
            "embedding_2 (Embedding)      (None, 193, 64)           640000    \n",
            "_________________________________________________________________\n",
            "lstm_2 (LSTM)                (None, 100)               66000     \n",
            "_________________________________________________________________\n",
            "dropout (Dropout)            (None, 100)               0         \n",
            "_________________________________________________________________\n",
            "dense_2 (Dense)              (None, 21)                2121      \n",
            "=================================================================\n",
            "Total params: 708,121\n",
            "Trainable params: 708,121\n",
            "Non-trainable params: 0\n",
            "_________________________________________________________________\n"
          ],
          "name": "stdout"
        }
      ]
    },
    {
      "cell_type": "code",
      "metadata": {
        "id": "QO17J-qnELVx",
        "colab_type": "code",
        "colab": {}
      },
      "source": [
        "model_3b.compile(optimizer='adam',\n",
        "              loss='categorical_crossentropy',\n",
        "              metrics=['accuracy'])"
      ],
      "execution_count": 256,
      "outputs": []
    },
    {
      "cell_type": "markdown",
      "metadata": {
        "id": "2jlm9uM8ELVy",
        "colab_type": "text"
      },
      "source": [
        "### 3.3.a Model Training"
      ]
    },
    {
      "cell_type": "code",
      "metadata": {
        "id": "BKG8iMzsELVz",
        "colab_type": "code",
        "colab": {
          "base_uri": "https://localhost:8080/",
          "height": 377
        },
        "outputId": "3b4e2f1b-2f2a-4b95-ef19-398c50f9d141"
      },
      "source": [
        "train_rt = TrainRuntimeCallback()\n",
        "history = model_3b.fit(train_data_sm_rnn,\n",
        "                    one_hot_train_labels_sm,\n",
        "                    callbacks = [train_rt],\n",
        "                    epochs=10,\n",
        "                    batch_size=100,\n",
        "#                   validation_data=(val_data_sm_rnn, one_hot_val_labels_sm))\n",
        "                    validation_split = 0.15)   # comment out if setting validation_data value.\n",
        "\n",
        "# Saving models locally after fitting\n",
        "# save_dir = \"results/\"\n",
        "# model_name = 'Reuters_3b.h5'\n",
        "# model_path = os.path.join(save_dir, model_name)\n",
        "# model_3b.save(model_path)\n",
        "# print('Saved trained model at %s ' % model_path)\n",
        "# print('--------------------------')"
      ],
      "execution_count": 257,
      "outputs": [
        {
          "output_type": "stream",
          "text": [
            "Epoch 1/10\n",
            "64/64 [==============================] - 26s 412ms/step - loss: 1.9840 - accuracy: 0.4052 - val_loss: 1.6191 - val_accuracy: 0.4103\n",
            "Epoch 2/10\n",
            "64/64 [==============================] - 26s 400ms/step - loss: 1.3550 - accuracy: 0.5590 - val_loss: 1.1852 - val_accuracy: 0.5977\n",
            "Epoch 3/10\n",
            "64/64 [==============================] - 29s 460ms/step - loss: 1.0985 - accuracy: 0.6255 - val_loss: 1.0310 - val_accuracy: 0.6545\n",
            "Epoch 4/10\n",
            "64/64 [==============================] - 26s 403ms/step - loss: 0.9658 - accuracy: 0.6666 - val_loss: 0.9923 - val_accuracy: 0.6616\n",
            "Epoch 5/10\n",
            "64/64 [==============================] - 26s 412ms/step - loss: 0.8856 - accuracy: 0.6878 - val_loss: 1.1065 - val_accuracy: 0.6252\n",
            "Epoch 6/10\n",
            "64/64 [==============================] - 26s 412ms/step - loss: 0.8236 - accuracy: 0.7077 - val_loss: 0.9540 - val_accuracy: 0.6909\n",
            "Epoch 7/10\n",
            "64/64 [==============================] - 26s 401ms/step - loss: 0.7445 - accuracy: 0.7453 - val_loss: 0.8961 - val_accuracy: 0.7220\n",
            "Epoch 8/10\n",
            "64/64 [==============================] - 26s 404ms/step - loss: 0.6494 - accuracy: 0.7790 - val_loss: 0.8280 - val_accuracy: 0.7371\n",
            "Epoch 9/10\n",
            "64/64 [==============================] - 26s 407ms/step - loss: 0.5593 - accuracy: 0.8131 - val_loss: 0.8427 - val_accuracy: 0.7398\n",
            "Epoch 10/10\n",
            "64/64 [==============================] - 26s 403ms/step - loss: 0.5029 - accuracy: 0.8418 - val_loss: 0.8509 - val_accuracy: 0.7407\n"
          ],
          "name": "stdout"
        }
      ]
    },
    {
      "cell_type": "code",
      "metadata": {
        "id": "ciKPoMwNELV0",
        "colab_type": "code",
        "colab": {
          "base_uri": "https://localhost:8080/",
          "height": 34
        },
        "outputId": "88c66f9f-6623-4aed-b1f0-0279f3fb2199"
      },
      "source": [
        "# Get the training time\n",
        "train_time = train_rt.process_time\n",
        "train_time # in seconds"
      ],
      "execution_count": 258,
      "outputs": [
        {
          "output_type": "execute_result",
          "data": {
            "text/plain": [
              "268.786401"
            ]
          },
          "metadata": {
            "tags": []
          },
          "execution_count": 258
        }
      ]
    },
    {
      "cell_type": "code",
      "metadata": {
        "id": "oWFUrKBYELV3",
        "colab_type": "code",
        "colab": {
          "base_uri": "https://localhost:8080/",
          "height": 34
        },
        "outputId": "f54df091-702b-4838-cbc9-8260ca49c873"
      },
      "source": [
        "print(f\"train_acc: {history.history['accuracy'][-1]}, val_acc: {history.history['val_accuracy'][-1]}\")"
      ],
      "execution_count": 259,
      "outputs": [
        {
          "output_type": "stream",
          "text": [
            "train_acc: 0.841775119304657, val_acc: 0.7406749725341797\n"
          ],
          "name": "stdout"
        }
      ]
    },
    {
      "cell_type": "markdown",
      "metadata": {
        "id": "A1JHJTDmELV5",
        "colab_type": "text"
      },
      "source": [
        "### 3.3.b Model Testing"
      ]
    },
    {
      "cell_type": "code",
      "metadata": {
        "id": "6glZIDifELV5",
        "colab_type": "code",
        "colab": {
          "base_uri": "https://localhost:8080/",
          "height": 34
        },
        "outputId": "e4ac00b4-3966-4c88-bd17-af04afc279fe"
      },
      "source": [
        "test_rt = TestRuntimeCallback()\n",
        "test_loss, test_accuracy = model_3b.evaluate(test_data_sm_rnn, one_hot_test_labels_sm, callbacks=[test_rt], verbose=0)\n",
        "print(f\"test_accuracy={test_accuracy}, test_loss={test_loss}\")"
      ],
      "execution_count": 260,
      "outputs": [
        {
          "output_type": "stream",
          "text": [
            "test_accuracy=0.7510799169540405, test_loss=0.8872067928314209\n"
          ],
          "name": "stdout"
        }
      ]
    },
    {
      "cell_type": "code",
      "metadata": {
        "id": "EV9JWL_cELV9",
        "colab_type": "code",
        "colab": {
          "base_uri": "https://localhost:8080/",
          "height": 34
        },
        "outputId": "690270ab-d806-46e8-e477-8a5dc29d34d1"
      },
      "source": [
        "# Get the test time\n",
        "test_time = test_rt.process_time\n",
        "test_time # in seconds"
      ],
      "execution_count": 261,
      "outputs": [
        {
          "output_type": "execute_result",
          "data": {
            "text/plain": [
              "2.041616"
            ]
          },
          "metadata": {
            "tags": []
          },
          "execution_count": 261
        }
      ]
    },
    {
      "cell_type": "markdown",
      "metadata": {
        "id": "gM0H7ygZELV-",
        "colab_type": "text"
      },
      "source": [
        "### 3.3.c Model Performance"
      ]
    },
    {
      "cell_type": "code",
      "metadata": {
        "id": "wHTGarJSELV_",
        "colab_type": "code",
        "colab": {
          "base_uri": "https://localhost:8080/",
          "height": 320
        },
        "outputId": "18bc9e8b-fef9-4028-ca18-b4edf0366613"
      },
      "source": [
        "# Plot learning curves for model\n",
        "pd.DataFrame(history.history).plot(figsize=(8, 5))\n",
        "plt.grid(True)\n",
        "plt.gca().set_ylim(0, 1.5) # set the vertical range to [0-1]\n",
        "# plt.savefig(\"figures/learning_curves_model_3b\", tight_layout=False)\n",
        "plt.show()"
      ],
      "execution_count": 262,
      "outputs": [
        {
          "output_type": "display_data",
          "data": {
            "image/png": "[encoded data removed]",
            "text/plain": [
              "<Figure size 576x360 with 1 Axes>"
            ]
          },
          "metadata": {
            "tags": [],
            "needs_background": "light"
          }
        }
      ]
    },
    {
      "cell_type": "code",
      "metadata": {
        "id": "nlahyXrcELWB",
        "colab_type": "code",
        "colab": {}
      },
      "source": [
        "history_dict = history.history.copy()\n",
        "# history_dict['train_accuracy'] = history_dict.pop('accuracy') # rename the the key to 'test_accuracy'\n",
        "history_df=pd.DataFrame(history_dict)"
      ],
      "execution_count": 263,
      "outputs": []
    },
    {
      "cell_type": "code",
      "metadata": {
        "id": "DYqDVQa-ELWC",
        "colab_type": "code",
        "colab": {
          "base_uri": "https://localhost:8080/",
          "height": 185
        },
        "outputId": "0133e145-8b88-4d9a-eb19-25db98ade52c"
      },
      "source": [
        "results_df3b = history_df.iloc[-1:].copy()\n",
        "results_df3b.insert(0,'model','LSTM RNN with Drop') # want the model name to appear first\n",
        "results_df3b['test_accuracy'] = test_accuracy\n",
        "results_df3b['test_loss'] = test_loss\n",
        "results_df3b['training time (sec)'] = train_time      \n",
        "results_df3b['testing time (sec)'] = test_time     \n",
        "results_df3b"
      ],
      "execution_count": 264,
      "outputs": [
        {
          "output_type": "execute_result",
          "data": {
            "text/html": [
              "<div>\n",
              "<style scoped>\n",
              "    .dataframe tbody tr th:only-of-type {\n",
              "        vertical-align: middle;\n",
              "    }\n",
              "\n",
              "    .dataframe tbody tr th {\n",
              "        vertical-align: top;\n",
              "    }\n",
              "\n",
              "    .dataframe thead th {\n",
              "        text-align: right;\n",
              "    }\n",
              "</style>\n",
              "<table border=\"1\" class=\"dataframe\">\n",
              "  <thead>\n",
              "    <tr style=\"text-align: right;\">\n",
              "      <th></th>\n",
              "      <th>model</th>\n",
              "      <th>loss</th>\n",
              "      <th>accuracy</th>\n",
              "      <th>val_loss</th>\n",
              "      <th>val_accuracy</th>\n",
              "      <th>test_accuracy</th>\n",
              "      <th>test_loss</th>\n",
              "      <th>training time (sec)</th>\n",
              "      <th>testing time (sec)</th>\n",
              "    </tr>\n",
              "  </thead>\n",
              "  <tbody>\n",
              "    <tr>\n",
              "      <th>9</th>\n",
              "      <td>LSTM RNN with Drop</td>\n",
              "      <td>0.502862</td>\n",
              "      <td>0.841775</td>\n",
              "      <td>0.850915</td>\n",
              "      <td>0.740675</td>\n",
              "      <td>0.75108</td>\n",
              "      <td>0.887207</td>\n",
              "      <td>268.786401</td>\n",
              "      <td>2.041616</td>\n",
              "    </tr>\n",
              "  </tbody>\n",
              "</table>\n",
              "</div>"
            ],
            "text/plain": [
              "                model      loss  ...  training time (sec)  testing time (sec)\n",
              "9  LSTM RNN with Drop  0.502862  ...           268.786401            2.041616\n",
              "\n",
              "[1 rows x 9 columns]"
            ]
          },
          "metadata": {
            "tags": []
          },
          "execution_count": 264
        }
      ]
    },
    {
      "cell_type": "markdown",
      "metadata": {
        "id": "ak0e6BBsELWZ",
        "colab_type": "text"
      },
      "source": [
        "# 4. Experiment 4: CNN"
      ]
    },
    {
      "cell_type": "code",
      "metadata": {
        "id": "vOEsPmasELWZ",
        "colab_type": "code",
        "colab": {}
      },
      "source": [
        "keras.backend.clear_session()\n",
        "np.random.seed(42)\n",
        "tf.random.set_seed(42)"
      ],
      "execution_count": 265,
      "outputs": []
    },
    {
      "cell_type": "markdown",
      "metadata": {
        "id": "AL_0p1wEELWb",
        "colab_type": "text"
      },
      "source": [
        "## 4.1 1D CNN"
      ]
    },
    {
      "cell_type": "code",
      "metadata": {
        "id": "okwhVy0uELWb",
        "colab_type": "code",
        "colab": {
          "base_uri": "https://localhost:8080/",
          "height": 323
        },
        "outputId": "be6bbb99-e14b-4eeb-ba90-390e3419653e"
      },
      "source": [
        "model_4 = Sequential()\n",
        "model_4.add(Embedding(input_dim = voc_size, output_dim = 64, input_length=193))\n",
        "model_4.add(Conv1D(filters = 32, kernel_size = 3, activation='relu')) \n",
        "model_4.add(Flatten())\n",
        "model_4.add(Dense(units = 512, activation='relu')) \n",
        "# model_4.add(layers.Dropout(0.5)) \n",
        "model_4.add(Dense(units = 21, activation='softmax'))\n",
        "\n",
        "model_4.summary()"
      ],
      "execution_count": 266,
      "outputs": [
        {
          "output_type": "stream",
          "text": [
            "Model: \"sequential\"\n",
            "_________________________________________________________________\n",
            "Layer (type)                 Output Shape              Param #   \n",
            "=================================================================\n",
            "embedding (Embedding)        (None, 193, 64)           640000    \n",
            "_________________________________________________________________\n",
            "conv1d (Conv1D)              (None, 191, 32)           6176      \n",
            "_________________________________________________________________\n",
            "flatten (Flatten)            (None, 6112)              0         \n",
            "_________________________________________________________________\n",
            "dense (Dense)                (None, 512)               3129856   \n",
            "_________________________________________________________________\n",
            "dense_1 (Dense)              (None, 21)                10773     \n",
            "=================================================================\n",
            "Total params: 3,786,805\n",
            "Trainable params: 3,786,805\n",
            "Non-trainable params: 0\n",
            "_________________________________________________________________\n"
          ],
          "name": "stdout"
        }
      ]
    },
    {
      "cell_type": "code",
      "metadata": {
        "id": "JVYbU6kJELWc",
        "colab_type": "code",
        "colab": {}
      },
      "source": [
        "model_4.compile(optimizer='adam',\n",
        "              loss='categorical_crossentropy',\n",
        "              metrics=['accuracy'])"
      ],
      "execution_count": 267,
      "outputs": []
    },
    {
      "cell_type": "markdown",
      "metadata": {
        "id": "9S_To-SNELWd",
        "colab_type": "text"
      },
      "source": [
        "### 4.1.a Model Training"
      ]
    },
    {
      "cell_type": "code",
      "metadata": {
        "id": "T--hiS5fELWd",
        "colab_type": "code",
        "colab": {
          "base_uri": "https://localhost:8080/",
          "height": 377
        },
        "outputId": "143fb5d9-7ae8-4cd3-a5b0-96f4d019e734"
      },
      "source": [
        "train_rt = TrainRuntimeCallback()\n",
        "history = model_4.fit(train_data_sm_rnn, one_hot_train_labels_sm,\n",
        "                    callbacks = [train_rt],\n",
        "                    epochs=10,\n",
        "                    batch_size=100,\n",
        "                    validation_split=0.15)\n",
        "\n",
        "# Saving models locally after fitting\n",
        "# save_dir = \"results/\"\n",
        "# model_name = 'Reuters_4.h5'\n",
        "# model_path = os.path.join(save_dir, model_name)\n",
        "# model_4.save(model_path)\n",
        "# print('Saved trained model at %s ' % model_path)\n",
        "# print('--------------------------')"
      ],
      "execution_count": 268,
      "outputs": [
        {
          "output_type": "stream",
          "text": [
            "Epoch 1/10\n",
            "64/64 [==============================] - 6s 90ms/step - loss: 1.3611 - accuracy: 0.5594 - val_loss: 0.9962 - val_accuracy: 0.6892\n",
            "Epoch 2/10\n",
            "64/64 [==============================] - 6s 89ms/step - loss: 0.7253 - accuracy: 0.7823 - val_loss: 0.7144 - val_accuracy: 0.7931\n",
            "Epoch 3/10\n",
            "64/64 [==============================] - 6s 89ms/step - loss: 0.3560 - accuracy: 0.9070 - val_loss: 0.6605 - val_accuracy: 0.8277\n",
            "Epoch 4/10\n",
            "64/64 [==============================] - 6s 89ms/step - loss: 0.1913 - accuracy: 0.9564 - val_loss: 0.7141 - val_accuracy: 0.8295\n",
            "Epoch 5/10\n",
            "64/64 [==============================] - 6s 88ms/step - loss: 0.1382 - accuracy: 0.9638 - val_loss: 0.6882 - val_accuracy: 0.8419\n",
            "Epoch 6/10\n",
            "64/64 [==============================] - 6s 89ms/step - loss: 0.1190 - accuracy: 0.9666 - val_loss: 0.7280 - val_accuracy: 0.8304\n",
            "Epoch 7/10\n",
            "64/64 [==============================] - 6s 89ms/step - loss: 0.1079 - accuracy: 0.9680 - val_loss: 0.7719 - val_accuracy: 0.8268\n",
            "Epoch 8/10\n",
            "64/64 [==============================] - 6s 89ms/step - loss: 0.1001 - accuracy: 0.9669 - val_loss: 0.7297 - val_accuracy: 0.8375\n",
            "Epoch 9/10\n",
            "64/64 [==============================] - 6s 89ms/step - loss: 0.0992 - accuracy: 0.9682 - val_loss: 0.7472 - val_accuracy: 0.8286\n",
            "Epoch 10/10\n",
            "64/64 [==============================] - 6s 88ms/step - loss: 0.0910 - accuracy: 0.9672 - val_loss: 0.7745 - val_accuracy: 0.8206\n"
          ],
          "name": "stdout"
        }
      ]
    },
    {
      "cell_type": "code",
      "metadata": {
        "id": "_nASiag-ELWe",
        "colab_type": "code",
        "colab": {
          "base_uri": "https://localhost:8080/",
          "height": 34
        },
        "outputId": "c1107345-0be9-4db3-e0ac-8b4bfc47e268"
      },
      "source": [
        "# Get the training time\n",
        "train_time = train_rt.process_time\n",
        "train_time # in seconds"
      ],
      "execution_count": 269,
      "outputs": [
        {
          "output_type": "execute_result",
          "data": {
            "text/plain": [
              "58.347607"
            ]
          },
          "metadata": {
            "tags": []
          },
          "execution_count": 269
        }
      ]
    },
    {
      "cell_type": "code",
      "metadata": {
        "id": "pvpRV2yFELWf",
        "colab_type": "code",
        "colab": {
          "base_uri": "https://localhost:8080/",
          "height": 34
        },
        "outputId": "b4462ed0-2469-40a2-a4c1-1a0c64f77193"
      },
      "source": [
        "print(f\"train_acc: {history.history['accuracy'][-1]}, val_acc: {history.history['val_accuracy'][-1]}\")"
      ],
      "execution_count": 270,
      "outputs": [
        {
          "output_type": "stream",
          "text": [
            "train_acc: 0.967225968837738, val_acc: 0.8206039071083069\n"
          ],
          "name": "stdout"
        }
      ]
    },
    {
      "cell_type": "markdown",
      "metadata": {
        "id": "4NkmjWyiELWg",
        "colab_type": "text"
      },
      "source": [
        "### 4.1.b Model Testing"
      ]
    },
    {
      "cell_type": "code",
      "metadata": {
        "id": "UMa37bxbELWh",
        "colab_type": "code",
        "colab": {
          "base_uri": "https://localhost:8080/",
          "height": 34
        },
        "outputId": "8e343807-8f84-4321-b789-b38f63f9789f"
      },
      "source": [
        "test_rt = TestRuntimeCallback()\n",
        "test_loss, test_accuracy = model_4.evaluate(test_data_sm_rnn, one_hot_test_labels_sm, callbacks=[test_rt], verbose=0)\n",
        "print(f\"test_accuracy={test_accuracy}, test_loss={test_loss}\")"
      ],
      "execution_count": 271,
      "outputs": [
        {
          "output_type": "stream",
          "text": [
            "test_accuracy=0.8245140314102173, test_loss=0.783259391784668\n"
          ],
          "name": "stdout"
        }
      ]
    },
    {
      "cell_type": "code",
      "metadata": {
        "id": "zXUYCo2zELWj",
        "colab_type": "code",
        "colab": {
          "base_uri": "https://localhost:8080/",
          "height": 34
        },
        "outputId": "6d2f5de8-6a9c-4f65-817e-8de6a73263f5"
      },
      "source": [
        "# Get the test time\n",
        "test_time = test_rt.process_time\n",
        "test_time # in seconds"
      ],
      "execution_count": 272,
      "outputs": [
        {
          "output_type": "execute_result",
          "data": {
            "text/plain": [
              "0.553103"
            ]
          },
          "metadata": {
            "tags": []
          },
          "execution_count": 272
        }
      ]
    },
    {
      "cell_type": "markdown",
      "metadata": {
        "id": "1wDU3dECELWk",
        "colab_type": "text"
      },
      "source": [
        "### 4.1.c Model Performance"
      ]
    },
    {
      "cell_type": "code",
      "metadata": {
        "id": "HiLVMRgxELWk",
        "colab_type": "code",
        "colab": {
          "base_uri": "https://localhost:8080/",
          "height": 324
        },
        "outputId": "14109d54-98cd-40b3-fe90-f268010806b2"
      },
      "source": [
        "# Plot learning curves for model\n",
        "pd.DataFrame(history.history).plot(figsize=(8, 5))\n",
        "plt.grid(True)\n",
        "plt.gca().set_ylim(0, 1) # set the vertical range to [0-1]\n",
        "# plt.savefig(\"figures/learning_curves_model_4\", tight_layout=False)\n",
        "plt.show()"
      ],
      "execution_count": 273,
      "outputs": [
        {
          "output_type": "display_data",
          "data": {
            "image/png": "[encoded data removed]",
            "text/plain": [
              "<Figure size 576x360 with 1 Axes>"
            ]
          },
          "metadata": {
            "tags": [],
            "needs_background": "light"
          }
        }
      ]
    },
    {
      "cell_type": "code",
      "metadata": {
        "id": "PwunGa_tELWm",
        "colab_type": "code",
        "colab": {}
      },
      "source": [
        "history_dict = history.history.copy()\n",
        "# history_dict['train_accuracy'] = history_dict.pop('accuracy') # rename the the key to 'test_accuracy'\n",
        "history_df=pd.DataFrame(history_dict)"
      ],
      "execution_count": 274,
      "outputs": []
    },
    {
      "cell_type": "code",
      "metadata": {
        "id": "tkhqYchXELWn",
        "colab_type": "code",
        "colab": {
          "base_uri": "https://localhost:8080/",
          "height": 151
        },
        "outputId": "0fcd552a-e4fe-4a4a-f49c-6d86dab64744"
      },
      "source": [
        "results_df4 = history_df.iloc[-1:].copy()\n",
        "results_df4.insert(0,'model','1D CNN baseline') # want the model name to appear first\n",
        "results_df4['test_accuracy'] = test_accuracy\n",
        "results_df4['test_loss'] = test_loss\n",
        "results_df4['training time (sec)'] = train_time      \n",
        "results_df4['testing time (sec)'] = test_time      \n",
        "results_df4"
      ],
      "execution_count": 275,
      "outputs": [
        {
          "output_type": "execute_result",
          "data": {
            "text/html": [
              "<div>\n",
              "<style scoped>\n",
              "    .dataframe tbody tr th:only-of-type {\n",
              "        vertical-align: middle;\n",
              "    }\n",
              "\n",
              "    .dataframe tbody tr th {\n",
              "        vertical-align: top;\n",
              "    }\n",
              "\n",
              "    .dataframe thead th {\n",
              "        text-align: right;\n",
              "    }\n",
              "</style>\n",
              "<table border=\"1\" class=\"dataframe\">\n",
              "  <thead>\n",
              "    <tr style=\"text-align: right;\">\n",
              "      <th></th>\n",
              "      <th>model</th>\n",
              "      <th>loss</th>\n",
              "      <th>accuracy</th>\n",
              "      <th>val_loss</th>\n",
              "      <th>val_accuracy</th>\n",
              "      <th>test_accuracy</th>\n",
              "      <th>test_loss</th>\n",
              "      <th>training time (sec)</th>\n",
              "      <th>testing time (sec)</th>\n",
              "    </tr>\n",
              "  </thead>\n",
              "  <tbody>\n",
              "    <tr>\n",
              "      <th>9</th>\n",
              "      <td>1D CNN baseline</td>\n",
              "      <td>0.090988</td>\n",
              "      <td>0.967226</td>\n",
              "      <td>0.774481</td>\n",
              "      <td>0.820604</td>\n",
              "      <td>0.824514</td>\n",
              "      <td>0.783259</td>\n",
              "      <td>58.347607</td>\n",
              "      <td>0.553103</td>\n",
              "    </tr>\n",
              "  </tbody>\n",
              "</table>\n",
              "</div>"
            ],
            "text/plain": [
              "             model      loss  ...  training time (sec)  testing time (sec)\n",
              "9  1D CNN baseline  0.090988  ...            58.347607            0.553103\n",
              "\n",
              "[1 rows x 9 columns]"
            ]
          },
          "metadata": {
            "tags": []
          },
          "execution_count": 275
        }
      ]
    },
    {
      "cell_type": "markdown",
      "metadata": {
        "id": "E4YNGdpRELWp",
        "colab_type": "text"
      },
      "source": [
        "## 4.2 1D CNN w/50% dropout"
      ]
    },
    {
      "cell_type": "code",
      "metadata": {
        "id": "7qoMvE6TELWp",
        "colab_type": "code",
        "colab": {
          "base_uri": "https://localhost:8080/",
          "height": 357
        },
        "outputId": "164f89cf-2099-4ece-e8b8-bc0f2aa46df2"
      },
      "source": [
        "model_4a = Sequential()\n",
        "model_4a.add(Embedding(input_dim = voc_size, output_dim = 64, input_length=193))\n",
        "model_4a.add(Conv1D(filters = 32, kernel_size = 3, activation='relu')) \n",
        "model_4a.add(Flatten())\n",
        "model_4a.add(Dense(units = 512, activation='relu')) \n",
        "model_4a.add(layers.Dropout(0.5)) \n",
        "model_4a.add(Dense(units = 21, activation='softmax'))\n",
        "\n",
        "model_4a.summary()"
      ],
      "execution_count": 276,
      "outputs": [
        {
          "output_type": "stream",
          "text": [
            "Model: \"sequential_1\"\n",
            "_________________________________________________________________\n",
            "Layer (type)                 Output Shape              Param #   \n",
            "=================================================================\n",
            "embedding_1 (Embedding)      (None, 193, 64)           640000    \n",
            "_________________________________________________________________\n",
            "conv1d_1 (Conv1D)            (None, 191, 32)           6176      \n",
            "_________________________________________________________________\n",
            "flatten_1 (Flatten)          (None, 6112)              0         \n",
            "_________________________________________________________________\n",
            "dense_2 (Dense)              (None, 512)               3129856   \n",
            "_________________________________________________________________\n",
            "dropout (Dropout)            (None, 512)               0         \n",
            "_________________________________________________________________\n",
            "dense_3 (Dense)              (None, 21)                10773     \n",
            "=================================================================\n",
            "Total params: 3,786,805\n",
            "Trainable params: 3,786,805\n",
            "Non-trainable params: 0\n",
            "_________________________________________________________________\n"
          ],
          "name": "stdout"
        }
      ]
    },
    {
      "cell_type": "code",
      "metadata": {
        "id": "zZIn-askELWr",
        "colab_type": "code",
        "colab": {}
      },
      "source": [
        "model_4a.compile(optimizer='adam',\n",
        "              loss='categorical_crossentropy',\n",
        "              metrics=['accuracy'])"
      ],
      "execution_count": 277,
      "outputs": []
    },
    {
      "cell_type": "markdown",
      "metadata": {
        "id": "ZFKmVb78ELWr",
        "colab_type": "text"
      },
      "source": [
        "### 4.2.a Model Training"
      ]
    },
    {
      "cell_type": "code",
      "metadata": {
        "id": "hMCTmkNzELWs",
        "colab_type": "code",
        "colab": {
          "base_uri": "https://localhost:8080/",
          "height": 377
        },
        "outputId": "8cf20905-bf31-4222-8853-e4dcb76b1020"
      },
      "source": [
        "train_rt = TrainRuntimeCallback()\n",
        "history = model_4a.fit(train_data_sm_rnn, one_hot_train_labels_sm,\n",
        "                    callbacks = [train_rt],\n",
        "                    epochs=10,\n",
        "                    batch_size=100,\n",
        "                    validation_split=0.15)\n",
        "\n",
        "# Saving models locally after fitting\n",
        "# save_dir = \"results/\"\n",
        "# model_name = 'Reuters_4a.h5'\n",
        "# model_path = os.path.join(save_dir, model_name)\n",
        "# model_4a.save(model_path)\n",
        "# print('Saved trained model at %s ' % model_path)\n",
        "# print('--------------------------')"
      ],
      "execution_count": 278,
      "outputs": [
        {
          "output_type": "stream",
          "text": [
            "Epoch 1/10\n",
            "64/64 [==============================] - 6s 93ms/step - loss: 1.4214 - accuracy: 0.5418 - val_loss: 1.0400 - val_accuracy: 0.6314\n",
            "Epoch 2/10\n",
            "64/64 [==============================] - 6s 90ms/step - loss: 0.8435 - accuracy: 0.7265 - val_loss: 0.8023 - val_accuracy: 0.7575\n",
            "Epoch 3/10\n",
            "64/64 [==============================] - 6s 90ms/step - loss: 0.5055 - accuracy: 0.8584 - val_loss: 0.6247 - val_accuracy: 0.8295\n",
            "Epoch 4/10\n",
            "64/64 [==============================] - 6s 90ms/step - loss: 0.2859 - accuracy: 0.9271 - val_loss: 0.6321 - val_accuracy: 0.8472\n",
            "Epoch 5/10\n",
            "64/64 [==============================] - 6s 91ms/step - loss: 0.1825 - accuracy: 0.9537 - val_loss: 0.6687 - val_accuracy: 0.8401\n",
            "Epoch 6/10\n",
            "64/64 [==============================] - 6s 91ms/step - loss: 0.1490 - accuracy: 0.9622 - val_loss: 0.7077 - val_accuracy: 0.8410\n",
            "Epoch 7/10\n",
            "64/64 [==============================] - 6s 91ms/step - loss: 0.1133 - accuracy: 0.9666 - val_loss: 0.7660 - val_accuracy: 0.8393\n",
            "Epoch 8/10\n",
            "64/64 [==============================] - 6s 90ms/step - loss: 0.1036 - accuracy: 0.9686 - val_loss: 0.7629 - val_accuracy: 0.8410\n",
            "Epoch 9/10\n",
            "64/64 [==============================] - 6s 90ms/step - loss: 0.0999 - accuracy: 0.9675 - val_loss: 0.7652 - val_accuracy: 0.8277\n",
            "Epoch 10/10\n",
            "64/64 [==============================] - 6s 89ms/step - loss: 0.0877 - accuracy: 0.9693 - val_loss: 0.7612 - val_accuracy: 0.8375\n"
          ],
          "name": "stdout"
        }
      ]
    },
    {
      "cell_type": "code",
      "metadata": {
        "id": "z8vsbeoMELWt",
        "colab_type": "code",
        "colab": {
          "base_uri": "https://localhost:8080/",
          "height": 34
        },
        "outputId": "40da6cbe-d552-439d-d943-0552a4b199cd"
      },
      "source": [
        "# Get the training time\n",
        "train_time = train_rt.process_time\n",
        "train_time # in seconds"
      ],
      "execution_count": 279,
      "outputs": [
        {
          "output_type": "execute_result",
          "data": {
            "text/plain": [
              "59.383079"
            ]
          },
          "metadata": {
            "tags": []
          },
          "execution_count": 279
        }
      ]
    },
    {
      "cell_type": "code",
      "metadata": {
        "id": "crziiskeELWu",
        "colab_type": "code",
        "colab": {
          "base_uri": "https://localhost:8080/",
          "height": 34
        },
        "outputId": "de5f6980-f075-451f-ccd7-ac06f716c123"
      },
      "source": [
        "print(f\"train_acc: {history.history['accuracy'][-1]}, val_acc: {history.history['val_accuracy'][-1]}\")"
      ],
      "execution_count": 280,
      "outputs": [
        {
          "output_type": "stream",
          "text": [
            "train_acc: 0.969264566898346, val_acc: 0.8374778032302856\n"
          ],
          "name": "stdout"
        }
      ]
    },
    {
      "cell_type": "markdown",
      "metadata": {
        "id": "5nmyOk8tELWw",
        "colab_type": "text"
      },
      "source": [
        "### 4.2.b Model Testing"
      ]
    },
    {
      "cell_type": "code",
      "metadata": {
        "id": "S5mVc6CRELWw",
        "colab_type": "code",
        "colab": {
          "base_uri": "https://localhost:8080/",
          "height": 34
        },
        "outputId": "9cd12060-a867-48e4-af62-02f53ef67c53"
      },
      "source": [
        "test_rt = TestRuntimeCallback()\n",
        "test_loss, test_accuracy = model_4a.evaluate(test_data_sm_rnn, one_hot_test_labels_sm, callbacks=[test_rt], verbose=0)\n",
        "print(f\"test_accuracy={test_accuracy}, test_loss={test_loss}\")"
      ],
      "execution_count": 281,
      "outputs": [
        {
          "output_type": "stream",
          "text": [
            "test_accuracy=0.8353132009506226, test_loss=0.8075375556945801\n"
          ],
          "name": "stdout"
        }
      ]
    },
    {
      "cell_type": "code",
      "metadata": {
        "id": "FyLOKgrdELWy",
        "colab_type": "code",
        "colab": {
          "base_uri": "https://localhost:8080/",
          "height": 34
        },
        "outputId": "7b6f4638-c23d-4558-ce46-6adb09a8cb01"
      },
      "source": [
        "# Get the test time\n",
        "test_time = test_rt.process_time\n",
        "test_time # in seconds"
      ],
      "execution_count": 282,
      "outputs": [
        {
          "output_type": "execute_result",
          "data": {
            "text/plain": [
              "0.538955"
            ]
          },
          "metadata": {
            "tags": []
          },
          "execution_count": 282
        }
      ]
    },
    {
      "cell_type": "markdown",
      "metadata": {
        "id": "k9nviTaZELWz",
        "colab_type": "text"
      },
      "source": [
        "### 4.2.c Model Performance"
      ]
    },
    {
      "cell_type": "code",
      "metadata": {
        "id": "aT0YcOARELW0",
        "colab_type": "code",
        "colab": {
          "base_uri": "https://localhost:8080/",
          "height": 324
        },
        "outputId": "bf2f4977-c9b7-4de1-f25b-566c9f05e99a"
      },
      "source": [
        "# Plot learning curves for model\n",
        "pd.DataFrame(history.history).plot(figsize=(8, 5))\n",
        "plt.grid(True)\n",
        "plt.gca().set_ylim(0, 1) # set the vertical range to [0-1]\n",
        "# plt.savefig(\"figures/learning_curves_model_4a\", tight_layout=False)\n",
        "plt.show()"
      ],
      "execution_count": 283,
      "outputs": [
        {
          "output_type": "display_data",
          "data": {
            "image/png": "[encoded data removed]",
            "text/plain": [
              "<Figure size 576x360 with 1 Axes>"
            ]
          },
          "metadata": {
            "tags": [],
            "needs_background": "light"
          }
        }
      ]
    },
    {
      "cell_type": "code",
      "metadata": {
        "id": "tvDtOWBPELW1",
        "colab_type": "code",
        "colab": {}
      },
      "source": [
        "history_dict = history.history.copy()\n",
        "# history_dict['train_accuracy'] = history_dict.pop('accuracy') # rename the the key to 'test_accuracy'\n",
        "history_df=pd.DataFrame(history_dict)"
      ],
      "execution_count": 284,
      "outputs": []
    },
    {
      "cell_type": "code",
      "metadata": {
        "id": "KS7fG9s9ELW3",
        "colab_type": "code",
        "colab": {
          "base_uri": "https://localhost:8080/",
          "height": 185
        },
        "outputId": "52e5a477-adcf-4381-90cd-9a2ff7e8a3c8"
      },
      "source": [
        "results_df4a = history_df.iloc[-1:].copy()\n",
        "results_df4a.insert(0,'model','1D CNN baseline with Drop') # want the model name to appear first\n",
        "results_df4a['test_accuracy'] = test_accuracy\n",
        "results_df4a['test_loss'] = test_loss\n",
        "results_df4a['training time (sec)'] = train_time      \n",
        "results_df4a['testing time (sec)'] = test_time      \n",
        "results_df4a"
      ],
      "execution_count": 285,
      "outputs": [
        {
          "output_type": "execute_result",
          "data": {
            "text/html": [
              "<div>\n",
              "<style scoped>\n",
              "    .dataframe tbody tr th:only-of-type {\n",
              "        vertical-align: middle;\n",
              "    }\n",
              "\n",
              "    .dataframe tbody tr th {\n",
              "        vertical-align: top;\n",
              "    }\n",
              "\n",
              "    .dataframe thead th {\n",
              "        text-align: right;\n",
              "    }\n",
              "</style>\n",
              "<table border=\"1\" class=\"dataframe\">\n",
              "  <thead>\n",
              "    <tr style=\"text-align: right;\">\n",
              "      <th></th>\n",
              "      <th>model</th>\n",
              "      <th>loss</th>\n",
              "      <th>accuracy</th>\n",
              "      <th>val_loss</th>\n",
              "      <th>val_accuracy</th>\n",
              "      <th>test_accuracy</th>\n",
              "      <th>test_loss</th>\n",
              "      <th>training time (sec)</th>\n",
              "      <th>testing time (sec)</th>\n",
              "    </tr>\n",
              "  </thead>\n",
              "  <tbody>\n",
              "    <tr>\n",
              "      <th>9</th>\n",
              "      <td>1D CNN baseline with Drop</td>\n",
              "      <td>0.087704</td>\n",
              "      <td>0.969265</td>\n",
              "      <td>0.761162</td>\n",
              "      <td>0.837478</td>\n",
              "      <td>0.835313</td>\n",
              "      <td>0.807538</td>\n",
              "      <td>59.383079</td>\n",
              "      <td>0.538955</td>\n",
              "    </tr>\n",
              "  </tbody>\n",
              "</table>\n",
              "</div>"
            ],
            "text/plain": [
              "                       model      loss  ...  training time (sec)  testing time (sec)\n",
              "9  1D CNN baseline with Drop  0.087704  ...            59.383079            0.538955\n",
              "\n",
              "[1 rows x 9 columns]"
            ]
          },
          "metadata": {
            "tags": []
          },
          "execution_count": 285
        }
      ]
    },
    {
      "cell_type": "markdown",
      "metadata": {
        "id": "u1zUn5AgELW5",
        "colab_type": "text"
      },
      "source": [
        "## 4.3 1D CNN w/50% dropout and max pooling"
      ]
    },
    {
      "cell_type": "code",
      "metadata": {
        "id": "bMdnDsQwELW5",
        "colab_type": "code",
        "colab": {
          "base_uri": "https://localhost:8080/",
          "height": 391
        },
        "outputId": "54bbd018-9003-43c5-a6e2-e4914479baf3"
      },
      "source": [
        "model_4b = Sequential()\n",
        "model_4b.add(Embedding(input_dim = voc_size, output_dim = 64, input_length=193))\n",
        "model_4b.add(Conv1D(filters = 32, kernel_size = 3, activation='relu')) \n",
        "model_4b.add(MaxPooling1D())\n",
        "model_4b.add(layers.Dropout(0.5))\n",
        "model_4b.add(Flatten())\n",
        "model_4b.add(Dense(units = 512, activation='relu')) \n",
        "model_4b.add(Dense(units = 21, activation='softmax'))\n",
        "\n",
        "model_4b.summary()"
      ],
      "execution_count": 286,
      "outputs": [
        {
          "output_type": "stream",
          "text": [
            "Model: \"sequential_2\"\n",
            "_________________________________________________________________\n",
            "Layer (type)                 Output Shape              Param #   \n",
            "=================================================================\n",
            "embedding_2 (Embedding)      (None, 193, 64)           640000    \n",
            "_________________________________________________________________\n",
            "conv1d_2 (Conv1D)            (None, 191, 32)           6176      \n",
            "_________________________________________________________________\n",
            "max_pooling1d (MaxPooling1D) (None, 95, 32)            0         \n",
            "_________________________________________________________________\n",
            "dropout_1 (Dropout)          (None, 95, 32)            0         \n",
            "_________________________________________________________________\n",
            "flatten_2 (Flatten)          (None, 3040)              0         \n",
            "_________________________________________________________________\n",
            "dense_4 (Dense)              (None, 512)               1556992   \n",
            "_________________________________________________________________\n",
            "dense_5 (Dense)              (None, 21)                10773     \n",
            "=================================================================\n",
            "Total params: 2,213,941\n",
            "Trainable params: 2,213,941\n",
            "Non-trainable params: 0\n",
            "_________________________________________________________________\n"
          ],
          "name": "stdout"
        }
      ]
    },
    {
      "cell_type": "code",
      "metadata": {
        "id": "LxY2hfdUELW6",
        "colab_type": "code",
        "colab": {}
      },
      "source": [
        "model_4b.compile(optimizer='adam',\n",
        "              loss='categorical_crossentropy',\n",
        "              metrics=['accuracy'])"
      ],
      "execution_count": 287,
      "outputs": []
    },
    {
      "cell_type": "markdown",
      "metadata": {
        "id": "SCnp3aN6ELW7",
        "colab_type": "text"
      },
      "source": [
        "### 4.3.a Model Training"
      ]
    },
    {
      "cell_type": "code",
      "metadata": {
        "id": "dSsYjsZjELW8",
        "colab_type": "code",
        "colab": {
          "base_uri": "https://localhost:8080/",
          "height": 377
        },
        "outputId": "84e06c00-1106-4a3c-b48a-14574a8eadd2"
      },
      "source": [
        "train_rt = TrainRuntimeCallback()\n",
        "history = model_4b.fit(train_data_sm_rnn, one_hot_train_labels_sm,\n",
        "                    callbacks = [train_rt],\n",
        "                    epochs=10,\n",
        "                    batch_size=100,\n",
        "                    validation_split=0.15)\n",
        "\n",
        "# Saving models locally after fitting\n",
        "# save_dir = \"results/\"\n",
        "# model_name = 'Reuters_4b.h5'\n",
        "# model_path = os.path.join(save_dir, model_name)\n",
        "# model_4b.save(model_path)\n",
        "# print('Saved trained model at %s ' % model_path)\n",
        "# print('--------------------------')"
      ],
      "execution_count": 288,
      "outputs": [
        {
          "output_type": "stream",
          "text": [
            "Epoch 1/10\n",
            "64/64 [==============================] - 5s 82ms/step - loss: 1.4466 - accuracy: 0.5329 - val_loss: 1.1112 - val_accuracy: 0.6288\n",
            "Epoch 2/10\n",
            "64/64 [==============================] - 5s 79ms/step - loss: 0.8994 - accuracy: 0.7069 - val_loss: 0.8430 - val_accuracy: 0.7371\n",
            "Epoch 3/10\n",
            "64/64 [==============================] - 5s 79ms/step - loss: 0.5707 - accuracy: 0.8352 - val_loss: 0.6537 - val_accuracy: 0.8171\n",
            "Epoch 4/10\n",
            "64/64 [==============================] - 5s 80ms/step - loss: 0.3330 - accuracy: 0.9106 - val_loss: 0.6547 - val_accuracy: 0.8313\n",
            "Epoch 5/10\n",
            "64/64 [==============================] - 5s 80ms/step - loss: 0.2252 - accuracy: 0.9434 - val_loss: 0.6642 - val_accuracy: 0.8401\n",
            "Epoch 6/10\n",
            "64/64 [==============================] - 5s 81ms/step - loss: 0.1661 - accuracy: 0.9566 - val_loss: 0.7326 - val_accuracy: 0.8384\n",
            "Epoch 7/10\n",
            "64/64 [==============================] - 5s 85ms/step - loss: 0.1486 - accuracy: 0.9603 - val_loss: 0.7379 - val_accuracy: 0.8410\n",
            "Epoch 8/10\n",
            "64/64 [==============================] - 5s 80ms/step - loss: 0.1330 - accuracy: 0.9622 - val_loss: 0.7623 - val_accuracy: 0.8357\n",
            "Epoch 9/10\n",
            "64/64 [==============================] - 5s 80ms/step - loss: 0.1202 - accuracy: 0.9642 - val_loss: 0.7889 - val_accuracy: 0.8393\n",
            "Epoch 10/10\n",
            "64/64 [==============================] - 5s 79ms/step - loss: 0.1136 - accuracy: 0.9664 - val_loss: 0.7973 - val_accuracy: 0.8330\n"
          ],
          "name": "stdout"
        }
      ]
    },
    {
      "cell_type": "code",
      "metadata": {
        "id": "QuIW-pqdELW9",
        "colab_type": "code",
        "colab": {
          "base_uri": "https://localhost:8080/",
          "height": 34
        },
        "outputId": "19a121d8-cf8e-473b-c0ad-524b45889732"
      },
      "source": [
        "# Get the training time\n",
        "train_time = train_rt.process_time\n",
        "train_time # in seconds"
      ],
      "execution_count": 289,
      "outputs": [
        {
          "output_type": "execute_result",
          "data": {
            "text/plain": [
              "53.300984"
            ]
          },
          "metadata": {
            "tags": []
          },
          "execution_count": 289
        }
      ]
    },
    {
      "cell_type": "code",
      "metadata": {
        "id": "j1nhugrXELW-",
        "colab_type": "code",
        "colab": {
          "base_uri": "https://localhost:8080/",
          "height": 34
        },
        "outputId": "e2ad802d-ab96-43e5-91b2-166413ca03dd"
      },
      "source": [
        "print(f\"train_acc: {history.history['accuracy'][-1]}, val_acc: {history.history['val_accuracy'][-1]}\")"
      ],
      "execution_count": 290,
      "outputs": [
        {
          "output_type": "stream",
          "text": [
            "train_acc: 0.9664419293403625, val_acc: 0.8330373167991638\n"
          ],
          "name": "stdout"
        }
      ]
    },
    {
      "cell_type": "markdown",
      "metadata": {
        "id": "yoZuaUYgELW_",
        "colab_type": "text"
      },
      "source": [
        "### 4.3.b Model Testing"
      ]
    },
    {
      "cell_type": "code",
      "metadata": {
        "id": "QJF0nRp1ELW_",
        "colab_type": "code",
        "colab": {
          "base_uri": "https://localhost:8080/",
          "height": 34
        },
        "outputId": "598549c9-3eef-4915-8b2a-882bce48e598"
      },
      "source": [
        "test_rt = TestRuntimeCallback()\n",
        "test_loss, test_accuracy = model_4b.evaluate(test_data_sm_rnn, one_hot_test_labels_sm, callbacks=[test_rt], verbose=0)\n",
        "print(f\"test_accuracy={test_accuracy}, test_loss={test_loss}\")"
      ],
      "execution_count": 291,
      "outputs": [
        {
          "output_type": "stream",
          "text": [
            "test_accuracy=0.8347732424736023, test_loss=0.783611536026001\n"
          ],
          "name": "stdout"
        }
      ]
    },
    {
      "cell_type": "code",
      "metadata": {
        "id": "dZx8epjRELXA",
        "colab_type": "code",
        "colab": {
          "base_uri": "https://localhost:8080/",
          "height": 34
        },
        "outputId": "08a0b796-dea5-4ec2-f7aa-b1b2f69e44e5"
      },
      "source": [
        "# Get the test time\n",
        "test_time = test_rt.process_time\n",
        "test_time # in seconds"
      ],
      "execution_count": 292,
      "outputs": [
        {
          "output_type": "execute_result",
          "data": {
            "text/plain": [
              "0.395239"
            ]
          },
          "metadata": {
            "tags": []
          },
          "execution_count": 292
        }
      ]
    },
    {
      "cell_type": "markdown",
      "metadata": {
        "id": "pZmJo_5rELXB",
        "colab_type": "text"
      },
      "source": [
        "### 4.3.c Model Performance"
      ]
    },
    {
      "cell_type": "code",
      "metadata": {
        "id": "Q6e9QvLpELXB",
        "colab_type": "code",
        "colab": {
          "base_uri": "https://localhost:8080/",
          "height": 324
        },
        "outputId": "274a9b39-e67b-4959-be63-4199caa1cd7c"
      },
      "source": [
        "# Plot learning curves for model\n",
        "pd.DataFrame(history.history).plot(figsize=(8, 5))\n",
        "plt.grid(True)\n",
        "plt.gca().set_ylim(0, 1) # set the vertical range to [0-1]\n",
        "# plt.savefig(\"figures/learning_curves_model_4b\", tight_layout=False)\n",
        "plt.show()"
      ],
      "execution_count": 293,
      "outputs": [
        {
          "output_type": "display_data",
          "data": {
            "image/png": "[encoded data removed]",
            "text/plain": [
              "<Figure size 576x360 with 1 Axes>"
            ]
          },
          "metadata": {
            "tags": [],
            "needs_background": "light"
          }
        }
      ]
    },
    {
      "cell_type": "code",
      "metadata": {
        "id": "1ZGSvTi9ELXC",
        "colab_type": "code",
        "colab": {}
      },
      "source": [
        "history_dict = history.history.copy()\n",
        "# history_dict['train_accuracy'] = history_dict.pop('accuracy') # rename the the key to 'test_accuracy'\n",
        "history_df=pd.DataFrame(history_dict)"
      ],
      "execution_count": 294,
      "outputs": []
    },
    {
      "cell_type": "code",
      "metadata": {
        "id": "VgdPvbIhELXD",
        "colab_type": "code",
        "colab": {
          "base_uri": "https://localhost:8080/",
          "height": 236
        },
        "outputId": "3183bd75-7c40-4211-c983-33c146c0ec9a"
      },
      "source": [
        "results_df4b = history_df.iloc[-1:].copy()\n",
        "results_df4b.insert(0,'model','1D CNN with Drop and max pooling') # want the model name to appear first\n",
        "results_df4b['test_accuracy'] = test_accuracy\n",
        "results_df4b['test_loss'] = test_loss\n",
        "results_df4b['training time (sec)'] = train_time      # we are okay with training time appearing last\n",
        "results_df4b['testing time (sec)'] = test_time      # we are okay with training time appearing last\n",
        "results_df4b"
      ],
      "execution_count": 295,
      "outputs": [
        {
          "output_type": "execute_result",
          "data": {
            "text/html": [
              "<div>\n",
              "<style scoped>\n",
              "    .dataframe tbody tr th:only-of-type {\n",
              "        vertical-align: middle;\n",
              "    }\n",
              "\n",
              "    .dataframe tbody tr th {\n",
              "        vertical-align: top;\n",
              "    }\n",
              "\n",
              "    .dataframe thead th {\n",
              "        text-align: right;\n",
              "    }\n",
              "</style>\n",
              "<table border=\"1\" class=\"dataframe\">\n",
              "  <thead>\n",
              "    <tr style=\"text-align: right;\">\n",
              "      <th></th>\n",
              "      <th>model</th>\n",
              "      <th>loss</th>\n",
              "      <th>accuracy</th>\n",
              "      <th>val_loss</th>\n",
              "      <th>val_accuracy</th>\n",
              "      <th>test_accuracy</th>\n",
              "      <th>test_loss</th>\n",
              "      <th>training time (sec)</th>\n",
              "      <th>testing time (sec)</th>\n",
              "    </tr>\n",
              "  </thead>\n",
              "  <tbody>\n",
              "    <tr>\n",
              "      <th>9</th>\n",
              "      <td>1D CNN with Drop and max pooling</td>\n",
              "      <td>0.113593</td>\n",
              "      <td>0.966442</td>\n",
              "      <td>0.797259</td>\n",
              "      <td>0.833037</td>\n",
              "      <td>0.834773</td>\n",
              "      <td>0.783612</td>\n",
              "      <td>53.300984</td>\n",
              "      <td>0.395239</td>\n",
              "    </tr>\n",
              "  </tbody>\n",
              "</table>\n",
              "</div>"
            ],
            "text/plain": [
              "                              model  ...  testing time (sec)\n",
              "9  1D CNN with Drop and max pooling  ...            0.395239\n",
              "\n",
              "[1 rows x 9 columns]"
            ]
          },
          "metadata": {
            "tags": []
          },
          "execution_count": 295
        }
      ]
    },
    {
      "cell_type": "markdown",
      "metadata": {
        "id": "m1uLte-LELXH",
        "colab_type": "text"
      },
      "source": [
        "## 5. Summary of Experiment Results\n"
      ]
    },
    {
      "cell_type": "code",
      "metadata": {
        "id": "2RBsxvpnELXH",
        "colab_type": "code",
        "colab": {
          "base_uri": "https://localhost:8080/",
          "height": 349
        },
        "outputId": "e10deb8a-1e4d-4574-b6bb-2eff42e8601e"
      },
      "source": [
        "results_df4=results_df4.append(results_df4a,ignore_index=True)\n",
        "results_df4=results_df4.append(results_df4b,ignore_index=True)\n",
        "results_df4"
      ],
      "execution_count": 296,
      "outputs": [
        {
          "output_type": "execute_result",
          "data": {
            "text/html": [
              "<div>\n",
              "<style scoped>\n",
              "    .dataframe tbody tr th:only-of-type {\n",
              "        vertical-align: middle;\n",
              "    }\n",
              "\n",
              "    .dataframe tbody tr th {\n",
              "        vertical-align: top;\n",
              "    }\n",
              "\n",
              "    .dataframe thead th {\n",
              "        text-align: right;\n",
              "    }\n",
              "</style>\n",
              "<table border=\"1\" class=\"dataframe\">\n",
              "  <thead>\n",
              "    <tr style=\"text-align: right;\">\n",
              "      <th></th>\n",
              "      <th>model</th>\n",
              "      <th>loss</th>\n",
              "      <th>accuracy</th>\n",
              "      <th>val_loss</th>\n",
              "      <th>val_accuracy</th>\n",
              "      <th>test_accuracy</th>\n",
              "      <th>test_loss</th>\n",
              "      <th>training time (sec)</th>\n",
              "      <th>testing time (sec)</th>\n",
              "    </tr>\n",
              "  </thead>\n",
              "  <tbody>\n",
              "    <tr>\n",
              "      <th>0</th>\n",
              "      <td>1D CNN baseline</td>\n",
              "      <td>0.090988</td>\n",
              "      <td>0.967226</td>\n",
              "      <td>0.774481</td>\n",
              "      <td>0.820604</td>\n",
              "      <td>0.824514</td>\n",
              "      <td>0.783259</td>\n",
              "      <td>58.347607</td>\n",
              "      <td>0.553103</td>\n",
              "    </tr>\n",
              "    <tr>\n",
              "      <th>1</th>\n",
              "      <td>1D CNN baseline with Drop</td>\n",
              "      <td>0.087704</td>\n",
              "      <td>0.969265</td>\n",
              "      <td>0.761162</td>\n",
              "      <td>0.837478</td>\n",
              "      <td>0.835313</td>\n",
              "      <td>0.807538</td>\n",
              "      <td>59.383079</td>\n",
              "      <td>0.538955</td>\n",
              "    </tr>\n",
              "    <tr>\n",
              "      <th>2</th>\n",
              "      <td>1D CNN with Drop and max pooling</td>\n",
              "      <td>0.113593</td>\n",
              "      <td>0.966442</td>\n",
              "      <td>0.797259</td>\n",
              "      <td>0.833037</td>\n",
              "      <td>0.834773</td>\n",
              "      <td>0.783612</td>\n",
              "      <td>53.300984</td>\n",
              "      <td>0.395239</td>\n",
              "    </tr>\n",
              "  </tbody>\n",
              "</table>\n",
              "</div>"
            ],
            "text/plain": [
              "                              model  ...  testing time (sec)\n",
              "0                   1D CNN baseline  ...            0.553103\n",
              "1         1D CNN baseline with Drop  ...            0.538955\n",
              "2  1D CNN with Drop and max pooling  ...            0.395239\n",
              "\n",
              "[3 rows x 9 columns]"
            ]
          },
          "metadata": {
            "tags": []
          },
          "execution_count": 296
        }
      ]
    },
    {
      "cell_type": "code",
      "metadata": {
        "id": "4GEHxaHJELXI",
        "colab_type": "code",
        "colab": {}
      },
      "source": [
        "results_df4.to_pickle(\"results4.pkl\") "
      ],
      "execution_count": 297,
      "outputs": []
    },
    {
      "cell_type": "code",
      "metadata": {
        "id": "4hJOFLKLELXJ",
        "colab_type": "code",
        "colab": {
          "base_uri": "https://localhost:8080/",
          "height": 999
        },
        "outputId": "874f8be6-5427-4d32-da0d-52a19c7f3bc6"
      },
      "source": [
        "frames = [results_df, results_df2, results_df3, results_df4]\n",
        "\n",
        "df_final = pd.concat(frames, keys=['Exp 1','Exp 2','Exp 3', 'Exp 4'])\n",
        "\n",
        "df_final"
      ],
      "execution_count": 298,
      "outputs": [
        {
          "output_type": "execute_result",
          "data": {
            "text/html": [
              "<div>\n",
              "<style scoped>\n",
              "    .dataframe tbody tr th:only-of-type {\n",
              "        vertical-align: middle;\n",
              "    }\n",
              "\n",
              "    .dataframe tbody tr th {\n",
              "        vertical-align: top;\n",
              "    }\n",
              "\n",
              "    .dataframe thead th {\n",
              "        text-align: right;\n",
              "    }\n",
              "</style>\n",
              "<table border=\"1\" class=\"dataframe\">\n",
              "  <thead>\n",
              "    <tr style=\"text-align: right;\">\n",
              "      <th></th>\n",
              "      <th></th>\n",
              "      <th>model</th>\n",
              "      <th>loss</th>\n",
              "      <th>accuracy</th>\n",
              "      <th>val_loss</th>\n",
              "      <th>val_accuracy</th>\n",
              "      <th>test_accuracy</th>\n",
              "      <th>test_loss</th>\n",
              "      <th>training time (sec)</th>\n",
              "      <th>testing time (sec)</th>\n",
              "    </tr>\n",
              "  </thead>\n",
              "  <tbody>\n",
              "    <tr>\n",
              "      <th rowspan=\"6\" valign=\"top\">Exp 1</th>\n",
              "      <th>0</th>\n",
              "      <td>DNN (2 layers) 9 topics</td>\n",
              "      <td>0.098419</td>\n",
              "      <td>0.965971</td>\n",
              "      <td>0.654334</td>\n",
              "      <td>0.865897</td>\n",
              "      <td>0.857991</td>\n",
              "      <td>0.680301</td>\n",
              "      <td>8.366051</td>\n",
              "      <td>0.130511</td>\n",
              "    </tr>\n",
              "    <tr>\n",
              "      <th>1</th>\n",
              "      <td>DNN (2 layers 256/256)</td>\n",
              "      <td>0.069291</td>\n",
              "      <td>0.967069</td>\n",
              "      <td>0.708131</td>\n",
              "      <td>0.861456</td>\n",
              "      <td>0.855292</td>\n",
              "      <td>0.749545</td>\n",
              "      <td>22.454012</td>\n",
              "      <td>0.346137</td>\n",
              "    </tr>\n",
              "    <tr>\n",
              "      <th>2</th>\n",
              "      <td>DNN (2 layers) w Drop</td>\n",
              "      <td>0.097031</td>\n",
              "      <td>0.967853</td>\n",
              "      <td>0.685843</td>\n",
              "      <td>0.864121</td>\n",
              "      <td>0.853672</td>\n",
              "      <td>0.693441</td>\n",
              "      <td>8.779403</td>\n",
              "      <td>0.148081</td>\n",
              "    </tr>\n",
              "    <tr>\n",
              "      <th>3</th>\n",
              "      <td>DNN (2 layers) w Drop and L1</td>\n",
              "      <td>1.025516</td>\n",
              "      <td>0.877058</td>\n",
              "      <td>1.078874</td>\n",
              "      <td>0.868561</td>\n",
              "      <td>0.862851</td>\n",
              "      <td>1.097511</td>\n",
              "      <td>11.099286</td>\n",
              "      <td>0.205867</td>\n",
              "    </tr>\n",
              "    <tr>\n",
              "      <th>4</th>\n",
              "      <td>DNN (2 layers) w Embed</td>\n",
              "      <td>0.075075</td>\n",
              "      <td>0.969265</td>\n",
              "      <td>0.868562</td>\n",
              "      <td>0.798401</td>\n",
              "      <td>0.789957</td>\n",
              "      <td>0.882232</td>\n",
              "      <td>36.517626</td>\n",
              "      <td>0.253090</td>\n",
              "    </tr>\n",
              "    <tr>\n",
              "      <th>5</th>\n",
              "      <td>DNN (2 layers) w Embed + Dropout</td>\n",
              "      <td>0.081857</td>\n",
              "      <td>0.968794</td>\n",
              "      <td>0.889317</td>\n",
              "      <td>0.813499</td>\n",
              "      <td>0.807775</td>\n",
              "      <td>0.894177</td>\n",
              "      <td>35.832285</td>\n",
              "      <td>0.248716</td>\n",
              "    </tr>\n",
              "    <tr>\n",
              "      <th rowspan=\"3\" valign=\"top\">Exp 2</th>\n",
              "      <th>0</th>\n",
              "      <td>Simple RNN (64 units)</td>\n",
              "      <td>0.084814</td>\n",
              "      <td>0.968010</td>\n",
              "      <td>1.478557</td>\n",
              "      <td>0.611012</td>\n",
              "      <td>0.624190</td>\n",
              "      <td>1.429510</td>\n",
              "      <td>71.554030</td>\n",
              "      <td>0.751699</td>\n",
              "    </tr>\n",
              "    <tr>\n",
              "      <th>1</th>\n",
              "      <td>Simple RNN (100 units)</td>\n",
              "      <td>0.098973</td>\n",
              "      <td>0.966128</td>\n",
              "      <td>1.907632</td>\n",
              "      <td>0.531083</td>\n",
              "      <td>0.548596</td>\n",
              "      <td>1.814071</td>\n",
              "      <td>95.429328</td>\n",
              "      <td>0.966891</td>\n",
              "    </tr>\n",
              "    <tr>\n",
              "      <th>2</th>\n",
              "      <td>Simple RNN (32 units w/dropout)</td>\n",
              "      <td>0.412491</td>\n",
              "      <td>0.902619</td>\n",
              "      <td>1.318407</td>\n",
              "      <td>0.605684</td>\n",
              "      <td>0.616631</td>\n",
              "      <td>1.262339</td>\n",
              "      <td>58.333397</td>\n",
              "      <td>0.661645</td>\n",
              "    </tr>\n",
              "    <tr>\n",
              "      <th>Exp 3</th>\n",
              "      <th>9</th>\n",
              "      <td>LSTM RNN baseline</td>\n",
              "      <td>0.679019</td>\n",
              "      <td>0.788929</td>\n",
              "      <td>0.933482</td>\n",
              "      <td>0.730018</td>\n",
              "      <td>0.731102</td>\n",
              "      <td>0.934732</td>\n",
              "      <td>83.972107</td>\n",
              "      <td>0.956484</td>\n",
              "    </tr>\n",
              "    <tr>\n",
              "      <th rowspan=\"3\" valign=\"top\">Exp 4</th>\n",
              "      <th>0</th>\n",
              "      <td>1D CNN baseline</td>\n",
              "      <td>0.090988</td>\n",
              "      <td>0.967226</td>\n",
              "      <td>0.774481</td>\n",
              "      <td>0.820604</td>\n",
              "      <td>0.824514</td>\n",
              "      <td>0.783259</td>\n",
              "      <td>58.347607</td>\n",
              "      <td>0.553103</td>\n",
              "    </tr>\n",
              "    <tr>\n",
              "      <th>1</th>\n",
              "      <td>1D CNN baseline with Drop</td>\n",
              "      <td>0.087704</td>\n",
              "      <td>0.969265</td>\n",
              "      <td>0.761162</td>\n",
              "      <td>0.837478</td>\n",
              "      <td>0.835313</td>\n",
              "      <td>0.807538</td>\n",
              "      <td>59.383079</td>\n",
              "      <td>0.538955</td>\n",
              "    </tr>\n",
              "    <tr>\n",
              "      <th>2</th>\n",
              "      <td>1D CNN with Drop and max pooling</td>\n",
              "      <td>0.113593</td>\n",
              "      <td>0.966442</td>\n",
              "      <td>0.797259</td>\n",
              "      <td>0.833037</td>\n",
              "      <td>0.834773</td>\n",
              "      <td>0.783612</td>\n",
              "      <td>53.300984</td>\n",
              "      <td>0.395239</td>\n",
              "    </tr>\n",
              "  </tbody>\n",
              "</table>\n",
              "</div>"
            ],
            "text/plain": [
              "                                    model  ...  testing time (sec)\n",
              "Exp 1 0           DNN (2 layers) 9 topics  ...            0.130511\n",
              "      1            DNN (2 layers 256/256)  ...            0.346137\n",
              "      2             DNN (2 layers) w Drop  ...            0.148081\n",
              "      3      DNN (2 layers) w Drop and L1  ...            0.205867\n",
              "      4            DNN (2 layers) w Embed  ...            0.253090\n",
              "      5  DNN (2 layers) w Embed + Dropout  ...            0.248716\n",
              "Exp 2 0             Simple RNN (64 units)  ...            0.751699\n",
              "      1            Simple RNN (100 units)  ...            0.966891\n",
              "      2   Simple RNN (32 units w/dropout)  ...            0.661645\n",
              "Exp 3 9                 LSTM RNN baseline  ...            0.956484\n",
              "Exp 4 0                   1D CNN baseline  ...            0.553103\n",
              "      1         1D CNN baseline with Drop  ...            0.538955\n",
              "      2  1D CNN with Drop and max pooling  ...            0.395239\n",
              "\n",
              "[13 rows x 9 columns]"
            ]
          },
          "metadata": {
            "tags": []
          },
          "execution_count": 298
        }
      ]
    }
  ]
}